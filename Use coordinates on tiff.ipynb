{
 "cells": [
  {
   "cell_type": "code",
   "execution_count": 1,
   "metadata": {},
   "outputs": [],
   "source": [
    "import geopandas as gpd\n",
    "dsm = \"/Users/Jorg/3D_houses_data/DHMVIIDSMRAS1m_k01/GeoTIFF/DHMVIIDSMRAS1m_k01.tif\"\n",
    "dtm = \"/Users/Jorg/3D_houses_data/DHMVIIDTMRAS1m_k01/GeoTIFF/DHMVIIDTMRAS1m_k01.tif\"\n",
    "shapefile = gpd.read_file(\"/Users/Jorg/3D_houses_data/DHMVIIDTMRAS1m_k01/DHMVII_vdc_k01/DHMVII_vdc_k01.shp\")\n"
   ]
  },
  {
   "cell_type": "code",
   "execution_count": 8,
   "metadata": {},
   "outputs": [
    {
     "data": {
      "image/svg+xml": "<svg xmlns=\"http://www.w3.org/2000/svg\" xmlns:xlink=\"http://www.w3.org/1999/xlink\" width=\"100.0\" height=\"100.0\" viewBox=\"121444.11677871674 199532.05945572286 22.934361613704823 14.929305608733557\" preserveAspectRatio=\"xMinYMin meet\"><g transform=\"matrix(1,0,0,-1,0,399079.04821705446)\"><path fill-rule=\"evenodd\" fill=\"#66cc99\" stroke=\"#555555\" stroke-width=\"0.45868723227409647\" opacity=\"0.6\" d=\"M 121465.63794352859,199545.93402853236 L 121465.37227953225,199545.9234685339 L 121459.25586352497,199545.67969253287 L 121459.23755952716,199546.13934053108 L 121453.00024752319,199545.89204453304 L 121452.9961515218,199545.9920125343 L 121451.19967152178,199545.91854053363 L 121451.20376752317,199545.8185725324 L 121444.96619951725,199545.56090853363 L 121445.48895151913,199532.90887652338 L 121458.08927152306,199533.4747645259 L 121466.20171952993,199534.0245245248 L 121466.00920753181,199538.2773245275 L 121466.10911153257,199538.28103652596 L 121466.04319152981,199540.06343653053 L 121465.94322352856,199540.05972452834 L 121465.63794352859,199545.93402853236 z\" /></g></svg>",
      "text/plain": [
       "<shapely.geometry.polygon.Polygon at 0x123583130>"
      ]
     },
     "execution_count": 8,
     "metadata": {},
     "output_type": "execute_result"
    }
   ],
   "source": [
    "import requests\n",
    "import earthpy.plot as ep\n",
    "import json\n",
    "import numpy\n",
    "from shapely.geometry.polygon import Polygon\n",
    "\n",
    "\n",
    "#import rasterio as rio\n",
    "# Plotting extent is used to plot raster & vector data together\n",
    "#from rasterio.plot import show\n",
    "\n",
    "response4 = requests.get(\"https://api.basisregisters.vlaanderen.be/v1/gebouwen/7569832\").json()\n",
    "response4\n",
    "polygon_house = Polygon(response4[\"geometriePolygoon\"][\"polygon\"][\"coordinates\"][0])\n",
    "polygon_house"
   ]
  },
  {
   "cell_type": "code",
   "execution_count": 17,
   "metadata": {},
   "outputs": [
    {
     "ename": "ModuleNotFoundError",
     "evalue": "No module named 'georasters'",
     "output_type": "error",
     "traceback": [
      "\u001b[0;31m---------------------------------------------------------------------------\u001b[0m",
      "\u001b[0;31mModuleNotFoundError\u001b[0m                       Traceback (most recent call last)",
      "\u001b[1;32m/Users/Jorg/BeCode/3D_houses/Use coordinates on tiff.ipynb Cell 3'\u001b[0m in \u001b[0;36m<cell line: 1>\u001b[0;34m()\u001b[0m\n\u001b[0;32m----> <a href='vscode-notebook-cell:/Users/Jorg/BeCode/3D_houses/Use%20coordinates%20on%20tiff.ipynb#ch0000003?line=0'>1</a>\u001b[0m \u001b[39mimport\u001b[39;00m \u001b[39mgeorasters\u001b[39;00m \u001b[39mas\u001b[39;00m \u001b[39mgr\u001b[39;00m\n\u001b[1;32m      <a href='vscode-notebook-cell:/Users/Jorg/BeCode/3D_houses/Use%20coordinates%20on%20tiff.ipynb#ch0000003?line=1'>2</a>\u001b[0m [A,R] \u001b[39m=\u001b[39m readgeoraster(dsm);\n\u001b[1;32m      <a href='vscode-notebook-cell:/Users/Jorg/BeCode/3D_houses/Use%20coordinates%20on%20tiff.ipynb#ch0000003?line=2'>3</a>\u001b[0m info \u001b[39m=\u001b[39m geotiffinfo(dsm);\n",
      "\u001b[0;31mModuleNotFoundError\u001b[0m: No module named 'georasters'"
     ]
    }
   ],
   "source": [
    "import georasters as gr\n",
    "[A,R] = readgeoraster(dsm);\n",
    "info = geotiffinfo(dsm);\n",
    "[AY, AX, Z]= size (A);\n",
    "#height = info.Height; \n",
    "#width = info.Width; \n",
    "#[rows,cols] = meshgrid(1:height,1:width); \n",
    "[x,y] = pix2map(info.RefMatrix, rows, cols);\n",
    "[lat,lon] = projinv(info, x,y);"
   ]
  }
 ],
 "metadata": {
  "interpreter": {
   "hash": "aee8b7b246df8f9039afb4144a1f6fd8d2ca17a180786b69acc140d282b71a49"
  },
  "kernelspec": {
   "display_name": "Python 3.10.4 64-bit",
   "language": "python",
   "name": "python3"
  },
  "language_info": {
   "codemirror_mode": {
    "name": "ipython",
    "version": 3
   },
   "file_extension": ".py",
   "mimetype": "text/x-python",
   "name": "python",
   "nbconvert_exporter": "python",
   "pygments_lexer": "ipython3",
   "version": "3.10.4"
  },
  "orig_nbformat": 4
 },
 "nbformat": 4,
 "nbformat_minor": 2
}
