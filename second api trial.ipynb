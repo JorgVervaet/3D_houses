{
 "cells": [
  {
   "cell_type": "code",
   "execution_count": 54,
   "metadata": {},
   "outputs": [
    {
     "data": {
      "text/plain": [
       "{'LocationResult': [{'Municipality': 'Lokeren',\n",
       "   'Zipcode': '9160',\n",
       "   'Thoroughfarename': 'Hoogstraat',\n",
       "   'Housenumber': '146',\n",
       "   'ID': 1126242,\n",
       "   'FormattedAddress': 'Hoogstraat 146, 9160 Lokeren',\n",
       "   'Location': {'Lat_WGS84': 51.10529617014935,\n",
       "    'Lon_WGS84': 3.961153456170891,\n",
       "    'X_Lambert72': 121452.31,\n",
       "    'Y_Lambert72': 199545.21},\n",
       "   'LocationType': 'crab_huisnummer_manueleAanduidingVanIngangVanGebouw',\n",
       "   'BoundingBox': {'LowerLeft': {'Lat_WGS84': 51.10529617014935,\n",
       "     'Lon_WGS84': 3.961153456170891,\n",
       "     'X_Lambert72': 121452.31,\n",
       "     'Y_Lambert72': 199545.21},\n",
       "    'UpperRight': {'Lat_WGS84': 51.10529617014935,\n",
       "     'Lon_WGS84': 3.961153456170891,\n",
       "     'X_Lambert72': 121452.31,\n",
       "     'Y_Lambert72': 199545.21}}}]}"
      ]
     },
     "execution_count": 54,
     "metadata": {},
     "output_type": "execute_result"
    }
   ],
   "source": [
    "import requests\n",
    "adres = \"Hoogstraat 146, 9160 Lokeren\"\n",
    "response = requests.get(f\"https://loc.geopunt.be/v4/location?q={adres}\").json()\n",
    "response"
   ]
  },
  {
   "cell_type": "code",
   "execution_count": 45,
   "metadata": {},
   "outputs": [
    {
     "ename": "HTTPError",
     "evalue": "HTTP Error 400: Bad Request",
     "output_type": "error",
     "traceback": [
      "\u001b[0;31m---------------------------------------------------------------------------\u001b[0m",
      "\u001b[0;31mHTTPError\u001b[0m                                 Traceback (most recent call last)",
      "\u001b[1;32mUntitled-1.ipynb Cell 2'\u001b[0m in \u001b[0;36m<cell line: 8>\u001b[0;34m()\u001b[0m\n\u001b[1;32m      <a href='vscode-notebook-cell:Untitled-1.ipynb?jupyter-notebook#ch0000002untitled?line=5'>6</a>\u001b[0m url \u001b[39m=\u001b[39m \u001b[39m\"\u001b[39m\u001b[39mhttps://api.basisregisters.vlaanderen.be/v4/adressen?apikey=\u001b[39m\u001b[39m{response}\u001b[39;00m\u001b[39m\"\u001b[39m\n\u001b[1;32m      <a href='vscode-notebook-cell:Untitled-1.ipynb?jupyter-notebook#ch0000002untitled?line=6'>7</a>\u001b[0m \u001b[39m#url = \"https://api.basisregisters.vlaanderen.be/v1/adressen?apikey={response}\"\u001b[39;00m\n\u001b[0;32m----> <a href='vscode-notebook-cell:Untitled-1.ipynb?jupyter-notebook#ch0000002untitled?line=7'>8</a>\u001b[0m response \u001b[39m=\u001b[39m urlopen(url)\n\u001b[1;32m      <a href='vscode-notebook-cell:Untitled-1.ipynb?jupyter-notebook#ch0000002untitled?line=8'>9</a>\u001b[0m info \u001b[39m=\u001b[39m json\u001b[39m.\u001b[39mloads(response\u001b[39m.\u001b[39mread())\n\u001b[1;32m     <a href='vscode-notebook-cell:Untitled-1.ipynb?jupyter-notebook#ch0000002untitled?line=9'>10</a>\u001b[0m info\n",
      "File \u001b[0;32m/Library/Frameworks/Python.framework/Versions/3.10/lib/python3.10/urllib/request.py:216\u001b[0m, in \u001b[0;36murlopen\u001b[0;34m(url, data, timeout, cafile, capath, cadefault, context)\u001b[0m\n\u001b[1;32m    <a href='file:///Library/Frameworks/Python.framework/Versions/3.10/lib/python3.10/urllib/request.py?line=213'>214</a>\u001b[0m \u001b[39melse\u001b[39;00m:\n\u001b[1;32m    <a href='file:///Library/Frameworks/Python.framework/Versions/3.10/lib/python3.10/urllib/request.py?line=214'>215</a>\u001b[0m     opener \u001b[39m=\u001b[39m _opener\n\u001b[0;32m--> <a href='file:///Library/Frameworks/Python.framework/Versions/3.10/lib/python3.10/urllib/request.py?line=215'>216</a>\u001b[0m \u001b[39mreturn\u001b[39;00m opener\u001b[39m.\u001b[39;49mopen(url, data, timeout)\n",
      "File \u001b[0;32m/Library/Frameworks/Python.framework/Versions/3.10/lib/python3.10/urllib/request.py:525\u001b[0m, in \u001b[0;36mOpenerDirector.open\u001b[0;34m(self, fullurl, data, timeout)\u001b[0m\n\u001b[1;32m    <a href='file:///Library/Frameworks/Python.framework/Versions/3.10/lib/python3.10/urllib/request.py?line=522'>523</a>\u001b[0m \u001b[39mfor\u001b[39;00m processor \u001b[39min\u001b[39;00m \u001b[39mself\u001b[39m\u001b[39m.\u001b[39mprocess_response\u001b[39m.\u001b[39mget(protocol, []):\n\u001b[1;32m    <a href='file:///Library/Frameworks/Python.framework/Versions/3.10/lib/python3.10/urllib/request.py?line=523'>524</a>\u001b[0m     meth \u001b[39m=\u001b[39m \u001b[39mgetattr\u001b[39m(processor, meth_name)\n\u001b[0;32m--> <a href='file:///Library/Frameworks/Python.framework/Versions/3.10/lib/python3.10/urllib/request.py?line=524'>525</a>\u001b[0m     response \u001b[39m=\u001b[39m meth(req, response)\n\u001b[1;32m    <a href='file:///Library/Frameworks/Python.framework/Versions/3.10/lib/python3.10/urllib/request.py?line=526'>527</a>\u001b[0m \u001b[39mreturn\u001b[39;00m response\n",
      "File \u001b[0;32m/Library/Frameworks/Python.framework/Versions/3.10/lib/python3.10/urllib/request.py:634\u001b[0m, in \u001b[0;36mHTTPErrorProcessor.http_response\u001b[0;34m(self, request, response)\u001b[0m\n\u001b[1;32m    <a href='file:///Library/Frameworks/Python.framework/Versions/3.10/lib/python3.10/urllib/request.py?line=630'>631</a>\u001b[0m \u001b[39m# According to RFC 2616, \"2xx\" code indicates that the client's\u001b[39;00m\n\u001b[1;32m    <a href='file:///Library/Frameworks/Python.framework/Versions/3.10/lib/python3.10/urllib/request.py?line=631'>632</a>\u001b[0m \u001b[39m# request was successfully received, understood, and accepted.\u001b[39;00m\n\u001b[1;32m    <a href='file:///Library/Frameworks/Python.framework/Versions/3.10/lib/python3.10/urllib/request.py?line=632'>633</a>\u001b[0m \u001b[39mif\u001b[39;00m \u001b[39mnot\u001b[39;00m (\u001b[39m200\u001b[39m \u001b[39m<\u001b[39m\u001b[39m=\u001b[39m code \u001b[39m<\u001b[39m \u001b[39m300\u001b[39m):\n\u001b[0;32m--> <a href='file:///Library/Frameworks/Python.framework/Versions/3.10/lib/python3.10/urllib/request.py?line=633'>634</a>\u001b[0m     response \u001b[39m=\u001b[39m \u001b[39mself\u001b[39;49m\u001b[39m.\u001b[39;49mparent\u001b[39m.\u001b[39;49merror(\n\u001b[1;32m    <a href='file:///Library/Frameworks/Python.framework/Versions/3.10/lib/python3.10/urllib/request.py?line=634'>635</a>\u001b[0m         \u001b[39m'\u001b[39;49m\u001b[39mhttp\u001b[39;49m\u001b[39m'\u001b[39;49m, request, response, code, msg, hdrs)\n\u001b[1;32m    <a href='file:///Library/Frameworks/Python.framework/Versions/3.10/lib/python3.10/urllib/request.py?line=636'>637</a>\u001b[0m \u001b[39mreturn\u001b[39;00m response\n",
      "File \u001b[0;32m/Library/Frameworks/Python.framework/Versions/3.10/lib/python3.10/urllib/request.py:563\u001b[0m, in \u001b[0;36mOpenerDirector.error\u001b[0;34m(self, proto, *args)\u001b[0m\n\u001b[1;32m    <a href='file:///Library/Frameworks/Python.framework/Versions/3.10/lib/python3.10/urllib/request.py?line=560'>561</a>\u001b[0m \u001b[39mif\u001b[39;00m http_err:\n\u001b[1;32m    <a href='file:///Library/Frameworks/Python.framework/Versions/3.10/lib/python3.10/urllib/request.py?line=561'>562</a>\u001b[0m     args \u001b[39m=\u001b[39m (\u001b[39mdict\u001b[39m, \u001b[39m'\u001b[39m\u001b[39mdefault\u001b[39m\u001b[39m'\u001b[39m, \u001b[39m'\u001b[39m\u001b[39mhttp_error_default\u001b[39m\u001b[39m'\u001b[39m) \u001b[39m+\u001b[39m orig_args\n\u001b[0;32m--> <a href='file:///Library/Frameworks/Python.framework/Versions/3.10/lib/python3.10/urllib/request.py?line=562'>563</a>\u001b[0m     \u001b[39mreturn\u001b[39;00m \u001b[39mself\u001b[39;49m\u001b[39m.\u001b[39;49m_call_chain(\u001b[39m*\u001b[39;49margs)\n",
      "File \u001b[0;32m/Library/Frameworks/Python.framework/Versions/3.10/lib/python3.10/urllib/request.py:496\u001b[0m, in \u001b[0;36mOpenerDirector._call_chain\u001b[0;34m(self, chain, kind, meth_name, *args)\u001b[0m\n\u001b[1;32m    <a href='file:///Library/Frameworks/Python.framework/Versions/3.10/lib/python3.10/urllib/request.py?line=493'>494</a>\u001b[0m \u001b[39mfor\u001b[39;00m handler \u001b[39min\u001b[39;00m handlers:\n\u001b[1;32m    <a href='file:///Library/Frameworks/Python.framework/Versions/3.10/lib/python3.10/urllib/request.py?line=494'>495</a>\u001b[0m     func \u001b[39m=\u001b[39m \u001b[39mgetattr\u001b[39m(handler, meth_name)\n\u001b[0;32m--> <a href='file:///Library/Frameworks/Python.framework/Versions/3.10/lib/python3.10/urllib/request.py?line=495'>496</a>\u001b[0m     result \u001b[39m=\u001b[39m func(\u001b[39m*\u001b[39;49margs)\n\u001b[1;32m    <a href='file:///Library/Frameworks/Python.framework/Versions/3.10/lib/python3.10/urllib/request.py?line=496'>497</a>\u001b[0m     \u001b[39mif\u001b[39;00m result \u001b[39mis\u001b[39;00m \u001b[39mnot\u001b[39;00m \u001b[39mNone\u001b[39;00m:\n\u001b[1;32m    <a href='file:///Library/Frameworks/Python.framework/Versions/3.10/lib/python3.10/urllib/request.py?line=497'>498</a>\u001b[0m         \u001b[39mreturn\u001b[39;00m result\n",
      "File \u001b[0;32m/Library/Frameworks/Python.framework/Versions/3.10/lib/python3.10/urllib/request.py:643\u001b[0m, in \u001b[0;36mHTTPDefaultErrorHandler.http_error_default\u001b[0;34m(self, req, fp, code, msg, hdrs)\u001b[0m\n\u001b[1;32m    <a href='file:///Library/Frameworks/Python.framework/Versions/3.10/lib/python3.10/urllib/request.py?line=641'>642</a>\u001b[0m \u001b[39mdef\u001b[39;00m \u001b[39mhttp_error_default\u001b[39m(\u001b[39mself\u001b[39m, req, fp, code, msg, hdrs):\n\u001b[0;32m--> <a href='file:///Library/Frameworks/Python.framework/Versions/3.10/lib/python3.10/urllib/request.py?line=642'>643</a>\u001b[0m     \u001b[39mraise\u001b[39;00m HTTPError(req\u001b[39m.\u001b[39mfull_url, code, msg, hdrs, fp)\n",
      "\u001b[0;31mHTTPError\u001b[0m: HTTP Error 400: Bad Request"
     ]
    }
   ],
   "source": [
    "import requests\n",
    "import json\n",
    "from urllib.request import urlopen\n",
    "\n",
    "adres = \"Hoogstraat 146, 9160 Lokeren\"\n",
    "url = \"https://api.basisregisters.vlaanderen.be/v4/adressen?apikey={response}\"\n",
    "#url = \"https://api.basisregisters.vlaanderen.be/v1/adressen?apikey={response}\"\n",
    "response = urlopen(url)\n",
    "info = json.loads(response.read())\n",
    "info"
   ]
  },
  {
   "cell_type": "code",
   "execution_count": 55,
   "metadata": {},
   "outputs": [
    {
     "data": {
      "text/plain": [
       "'{\\n  \"type\": \"urn:be.vlaanderen.basisregisters.api:forbidden\",\\n  \"title\": \"Er heeft zich een fout voorgedaan!\",\\n  \"detail\": \"U beschikt niet over de correcte rechten.\",\\n  \"status\": \"403\",\\n  \"instance\": \"https://api.basisregisters.vlaanderen.be/v1/foutmeldingen/missing_authentication_token\"\\n}\\n'"
      ]
     },
     "execution_count": 55,
     "metadata": {},
     "output_type": "execute_result"
    }
   ],
   "source": [
    "import requests\n",
    "response2 = requests.get(\"https://api.basisregisters.vlaanderen.be/(v4/location?q={response}\")\n",
    "response2.text\n"
   ]
  },
  {
   "cell_type": "code",
   "execution_count": 69,
   "metadata": {},
   "outputs": [
    {
     "data": {
      "text/plain": [
       "'<!DOCTYPE html>\\n<html>\\n<head>\\n  <meta charset=\"utf-8\">\\n  <meta http-equiv=\"Content-Type\" content=\"text/html; charset=utf-8\">\\n  <meta http-equiv=\"X-UA-Compatible\" content=\"ie=edge,chrome=1\">\\n  <meta http-equiv=\"Content-Security-Policy\" content=\"upgrade-insecure-requests\">\\n  <meta name=\"MobileOptimized\" content=\"width\">\\n  <meta name=\"HandheldFriendly\" content=\"true\">\\n  <meta name=\"viewport\" content=\"width=device-width, initial-scale=1, maximum-scale=1.0\">\\n  <meta http-equiv=\"cleartype\" content=\"on\">\\n\\n  <title>Basisregisters Vlaanderen - API 2022-05-30</title>\\n  <meta name=\"description\" content=\"Een stelsel van authentieke gegevensbronnen van de Vlaamse Overheid.\">\\n\\n  <link href=\"styles/vlaanderen.css\" rel=\"stylesheet\" />\\n  <link href=\"styles/redoc-content.css\" rel=\"stylesheet\" />\\n\\n  <link rel=\"icon\" type=\"image/png\" sizes=\"194x194\" href=\"favicon-194x194.png?v=gAElMxQYY\">\\n  <link rel=\"icon\" type=\"image/png\" sizes=\"192x192\" href=\"android-chrome-192x192.png?v=gAElMxQYY\">\\n  <link rel=\"icon\" type=\"image/png\" sizes=\"32x32\" href=\"favicon-32x32.png?v=gAElMxQYY\">\\n  <link rel=\"icon\" type=\"image/png\" sizes=\"16x16\" href=\"favicon-16x16.png?v=gAElMxQYY\">\\n  <link rel=\"apple-touch-icon\" sizes=\"180x180\" href=\"apple-touch-icon.png?v=gAElMxQYY\">\\n  <link rel=\"mask-icon\" color=\"#ffffff\" href=\"safari-pinned-tab.svg?v=gAElMxQYY\">\\n  <link rel=\"shortcut icon\" href=\"favicon.ico?v=gAElMxQYY\">\\n  <link rel=\"manifest\" href=\"manifest.json?v=gAElMxQYY\">\\n  <meta name=\"apple-mobile-web-app-title\" content=\"Basisregisters Vlaanderen\">\\n  <meta name=\"application-name\" content=\"Basisregisters Vlaanderen\">\\n  <meta name=\"msapplication-TileColor\" content=\"#ffe615\">\\n  <meta name=\"msapplication-TileImage\" content=\"mstile-144x144.png?v=gAElMxQYY\">\\n  <meta name=\"msapplication-config\" content=\"browserconfig.xml?v=gAElMxQYY\">\\n  <meta name=\"theme-color\" content=\"#ffe615\">\\n\\n  \\n                            <style>\\n                                input.search-input {\\n                                    border-bottom: 0px\\n                                }\\n\\n                                ul[role=\"navigation\"] + div {\\n                                    display: none;\\n                                }\\n\\n                                div[data-section-id] {\\n                                    padding: 15px 0px;\\n                                }\\n\\n                                li[data-item-id=\"section/Introductie\"],\\n                                li[data-item-id=\"tag/Gemeenten\"],\\n                                li[data-item-id=\"tag/CRAB-Huisnummers\"]\\n                                {\\n                                    border-top: 1px solid rgb(225, 225, 225);\\n                                }\\n                            </style>\\n</head>\\n<body>\\n  <header id=\"vlaanderen-top\">\\n    <div id=\"vlaanderen-navigation\">\\n      <a id=\"vlaanderen-link\" href=\"https://www.vlaanderen.be/nl\" target=\"_self\">\\n        <div id=\"vlaanderen-top-logo\"></div>\\n        <span>Vlaanderen</span>\\n      </a>\\n      <div id=\"home-navigation\">\\n        <a href=\"https://basisregisters.vlaanderen.be/\" id=\"home-link\">\\n          <span>Basisregisters Vlaanderen</span>\\n        </a>\\n      </div>\\n    </div>\\n  </header>\\n\\n  <div id=\"redoc-container\"></div>\\n\\n  <footer>\\n    <div style=\"height: 0; width: 0; position: absolute; visibility: hidden; display: none;\">\\n      <svg xmlns=\"http://www.w3.org/2000/svg\"><symbol id=\"vlaanderen-logo\" viewBox=\"0 0 19.61 31.05\"><title>vlaanderen-logo</title><path data-name=\"Logo Vlaanderen\" d=\"M19.61 16c-1.08-.82-1.59 0-2.27 0s-1.12-1-1.56-.75c-.85.43.34 2 .86 2.27a12.51 12.51 0 0 0 1.18.59 1.72 1.72 0 0 1 1 1.55 3 3 0 0 1 0 .75c-.31 1.32-2.64 2.52-4 1.61a3 3 0 0 1-1.4-2c-.36-1.73-1.62-3-2-4.7-.25-1-.43-2.12-.7-3.15S10.17 10 9.94 9A27.44 27.44 0 0 0 9 5.92C7.71 2.61 7.14 2.85 7.14 2.85s.46.92 2.15 9A47.8 47.8 0 0 0 10.42 17c.16.42.44 1.32.62 1.72.54 1.16 2 2.92 2.05 4.51.05.92.16 1.68.18 2.37a7.37 7.37 0 0 0 .24 1.4c.35 1 3.14 4.09 6.1 4.09v-2.41a10.88 10.88 0 0 1-5.79-1.82 6.37 6.37 0 0 1 .35-1.7 2.78 2.78 0 0 1 2.39-1.94 17.91 17.91 0 0 1 3 .31V16zM6.82 7.36c-.11 1.77-2.87 4.2-3.73 5.75A11.43 11.43 0 0 0 2 15.95a7.53 7.53 0 0 0 .62 4.67c.91 2.18-.12 3 .59 2.54.88-.72.75-2.39.68-3.43a14.77 14.77 0 0 1 0-2.82 13.29 13.29 0 0 1 2.41-5.33 4.84 4.84 0 0 0 .52-4.22m.56 5s.29 1.4-1 5c-3.26 9.45 3 10.34 4.74 12.56 0 0 .69-1-2.14-4-1-1.12-2-3.6-1.15-7.15 1.17-5.13-.5-6.39-.5-6.39M1.21 6.2A4.53 4.53 0 0 1 1 4.7c.2-2.22 2.23-3.12 2.73-3.45A2.7 2.7 0 0 0 4.76 0a3 3 0 0 1-1.21 3.67A6.06 6.06 0 0 0 1.21 6.2m5.11-2.15c.11.23 1 1.45-2.48 4.27s-2.36 4.84-2.36 4.84-3.66-2 .56-5.53 3.35-4.2 3.35-4.2a1.05 1.05 0 0 1 .93.63m4.46 1.08c.59.08 1 1.92 2.35 2.32 1 .29 2.08.13 2.32.74a.52.52 0 0 0 .37.92c.39-1.12.58-5.24-5.03-3.98zm1.86.86c0-.13.12 0 .27-.12a1.66 1.66 0 0 1 .59-.48 1 1 0 0 1 .62 0c.12 0 0 .33 0 .4s-.74-.09-.74.32c0 .67.91 0 1.38 0 .23 1.64-2.48 1.19-2.08-.16z\"></path></symbol></svg>\\n    </div>\\n    <div id=\"vlaanderen-footer\">\\n      <div id=\"vlaanderen-footer-logo\">\\n        <svg>\\n          <use xmlns:xlink=\"http://www.w3.org/1999/xlink\" xlink:href=\"#vlaanderen-logo\"></use>\\n        </svg>\\n        <div id=\"vlaanderen-footer-logo-text\">\\n          <div id=\"vlaanderen-footer-logo-title\">Vlaanderen</div>\\n          <div id=\"vlaanderen-footer-logo-tagline\">verbeelding werkt</div>\\n        </div>\\n      </div>\\n      <div id=\"vlaanderen-footer-info\">\\n        <div id=\"vlaanderen-footer-info-title\">Dit is een officiÃ«le website van de Vlaamse overheid</div>\\n        <div id=\"vlaanderen-footer-info-publisher\">\\n          <span>uitgegeven door</span>\\n          <span itemprop=\"publisher\" itemscope=\"\" itemtype=\"http://schema.org/Organization\">\\n            <a itemprop=\"url\" href=\"https://www.vlaanderen.be/nl/contact/adressengids/diensten-van-de-vlaamse-overheid/administratieve-diensten-van-de-vlaamse-overheid/beleidsdomein-kanselarij-en-bestuur/agentschap-informatie-vlaanderen\" target=\"_self\">\\n              <span itemprop=\"name\">Digitaal Vlaanderen</span></a><span id=\"vbrVersion\">, versie 5.4.1</span>\\n          </span>\\n        </div>\\n      </div>\\n    </div>\\n  </footer>\\n\\n  <script src=\"redoc.standalone.js\"></script>\\n  <script type=\"text/javascript\">\\n    let options = JSON.parse(\\'{\"scrollYOffset\":\"#vlaanderen-top\",\"noAutoAuth\":true,\"lazyRendering\":true,\"menuToggle\":true,\"hideLoading\":true}\\');\\n\\n    Redoc.init(\\n      \\'/docs/v1/docs.json?culture=en-GB\\',\\n      options,\\n      document.getElementById(\\'redoc-container\\')\\n    );\\n  </script>\\n</body>\\n</html>\\n'"
      ]
     },
     "execution_count": 69,
     "metadata": {},
     "output_type": "execute_result"
    }
   ],
   "source": [
    "import requests\n",
    "import earthpy.plot as ep\n",
    "\n",
    "response2 = requests.get(\"https://docs.basisregisters.vlaanderen.be/docs/api-documentation.html#operation/AddressMatch:[+{adres}]\")\n",
    "response2.text\n"
   ]
  },
  {
   "cell_type": "code",
   "execution_count": 86,
   "metadata": {},
   "outputs": [
    {
     "data": {
      "text/plain": [
       "{'type': 'urn:be.vlaanderen.basisregisters.api:forbidden',\n",
       " 'title': 'Er heeft zich een fout voorgedaan!',\n",
       " 'detail': 'U beschikt niet over de correcte rechten.',\n",
       " 'status': '403',\n",
       " 'instance': 'https://api.basisregisters.vlaanderen.be/v1/foutmeldingen/missing_authentication_token'}"
      ]
     },
     "execution_count": 86,
     "metadata": {},
     "output_type": "execute_result"
    }
   ],
   "source": [
    "import requests\n",
    "import earthpy.plot as ep\n",
    "import json\n",
    "\n",
    "adres_api = {\"straatnaam\": \"Hoogstraat\", \"huisnummer\": 146, \"postcode\": 9160}\n",
    "api_url = \"https://api.basisregisters.vlaanderen.be/v1/addressmatch\"\n",
    "response3 = requests.get(url = api_url, params = adres_api).json()\n",
    "response3"
   ]
  },
  {
   "cell_type": "code",
   "execution_count": 87,
   "metadata": {},
   "outputs": [
    {
     "ename": "SyntaxError",
     "evalue": "invalid syntax (2998505996.py, line 10)",
     "output_type": "error",
     "traceback": [
      "\u001b[0;36m  Input \u001b[0;32mIn [87]\u001b[0;36m\u001b[0m\n\u001b[0;31m    https://docs.basisregisters.vlaanderen.be/docs/api-documentation.html/operation/AddressMatch\u001b[0m\n\u001b[0m          ^\u001b[0m\n\u001b[0;31mSyntaxError\u001b[0m\u001b[0;31m:\u001b[0m invalid syntax\n"
     ]
    }
   ],
   "source": [
    "import requests\n",
    "import earthpy.plot as ep\n",
    "import json\n",
    "\n",
    "adres_api = {\"straatnaam\": \"Hoogstraat\", \"huisnummer\": 146, \"postcode\": 9160}\n",
    "api_url = \"https://docs.basisregisters.vlaanderen.be/docs/api-documentation.html/operation/AddressMatch\"\n",
    "response3 = requests.get(url = api_url, params = adres_api).json()\n",
    "response3\n",
    "\n",
    "https://docs.basisregisters.vlaanderen.be/docs/api-documentation.html/operation/AddressMatch"
   ]
  },
  {
   "cell_type": "code",
   "execution_count": null,
   "metadata": {},
   "outputs": [],
   "source": []
  }
 ],
 "metadata": {
  "interpreter": {
   "hash": "aee8b7b246df8f9039afb4144a1f6fd8d2ca17a180786b69acc140d282b71a49"
  },
  "kernelspec": {
   "display_name": "Python 3.10.4 64-bit",
   "language": "python",
   "name": "python3"
  },
  "language_info": {
   "codemirror_mode": {
    "name": "ipython",
    "version": 3
   },
   "file_extension": ".py",
   "mimetype": "text/x-python",
   "name": "python",
   "nbconvert_exporter": "python",
   "pygments_lexer": "ipython3",
   "version": "3.10.4"
  },
  "orig_nbformat": 4
 },
 "nbformat": 4,
 "nbformat_minor": 2
}
