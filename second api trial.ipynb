{
 "cells": [
  {
   "cell_type": "code",
   "execution_count": 1,
   "metadata": {},
   "outputs": [
    {
     "data": {
      "text/plain": [
       "{'LocationResult': [{'Municipality': 'Lokeren',\n",
       "   'Zipcode': '9160',\n",
       "   'Thoroughfarename': 'Hoogstraat',\n",
       "   'Housenumber': '146',\n",
       "   'ID': 1126242,\n",
       "   'FormattedAddress': 'Hoogstraat 146, 9160 Lokeren',\n",
       "   'Location': {'Lat_WGS84': 51.10529617014935,\n",
       "    'Lon_WGS84': 3.961153456170891,\n",
       "    'X_Lambert72': 121452.31,\n",
       "    'Y_Lambert72': 199545.21},\n",
       "   'LocationType': 'crab_huisnummer_manueleAanduidingVanIngangVanGebouw',\n",
       "   'BoundingBox': {'LowerLeft': {'Lat_WGS84': 51.10529617014935,\n",
       "     'Lon_WGS84': 3.961153456170891,\n",
       "     'X_Lambert72': 121452.31,\n",
       "     'Y_Lambert72': 199545.21},\n",
       "    'UpperRight': {'Lat_WGS84': 51.10529617014935,\n",
       "     'Lon_WGS84': 3.961153456170891,\n",
       "     'X_Lambert72': 121452.31,\n",
       "     'Y_Lambert72': 199545.21}}}]}"
      ]
     },
     "execution_count": 1,
     "metadata": {},
     "output_type": "execute_result"
    }
   ],
   "source": [
    "import requests\n",
    "adres = \"Hoogstraat 146, 9160 Lokeren\"\n",
    "response = requests.get(f\"https://loc.geopunt.be/v4/location?q={adres}\").json()\n",
    "response"
   ]
  },
  {
   "cell_type": "code",
   "execution_count": 4,
   "metadata": {},
   "outputs": [
    {
     "data": {
      "text/plain": [
       "{'adresMatches': [{'identificator': {'id': 'https://data.vlaanderen.be/id/adres/1302241',\n",
       "    'naamruimte': 'https://data.vlaanderen.be/id/adres',\n",
       "    'objectId': '1302241',\n",
       "    'versieId': '2016-02-01T10:24:37+01:00'},\n",
       "   'detail': 'https://api.basisregisters.vlaanderen.be/v1/adressen/1302241',\n",
       "   'gemeente': {'objectId': '46014',\n",
       "    'detail': 'https://api.basisregisters.vlaanderen.be/v1/gemeenten/46014',\n",
       "    'gemeentenaam': {'geografischeNaam': {'spelling': 'Lokeren',\n",
       "      'taal': 'nl'}}},\n",
       "   'postinfo': {'objectId': '9160',\n",
       "    'detail': 'https://api.basisregisters.vlaanderen.be/v1/postinfo/9160'},\n",
       "   'straatnaam': {'objectId': '77064',\n",
       "    'detail': 'https://api.basisregisters.vlaanderen.be/v1/straatnamen/77064',\n",
       "    'straatnaam': {'geografischeNaam': {'spelling': 'Hoogstraat',\n",
       "      'taal': 'nl'}}},\n",
       "   'huisnummer': '146',\n",
       "   'volledigAdres': {'geografischeNaam': {'spelling': 'Hoogstraat 146, 9160 Lokeren',\n",
       "     'taal': 'nl'}},\n",
       "   'adresPositie': {'point': {'coordinates': [121452.31, 199545.21],\n",
       "     'type': 'Point'}},\n",
       "   'positieSpecificatie': 'ingang',\n",
       "   'positieGeometrieMethode': 'aangeduidDoorBeheerder',\n",
       "   'adresStatus': 'inGebruik',\n",
       "   'officieelToegekend': True,\n",
       "   'adresseerbareObjecten': [{'objectType': 'gebouweenheid',\n",
       "     'objectId': '7570694',\n",
       "     'detail': 'https://api.basisregisters.vlaanderen.be/v1/gebouweenheden/7570694'},\n",
       "    {'objectType': 'perceel',\n",
       "     'objectId': '46383D1389-00L000',\n",
       "     'detail': 'https://api.basisregisters.vlaanderen.be/v1/percelen/46383D1389-00L000'}],\n",
       "   'score': 100.0},\n",
       "  {'identificator': {'id': 'https://data.vlaanderen.be/id/adres/4423211',\n",
       "    'naamruimte': 'https://data.vlaanderen.be/id/adres',\n",
       "    'objectId': '4423211',\n",
       "    'versieId': '2016-02-01T10:24:37+01:00'},\n",
       "   'detail': 'https://api.basisregisters.vlaanderen.be/v1/adressen/4423211',\n",
       "   'gemeente': {'objectId': '46014',\n",
       "    'detail': 'https://api.basisregisters.vlaanderen.be/v1/gemeenten/46014',\n",
       "    'gemeentenaam': {'geografischeNaam': {'spelling': 'Lokeren',\n",
       "      'taal': 'nl'}}},\n",
       "   'postinfo': {'objectId': '9160',\n",
       "    'detail': 'https://api.basisregisters.vlaanderen.be/v1/postinfo/9160'},\n",
       "   'straatnaam': {'objectId': '77064',\n",
       "    'detail': 'https://api.basisregisters.vlaanderen.be/v1/straatnamen/77064',\n",
       "    'straatnaam': {'geografischeNaam': {'spelling': 'Hoogstraat',\n",
       "      'taal': 'nl'}}},\n",
       "   'huisnummer': '146',\n",
       "   'busnummer': '1',\n",
       "   'volledigAdres': {'geografischeNaam': {'spelling': 'Hoogstraat 146 bus 1, 9160 Lokeren',\n",
       "     'taal': 'nl'}},\n",
       "   'adresPositie': {'point': {'coordinates': [121452.31, 199545.21],\n",
       "     'type': 'Point'}},\n",
       "   'positieSpecificatie': 'ingang',\n",
       "   'positieGeometrieMethode': 'aangeduidDoorBeheerder',\n",
       "   'adresStatus': 'inGebruik',\n",
       "   'officieelToegekend': True,\n",
       "   'adresseerbareObjecten': [{'objectType': 'gebouweenheid',\n",
       "     'objectId': '7570702',\n",
       "     'detail': 'https://api.basisregisters.vlaanderen.be/v1/gebouweenheden/7570702'},\n",
       "    {'objectType': 'perceel',\n",
       "     'objectId': '46383D1389-00L000',\n",
       "     'detail': 'https://api.basisregisters.vlaanderen.be/v1/percelen/46383D1389-00L000'}],\n",
       "   'score': 89.3939393939394},\n",
       "  {'identificator': {'id': 'https://data.vlaanderen.be/id/adres/4614542',\n",
       "    'naamruimte': 'https://data.vlaanderen.be/id/adres',\n",
       "    'objectId': '4614542',\n",
       "    'versieId': '2016-02-01T10:24:37+01:00'},\n",
       "   'detail': 'https://api.basisregisters.vlaanderen.be/v1/adressen/4614542',\n",
       "   'gemeente': {'objectId': '46014',\n",
       "    'detail': 'https://api.basisregisters.vlaanderen.be/v1/gemeenten/46014',\n",
       "    'gemeentenaam': {'geografischeNaam': {'spelling': 'Lokeren',\n",
       "      'taal': 'nl'}}},\n",
       "   'postinfo': {'objectId': '9160',\n",
       "    'detail': 'https://api.basisregisters.vlaanderen.be/v1/postinfo/9160'},\n",
       "   'straatnaam': {'objectId': '77064',\n",
       "    'detail': 'https://api.basisregisters.vlaanderen.be/v1/straatnamen/77064',\n",
       "    'straatnaam': {'geografischeNaam': {'spelling': 'Hoogstraat',\n",
       "      'taal': 'nl'}}},\n",
       "   'huisnummer': '146',\n",
       "   'busnummer': '2',\n",
       "   'volledigAdres': {'geografischeNaam': {'spelling': 'Hoogstraat 146 bus 2, 9160 Lokeren',\n",
       "     'taal': 'nl'}},\n",
       "   'adresPositie': {'point': {'coordinates': [121452.31, 199545.21],\n",
       "     'type': 'Point'}},\n",
       "   'positieSpecificatie': 'ingang',\n",
       "   'positieGeometrieMethode': 'aangeduidDoorBeheerder',\n",
       "   'adresStatus': 'inGebruik',\n",
       "   'officieelToegekend': True,\n",
       "   'adresseerbareObjecten': [{'objectType': 'gebouweenheid',\n",
       "     'objectId': '7570698',\n",
       "     'detail': 'https://api.basisregisters.vlaanderen.be/v1/gebouweenheden/7570698'},\n",
       "    {'objectType': 'perceel',\n",
       "     'objectId': '46383D1389-00L000',\n",
       "     'detail': 'https://api.basisregisters.vlaanderen.be/v1/percelen/46383D1389-00L000'}],\n",
       "   'score': 89.3939393939394},\n",
       "  {'identificator': {'id': 'https://data.vlaanderen.be/id/adres/4496169',\n",
       "    'naamruimte': 'https://data.vlaanderen.be/id/adres',\n",
       "    'objectId': '4496169',\n",
       "    'versieId': '2016-02-01T10:24:37+01:00'},\n",
       "   'detail': 'https://api.basisregisters.vlaanderen.be/v1/adressen/4496169',\n",
       "   'gemeente': {'objectId': '46014',\n",
       "    'detail': 'https://api.basisregisters.vlaanderen.be/v1/gemeenten/46014',\n",
       "    'gemeentenaam': {'geografischeNaam': {'spelling': 'Lokeren',\n",
       "      'taal': 'nl'}}},\n",
       "   'postinfo': {'objectId': '9160',\n",
       "    'detail': 'https://api.basisregisters.vlaanderen.be/v1/postinfo/9160'},\n",
       "   'straatnaam': {'objectId': '77064',\n",
       "    'detail': 'https://api.basisregisters.vlaanderen.be/v1/straatnamen/77064',\n",
       "    'straatnaam': {'geografischeNaam': {'spelling': 'Hoogstraat',\n",
       "      'taal': 'nl'}}},\n",
       "   'huisnummer': '146',\n",
       "   'busnummer': '101',\n",
       "   'volledigAdres': {'geografischeNaam': {'spelling': 'Hoogstraat 146 bus 101, 9160 Lokeren',\n",
       "     'taal': 'nl'}},\n",
       "   'adresPositie': {'point': {'coordinates': [121452.31, 199545.21],\n",
       "     'type': 'Point'}},\n",
       "   'positieSpecificatie': 'ingang',\n",
       "   'positieGeometrieMethode': 'aangeduidDoorBeheerder',\n",
       "   'adresStatus': 'inGebruik',\n",
       "   'officieelToegekend': True,\n",
       "   'adresseerbareObjecten': [{'objectType': 'gebouweenheid',\n",
       "     'objectId': '7570700',\n",
       "     'detail': 'https://api.basisregisters.vlaanderen.be/v1/gebouweenheden/7570700'},\n",
       "    {'objectType': 'perceel',\n",
       "     'objectId': '46383D1389-00L000',\n",
       "     'detail': 'https://api.basisregisters.vlaanderen.be/v1/percelen/46383D1389-00L000'}],\n",
       "   'score': 89.3939393939394},\n",
       "  {'identificator': {'id': 'https://data.vlaanderen.be/id/adres/4368344',\n",
       "    'naamruimte': 'https://data.vlaanderen.be/id/adres',\n",
       "    'objectId': '4368344',\n",
       "    'versieId': '2016-02-01T10:24:37+01:00'},\n",
       "   'detail': 'https://api.basisregisters.vlaanderen.be/v1/adressen/4368344',\n",
       "   'gemeente': {'objectId': '46014',\n",
       "    'detail': 'https://api.basisregisters.vlaanderen.be/v1/gemeenten/46014',\n",
       "    'gemeentenaam': {'geografischeNaam': {'spelling': 'Lokeren',\n",
       "      'taal': 'nl'}}},\n",
       "   'postinfo': {'objectId': '9160',\n",
       "    'detail': 'https://api.basisregisters.vlaanderen.be/v1/postinfo/9160'},\n",
       "   'straatnaam': {'objectId': '77064',\n",
       "    'detail': 'https://api.basisregisters.vlaanderen.be/v1/straatnamen/77064',\n",
       "    'straatnaam': {'geografischeNaam': {'spelling': 'Hoogstraat',\n",
       "      'taal': 'nl'}}},\n",
       "   'huisnummer': '146',\n",
       "   'busnummer': '102',\n",
       "   'volledigAdres': {'geografischeNaam': {'spelling': 'Hoogstraat 146 bus 102, 9160 Lokeren',\n",
       "     'taal': 'nl'}},\n",
       "   'adresPositie': {'point': {'coordinates': [121452.31, 199545.21],\n",
       "     'type': 'Point'}},\n",
       "   'positieSpecificatie': 'ingang',\n",
       "   'positieGeometrieMethode': 'aangeduidDoorBeheerder',\n",
       "   'adresStatus': 'inGebruik',\n",
       "   'officieelToegekend': True,\n",
       "   'adresseerbareObjecten': [{'objectType': 'gebouweenheid',\n",
       "     'objectId': '7570703',\n",
       "     'detail': 'https://api.basisregisters.vlaanderen.be/v1/gebouweenheden/7570703'},\n",
       "    {'objectType': 'perceel',\n",
       "     'objectId': '46383D1389-00L000',\n",
       "     'detail': 'https://api.basisregisters.vlaanderen.be/v1/percelen/46383D1389-00L000'}],\n",
       "   'score': 89.3939393939394},\n",
       "  {'identificator': {'id': 'https://data.vlaanderen.be/id/adres/4549031',\n",
       "    'naamruimte': 'https://data.vlaanderen.be/id/adres',\n",
       "    'objectId': '4549031',\n",
       "    'versieId': '2016-02-01T10:24:37+01:00'},\n",
       "   'detail': 'https://api.basisregisters.vlaanderen.be/v1/adressen/4549031',\n",
       "   'gemeente': {'objectId': '46014',\n",
       "    'detail': 'https://api.basisregisters.vlaanderen.be/v1/gemeenten/46014',\n",
       "    'gemeentenaam': {'geografischeNaam': {'spelling': 'Lokeren',\n",
       "      'taal': 'nl'}}},\n",
       "   'postinfo': {'objectId': '9160',\n",
       "    'detail': 'https://api.basisregisters.vlaanderen.be/v1/postinfo/9160'},\n",
       "   'straatnaam': {'objectId': '77064',\n",
       "    'detail': 'https://api.basisregisters.vlaanderen.be/v1/straatnamen/77064',\n",
       "    'straatnaam': {'geografischeNaam': {'spelling': 'Hoogstraat',\n",
       "      'taal': 'nl'}}},\n",
       "   'huisnummer': '146',\n",
       "   'busnummer': '201',\n",
       "   'volledigAdres': {'geografischeNaam': {'spelling': 'Hoogstraat 146 bus 201, 9160 Lokeren',\n",
       "     'taal': 'nl'}},\n",
       "   'adresPositie': {'point': {'coordinates': [121452.31, 199545.21],\n",
       "     'type': 'Point'}},\n",
       "   'positieSpecificatie': 'ingang',\n",
       "   'positieGeometrieMethode': 'aangeduidDoorBeheerder',\n",
       "   'adresStatus': 'inGebruik',\n",
       "   'officieelToegekend': True,\n",
       "   'adresseerbareObjecten': [{'objectType': 'gebouweenheid',\n",
       "     'objectId': '7570701',\n",
       "     'detail': 'https://api.basisregisters.vlaanderen.be/v1/gebouweenheden/7570701'},\n",
       "    {'objectType': 'perceel',\n",
       "     'objectId': '46383D1389-00L000',\n",
       "     'detail': 'https://api.basisregisters.vlaanderen.be/v1/percelen/46383D1389-00L000'}],\n",
       "   'score': 89.3939393939394},\n",
       "  {'identificator': {'id': 'https://data.vlaanderen.be/id/adres/4562989',\n",
       "    'naamruimte': 'https://data.vlaanderen.be/id/adres',\n",
       "    'objectId': '4562989',\n",
       "    'versieId': '2016-02-01T10:24:37+01:00'},\n",
       "   'detail': 'https://api.basisregisters.vlaanderen.be/v1/adressen/4562989',\n",
       "   'gemeente': {'objectId': '46014',\n",
       "    'detail': 'https://api.basisregisters.vlaanderen.be/v1/gemeenten/46014',\n",
       "    'gemeentenaam': {'geografischeNaam': {'spelling': 'Lokeren',\n",
       "      'taal': 'nl'}}},\n",
       "   'postinfo': {'objectId': '9160',\n",
       "    'detail': 'https://api.basisregisters.vlaanderen.be/v1/postinfo/9160'},\n",
       "   'straatnaam': {'objectId': '77064',\n",
       "    'detail': 'https://api.basisregisters.vlaanderen.be/v1/straatnamen/77064',\n",
       "    'straatnaam': {'geografischeNaam': {'spelling': 'Hoogstraat',\n",
       "      'taal': 'nl'}}},\n",
       "   'huisnummer': '146',\n",
       "   'busnummer': '202',\n",
       "   'volledigAdres': {'geografischeNaam': {'spelling': 'Hoogstraat 146 bus 202, 9160 Lokeren',\n",
       "     'taal': 'nl'}},\n",
       "   'adresPositie': {'point': {'coordinates': [121452.31, 199545.21],\n",
       "     'type': 'Point'}},\n",
       "   'positieSpecificatie': 'ingang',\n",
       "   'positieGeometrieMethode': 'aangeduidDoorBeheerder',\n",
       "   'adresStatus': 'inGebruik',\n",
       "   'officieelToegekend': True,\n",
       "   'adresseerbareObjecten': [{'objectType': 'gebouweenheid',\n",
       "     'objectId': '7570699',\n",
       "     'detail': 'https://api.basisregisters.vlaanderen.be/v1/gebouweenheden/7570699'},\n",
       "    {'objectType': 'perceel',\n",
       "     'objectId': '46383D1389-00L000',\n",
       "     'detail': 'https://api.basisregisters.vlaanderen.be/v1/percelen/46383D1389-00L000'}],\n",
       "   'score': 89.3939393939394}],\n",
       " 'warnings': []}"
      ]
     },
     "execution_count": 4,
     "metadata": {},
     "output_type": "execute_result"
    }
   ],
   "source": [
    "import requests\n",
    "import earthpy.plot as ep\n",
    "import json\n",
    "streetname = input('Give me the streetname?')\n",
    "housenumber = input('Give me the housenumber?')\n",
    "zipcode = input('Give me the zipcode?')\n",
    "adres_api = {\"straatnaam\":{streetname}, \"huisnummer\":{housenumber}, \"postcode\":{zipcode}}\n",
    "api_url = \"https://api.basisregisters.vlaanderen.be/v1/adresmatch\"\n",
    "response1 = requests.get(url = api_url, params = adres_api).json()\n",
    "response1"
   ]
  },
  {
   "cell_type": "code",
   "execution_count": 5,
   "metadata": {},
   "outputs": [
    {
     "data": {
      "text/plain": [
       "{'identificator': {'id': 'https://data.vlaanderen.be/id/gebouweenheid/7570694',\n",
       "  'naamruimte': 'https://data.vlaanderen.be/id/gebouweenheid',\n",
       "  'objectId': '7570694',\n",
       "  'versieId': '2017-03-09T17:15:54+01:00'},\n",
       " 'geometriePunt': {'point': {'coordinates': [121455.47, 199539.62],\n",
       "   'type': 'Point'}},\n",
       " 'positieGeometrieMethode': 'afgeleidVanObject',\n",
       " 'gebouweenheidStatus': 'gerealiseerd',\n",
       " 'functie': 'gemeenschappelijkDeel',\n",
       " 'gebouw': {'objectId': '7569832',\n",
       "  'detail': 'https://api.basisregisters.vlaanderen.be/v1/gebouwen/7569832'},\n",
       " 'adressen': [{'objectId': '1302241',\n",
       "   'detail': 'https://api.basisregisters.vlaanderen.be/v1/adressen/1302241'},\n",
       "  {'objectId': '431272',\n",
       "   'detail': 'https://api.basisregisters.vlaanderen.be/v1/adressen/431272'}]}"
      ]
     },
     "execution_count": 5,
     "metadata": {},
     "output_type": "execute_result"
    }
   ],
   "source": [
    "import requests\n",
    "import earthpy.plot as ep\n",
    "import json\n",
    "\n",
    "response2 = requests.get(response1['adresMatches'][0]['adresseerbareObjecten'][0]['detail']).json()\n",
    "\n",
    "\n",
    "response2"
   ]
  },
  {
   "cell_type": "code",
   "execution_count": 6,
   "metadata": {},
   "outputs": [
    {
     "data": {
      "text/plain": [
       "{'identificator': {'id': 'https://data.vlaanderen.be/id/gebouw/7569832',\n",
       "  'naamruimte': 'https://data.vlaanderen.be/id/gebouw',\n",
       "  'objectId': '7569832',\n",
       "  'versieId': '2017-03-09T17:15:54+01:00'},\n",
       " 'geometriePolygoon': {'polygon': {'coordinates': [[[121465.63794352859,\n",
       "      199545.93402853236],\n",
       "     [121465.37227953225, 199545.9234685339],\n",
       "     [121459.25586352497, 199545.67969253287],\n",
       "     [121459.23755952716, 199546.13934053108],\n",
       "     [121453.00024752319, 199545.89204453304],\n",
       "     [121452.9961515218, 199545.9920125343],\n",
       "     [121451.19967152178, 199545.91854053363],\n",
       "     [121451.20376752317, 199545.8185725324],\n",
       "     [121444.96619951725, 199545.56090853363],\n",
       "     [121445.48895151913, 199532.90887652338],\n",
       "     [121458.08927152306, 199533.4747645259],\n",
       "     [121466.20171952993, 199534.0245245248],\n",
       "     [121466.00920753181, 199538.2773245275],\n",
       "     [121466.10911153257, 199538.28103652596],\n",
       "     [121466.04319152981, 199540.06343653053],\n",
       "     [121465.94322352856, 199540.05972452834],\n",
       "     [121465.63794352859, 199545.93402853236]]],\n",
       "   'type': 'Polygon'}},\n",
       " 'geometrieMethode': 'ingemetenGRB',\n",
       " 'gebouwStatus': 'gerealiseerd',\n",
       " 'gebouweenheden': [{'objectId': '7570694',\n",
       "   'detail': 'https://api.basisregisters.vlaanderen.be/v1/gebouweenheden/7570694'},\n",
       "  {'objectId': '7570695',\n",
       "   'detail': 'https://api.basisregisters.vlaanderen.be/v1/gebouweenheden/7570695'},\n",
       "  {'objectId': '7570696',\n",
       "   'detail': 'https://api.basisregisters.vlaanderen.be/v1/gebouweenheden/7570696'},\n",
       "  {'objectId': '7570697',\n",
       "   'detail': 'https://api.basisregisters.vlaanderen.be/v1/gebouweenheden/7570697'},\n",
       "  {'objectId': '7570698',\n",
       "   'detail': 'https://api.basisregisters.vlaanderen.be/v1/gebouweenheden/7570698'},\n",
       "  {'objectId': '7570699',\n",
       "   'detail': 'https://api.basisregisters.vlaanderen.be/v1/gebouweenheden/7570699'},\n",
       "  {'objectId': '7570700',\n",
       "   'detail': 'https://api.basisregisters.vlaanderen.be/v1/gebouweenheden/7570700'},\n",
       "  {'objectId': '7570701',\n",
       "   'detail': 'https://api.basisregisters.vlaanderen.be/v1/gebouweenheden/7570701'},\n",
       "  {'objectId': '7570702',\n",
       "   'detail': 'https://api.basisregisters.vlaanderen.be/v1/gebouweenheden/7570702'},\n",
       "  {'objectId': '7570703',\n",
       "   'detail': 'https://api.basisregisters.vlaanderen.be/v1/gebouweenheden/7570703'},\n",
       "  {'objectId': '30316087',\n",
       "   'detail': 'https://api.basisregisters.vlaanderen.be/v1/gebouweenheden/30316087'},\n",
       "  {'objectId': '30316088',\n",
       "   'detail': 'https://api.basisregisters.vlaanderen.be/v1/gebouweenheden/30316088'}],\n",
       " 'percelen': [{'objectId': '46383D1389-00L000',\n",
       "   'detail': 'https://api.basisregisters.vlaanderen.be/v1/percelen/46383D1389-00L000'}]}"
      ]
     },
     "execution_count": 6,
     "metadata": {},
     "output_type": "execute_result"
    }
   ],
   "source": [
    "response3 = requests.get(response2['gebouw']['detail']).json()\n",
    "response3"
   ]
  },
  {
   "cell_type": "code",
   "execution_count": 7,
   "metadata": {},
   "outputs": [
    {
     "data": {
      "image/svg+xml": "<svg xmlns=\"http://www.w3.org/2000/svg\" xmlns:xlink=\"http://www.w3.org/1999/xlink\" width=\"100.0\" height=\"100.0\" viewBox=\"121444.11677871674 199532.05945572286 22.934361613704823 14.929305608733557\" preserveAspectRatio=\"xMinYMin meet\"><g transform=\"matrix(1,0,0,-1,0,399079.04821705446)\"><path fill-rule=\"evenodd\" fill=\"#66cc99\" stroke=\"#555555\" stroke-width=\"0.45868723227409647\" opacity=\"0.6\" d=\"M 121465.63794352859,199545.93402853236 L 121465.37227953225,199545.9234685339 L 121459.25586352497,199545.67969253287 L 121459.23755952716,199546.13934053108 L 121453.00024752319,199545.89204453304 L 121452.9961515218,199545.9920125343 L 121451.19967152178,199545.91854053363 L 121451.20376752317,199545.8185725324 L 121444.96619951725,199545.56090853363 L 121445.48895151913,199532.90887652338 L 121458.08927152306,199533.4747645259 L 121466.20171952993,199534.0245245248 L 121466.00920753181,199538.2773245275 L 121466.10911153257,199538.28103652596 L 121466.04319152981,199540.06343653053 L 121465.94322352856,199540.05972452834 L 121465.63794352859,199545.93402853236 z\" /></g></svg>",
      "text/plain": [
       "<shapely.geometry.polygon.Polygon at 0x7fd3598035b0>"
      ]
     },
     "execution_count": 7,
     "metadata": {},
     "output_type": "execute_result"
    }
   ],
   "source": [
    "import requests\n",
    "import earthpy.plot as ep\n",
    "import json\n",
    "from shapely.geometry.polygon import Polygon\n",
    "\n",
    "#response4 = requests.get(\"https://api.basisregisters.vlaanderen.be/v1/gebouwen/7569832\").json()\n",
    "polygon_house = Polygon(response3[\"geometriePolygoon\"][\"polygon\"][\"coordinates\"][0])\n",
    "type(polygon_house)\n",
    "float_house = (response3[\"geometriePolygoon\"][\"polygon\"][\"coordinates\"][0])\n",
    "polygon_house"
   ]
  },
  {
   "cell_type": "code",
   "execution_count": 15,
   "metadata": {},
   "outputs": [],
   "source": [
    "dsm14 = \"/Users/Jorg/3D_houses_data/DHMVIIDSMRAS1m_k/GeoTIFFall/DHMVIIDSMRAS1m_k14.tif\"\n",
    "dtm14 = \"/Users/Jorg/3D_houses_data/DHMVIIDSMRAS1m_k/GeoTIFFall/DHMVIIDTMRAS1m_k14.tif\"\n",
    "dsm22 = \"/Users/Jorg/3D_houses_data/DHMVIIDSMRAS1m_k/GeoTIFFall/DHMVIIDSMRAS1m_k22.tif\"\n",
    "dtm22 = \"/Users/Jorg/3D_houses_data/DHMVIIDSMRAS1m_k/GeoTIFFall/DHMVIIDTMRAS1m_k22.tif\"\n",
    "dsm15 = \"/Users/Jorg/3D_houses_data/DHMVIIDSMRAS1m_k/GeoTIFFall/DHMVIIDSMRAS1m_k15.tif\"\n",
    "dtm15 = \"/Users/Jorg/3D_houses_data/DHMVIIDSMRAS1m_k/GeoTIFFall/DHMVIIDTMRAS1m_k15.tif\"\n",
    "dsm23 = \"/Users/Jorg/3D_houses_data/DHMVIIDSMRAS1m_k/GeoTIFFall/DHMVIIDSMRAS1m_k23.tif\"\n",
    "dtm23 = \"/Users/Jorg/3D_houses_data/DHMVIIDSMRAS1m_k/GeoTIFFall/DHMVIIDTMRAS1m_k23.tif\"\n",
    "dsm30 = \"/Users/Jorg/3D_houses_data/DHMVIIDSMRAS1m_k/GeoTIFFall/DHMVIIDSMRAS1m_k30.tif\"\n",
    "dtm30 = \"/Users/Jorg/3D_houses_data/DHMVIIDSMRAS1m_k/GeoTIFFall/DHMVIIDTMRAS1m_k30.tif\"\n"
   ]
  },
  {
   "cell_type": "code",
   "execution_count": 22,
   "metadata": {},
   "outputs": [
    {
     "data": {
      "text/plain": [
       "[PosixPath('/Users/Jorg/3D_houses_data/DHMVIIDSMRAS1m_k/GeoTIFFall/DHMVIIDSMRAS1m_k14.tif'),\n",
       " PosixPath('/Users/Jorg/3D_houses_data/DHMVIIDSMRAS1m_k/GeoTIFFall/DHMVIIDSMRAS1m_k15.tif'),\n",
       " PosixPath('/Users/Jorg/3D_houses_data/DHMVIIDSMRAS1m_k/GeoTIFFall/DHMVIIDSMRAS1m_k22.tif'),\n",
       " PosixPath('/Users/Jorg/3D_houses_data/DHMVIIDSMRAS1m_k/GeoTIFFall/DHMVIIDSMRAS1m_k23.tif'),\n",
       " PosixPath('/Users/Jorg/3D_houses_data/DHMVIIDSMRAS1m_k/GeoTIFFall/DHMVIIDSMRAS1m_k30.tif'),\n",
       " PosixPath('/Users/Jorg/3D_houses_data/DHMVIIDSMRAS1m_k/GeoTIFFall/DHMVIIDTMRAS1m_k14.tif'),\n",
       " PosixPath('/Users/Jorg/3D_houses_data/DHMVIIDSMRAS1m_k/GeoTIFFall/DHMVIIDTMRAS1m_k15.tif'),\n",
       " PosixPath('/Users/Jorg/3D_houses_data/DHMVIIDSMRAS1m_k/GeoTIFFall/DHMVIIDTMRAS1m_k22.tif'),\n",
       " PosixPath('/Users/Jorg/3D_houses_data/DHMVIIDSMRAS1m_k/GeoTIFFall/DHMVIIDTMRAS1m_k23.tif'),\n",
       " PosixPath('/Users/Jorg/3D_houses_data/DHMVIIDSMRAS1m_k/GeoTIFFall/DHMVIIDTMRAS1m_k30.tif')]"
      ]
     },
     "execution_count": 22,
     "metadata": {},
     "output_type": "execute_result"
    }
   ],
   "source": [
    "from pathlib import Path\n",
    "sorted(Path('/Users/Jorg/3D_houses_data/DHMVIIDSMRAS1m_k/GeoTIFFall/').glob('*.tif'))\n"
   ]
  },
  {
   "cell_type": "code",
   "execution_count": 24,
   "metadata": {},
   "outputs": [
    {
     "ename": "TypeError",
     "evalue": "invalid path or file: <generator object Path.glob at 0x7fd389bf2660>",
     "output_type": "error",
     "traceback": [
      "\u001b[0;31m---------------------------------------------------------------------------\u001b[0m",
      "\u001b[0;31mTypeError\u001b[0m                                 Traceback (most recent call last)",
      "\u001b[1;32m/Users/Jorg/BeCode/3D_houses/second api trial.ipynb Cell 8'\u001b[0m in \u001b[0;36m<cell line: 6>\u001b[0;34m()\u001b[0m\n\u001b[1;32m      <a href='vscode-notebook-cell:/Users/Jorg/BeCode/3D_houses/second%20api%20trial.ipynb#ch0000006?line=2'>3</a>\u001b[0m \u001b[39mimport\u001b[39;00m \u001b[39mjson\u001b[39;00m\n\u001b[1;32m      <a href='vscode-notebook-cell:/Users/Jorg/BeCode/3D_houses/second%20api%20trial.ipynb#ch0000006?line=3'>4</a>\u001b[0m \u001b[39mfrom\u001b[39;00m \u001b[39mshapely\u001b[39;00m\u001b[39m.\u001b[39;00m\u001b[39mgeometry\u001b[39;00m\u001b[39m.\u001b[39;00m\u001b[39mpolygon\u001b[39;00m \u001b[39mimport\u001b[39;00m Polygon\n\u001b[0;32m----> <a href='vscode-notebook-cell:/Users/Jorg/BeCode/3D_houses/second%20api%20trial.ipynb#ch0000006?line=5'>6</a>\u001b[0m src \u001b[39m=\u001b[39m rasterio\u001b[39m.\u001b[39;49mopen(Path(\u001b[39m'\u001b[39;49m\u001b[39m/Users/Jorg/3D_houses_data/DHMVIIDSMRAS1m_k/GeoTIFFall/\u001b[39;49m\u001b[39m'\u001b[39;49m)\u001b[39m.\u001b[39;49mglob(\u001b[39m'\u001b[39;49m\u001b[39m*.tif\u001b[39;49m\u001b[39m'\u001b[39;49m))\n\u001b[1;32m      <a href='vscode-notebook-cell:/Users/Jorg/BeCode/3D_houses/second%20api%20trial.ipynb#ch0000006?line=6'>7</a>\u001b[0m src\u001b[39m.\u001b[39mbounds\n\u001b[1;32m      <a href='vscode-notebook-cell:/Users/Jorg/BeCode/3D_houses/second%20api%20trial.ipynb#ch0000006?line=8'>9</a>\u001b[0m response4 \u001b[39m=\u001b[39m requests\u001b[39m.\u001b[39mget(\u001b[39m\"\u001b[39m\u001b[39mhttps://api.basisregisters.vlaanderen.be/v1/gebouwen/7569832\u001b[39m\u001b[39m\"\u001b[39m)\u001b[39m.\u001b[39mjson()\n",
      "File \u001b[0;32m~/opt/anaconda3/lib/python3.9/site-packages/rasterio/env.py:437\u001b[0m, in \u001b[0;36mensure_env_with_credentials.<locals>.wrapper\u001b[0;34m(*args, **kwds)\u001b[0m\n\u001b[1;32m    434\u001b[0m     session \u001b[39m=\u001b[39m DummySession()\n\u001b[1;32m    436\u001b[0m \u001b[39mwith\u001b[39;00m env_ctor(session\u001b[39m=\u001b[39msession):\n\u001b[0;32m--> 437\u001b[0m     \u001b[39mreturn\u001b[39;00m f(\u001b[39m*\u001b[39;49margs, \u001b[39m*\u001b[39;49m\u001b[39m*\u001b[39;49mkwds)\n",
      "File \u001b[0;32m~/opt/anaconda3/lib/python3.9/site-packages/rasterio/__init__.py:157\u001b[0m, in \u001b[0;36mopen\u001b[0;34m(fp, mode, driver, width, height, count, crs, transform, dtype, nodata, sharing, **kwargs)\u001b[0m\n\u001b[1;32m    155\u001b[0m \u001b[39mif\u001b[39;00m \u001b[39mnot\u001b[39;00m \u001b[39misinstance\u001b[39m(fp, \u001b[39mstr\u001b[39m):\n\u001b[1;32m    156\u001b[0m     \u001b[39mif\u001b[39;00m \u001b[39mnot\u001b[39;00m (\u001b[39mhasattr\u001b[39m(fp, \u001b[39m'\u001b[39m\u001b[39mread\u001b[39m\u001b[39m'\u001b[39m) \u001b[39mor\u001b[39;00m \u001b[39mhasattr\u001b[39m(fp, \u001b[39m'\u001b[39m\u001b[39mwrite\u001b[39m\u001b[39m'\u001b[39m) \u001b[39mor\u001b[39;00m \u001b[39misinstance\u001b[39m(fp, Path)):\n\u001b[0;32m--> 157\u001b[0m         \u001b[39mraise\u001b[39;00m \u001b[39mTypeError\u001b[39;00m(\u001b[39m\"\u001b[39m\u001b[39minvalid path or file: \u001b[39m\u001b[39m{0!r}\u001b[39;00m\u001b[39m\"\u001b[39m\u001b[39m.\u001b[39mformat(fp))\n\u001b[1;32m    158\u001b[0m \u001b[39mif\u001b[39;00m mode \u001b[39mand\u001b[39;00m \u001b[39mnot\u001b[39;00m \u001b[39misinstance\u001b[39m(mode, \u001b[39mstr\u001b[39m):\n\u001b[1;32m    159\u001b[0m     \u001b[39mraise\u001b[39;00m \u001b[39mTypeError\u001b[39;00m(\u001b[39m\"\u001b[39m\u001b[39minvalid mode: \u001b[39m\u001b[39m{0!r}\u001b[39;00m\u001b[39m\"\u001b[39m\u001b[39m.\u001b[39mformat(mode))\n",
      "\u001b[0;31mTypeError\u001b[0m: invalid path or file: <generator object Path.glob at 0x7fd389bf2660>"
     ]
    }
   ],
   "source": [
    "import rasterio\n",
    "import requests\n",
    "import json\n",
    "from shapely.geometry.polygon import Polygon\n",
    "\n",
    "src = rasterio.open(dsm14)\n",
    "src.bounds\n",
    "\n",
    "response4 = requests.get(\"https://api.basisregisters.vlaanderen.be/v1/gebouwen/7569832\").json()\n",
    "polygon_house = Polygon(response4[\"geometriePolygoon\"][\"polygon\"][\"coordinates\"][0])\n",
    "float_house = (response4[\"geometriePolygoon\"][\"polygon\"][\"coordinates\"][0])\n",
    "\n",
    "for x, y in float_house:\n",
    "    if src.bounds[0] < x < src.bounds[2] and src.bounds[1] < y < src.bounds[3]:\n",
    "        print(\"inside\")\n",
    "    else:\n",
    "        print(\"outside\")\n"
   ]
  },
  {
   "cell_type": "code",
   "execution_count": 40,
   "metadata": {},
   "outputs": [
    {
     "ename": "TypeError",
     "evalue": "invalid path or file: <DirEntry 'DHMVIIDTMRAS1m_k30.tif'>",
     "output_type": "error",
     "traceback": [
      "\u001b[0;31m---------------------------------------------------------------------------\u001b[0m",
      "\u001b[0;31mTypeError\u001b[0m                                 Traceback (most recent call last)",
      "\u001b[1;32m/Users/Jorg/BeCode/3D_houses/second api trial.ipynb Cell 9'\u001b[0m in \u001b[0;36m<cell line: 3>\u001b[0;34m()\u001b[0m\n\u001b[1;32m      <a href='vscode-notebook-cell:/Users/Jorg/BeCode/3D_houses/second%20api%20trial.ipynb#ch0000018?line=2'>3</a>\u001b[0m \u001b[39mwith\u001b[39;00m os\u001b[39m.\u001b[39mscandir(\u001b[39m'\u001b[39m\u001b[39m/Users/Jorg/3D_houses_data/DHMVIIDSMRAS1m_k/GeoTIFFall/\u001b[39m\u001b[39m'\u001b[39m) \u001b[39mas\u001b[39;00m entries:\n\u001b[1;32m      <a href='vscode-notebook-cell:/Users/Jorg/BeCode/3D_houses/second%20api%20trial.ipynb#ch0000018?line=3'>4</a>\u001b[0m     \u001b[39mfor\u001b[39;00m entry \u001b[39min\u001b[39;00m entries:\n\u001b[0;32m----> <a href='vscode-notebook-cell:/Users/Jorg/BeCode/3D_houses/second%20api%20trial.ipynb#ch0000018?line=4'>5</a>\u001b[0m         src \u001b[39m=\u001b[39m rasterio\u001b[39m.\u001b[39;49mopen(entry)\n\u001b[1;32m      <a href='vscode-notebook-cell:/Users/Jorg/BeCode/3D_houses/second%20api%20trial.ipynb#ch0000018?line=5'>6</a>\u001b[0m         src\u001b[39m.\u001b[39mboundsprint(entry\u001b[39m.\u001b[39mname)\n",
      "File \u001b[0;32m~/opt/anaconda3/lib/python3.9/site-packages/rasterio/env.py:437\u001b[0m, in \u001b[0;36mensure_env_with_credentials.<locals>.wrapper\u001b[0;34m(*args, **kwds)\u001b[0m\n\u001b[1;32m    434\u001b[0m     session \u001b[39m=\u001b[39m DummySession()\n\u001b[1;32m    436\u001b[0m \u001b[39mwith\u001b[39;00m env_ctor(session\u001b[39m=\u001b[39msession):\n\u001b[0;32m--> 437\u001b[0m     \u001b[39mreturn\u001b[39;00m f(\u001b[39m*\u001b[39;49margs, \u001b[39m*\u001b[39;49m\u001b[39m*\u001b[39;49mkwds)\n",
      "File \u001b[0;32m~/opt/anaconda3/lib/python3.9/site-packages/rasterio/__init__.py:157\u001b[0m, in \u001b[0;36mopen\u001b[0;34m(fp, mode, driver, width, height, count, crs, transform, dtype, nodata, sharing, **kwargs)\u001b[0m\n\u001b[1;32m    155\u001b[0m \u001b[39mif\u001b[39;00m \u001b[39mnot\u001b[39;00m \u001b[39misinstance\u001b[39m(fp, \u001b[39mstr\u001b[39m):\n\u001b[1;32m    156\u001b[0m     \u001b[39mif\u001b[39;00m \u001b[39mnot\u001b[39;00m (\u001b[39mhasattr\u001b[39m(fp, \u001b[39m'\u001b[39m\u001b[39mread\u001b[39m\u001b[39m'\u001b[39m) \u001b[39mor\u001b[39;00m \u001b[39mhasattr\u001b[39m(fp, \u001b[39m'\u001b[39m\u001b[39mwrite\u001b[39m\u001b[39m'\u001b[39m) \u001b[39mor\u001b[39;00m \u001b[39misinstance\u001b[39m(fp, Path)):\n\u001b[0;32m--> 157\u001b[0m         \u001b[39mraise\u001b[39;00m \u001b[39mTypeError\u001b[39;00m(\u001b[39m\"\u001b[39m\u001b[39minvalid path or file: \u001b[39m\u001b[39m{0!r}\u001b[39;00m\u001b[39m\"\u001b[39m\u001b[39m.\u001b[39mformat(fp))\n\u001b[1;32m    158\u001b[0m \u001b[39mif\u001b[39;00m mode \u001b[39mand\u001b[39;00m \u001b[39mnot\u001b[39;00m \u001b[39misinstance\u001b[39m(mode, \u001b[39mstr\u001b[39m):\n\u001b[1;32m    159\u001b[0m     \u001b[39mraise\u001b[39;00m \u001b[39mTypeError\u001b[39;00m(\u001b[39m\"\u001b[39m\u001b[39minvalid mode: \u001b[39m\u001b[39m{0!r}\u001b[39;00m\u001b[39m\"\u001b[39m\u001b[39m.\u001b[39mformat(mode))\n",
      "\u001b[0;31mTypeError\u001b[0m: invalid path or file: <DirEntry 'DHMVIIDTMRAS1m_k30.tif'>"
     ]
    }
   ],
   "source": [
    "import os\n",
    "\n",
    "with os.scandir('/Users/Jorg/3D_houses_data/DHMVIIDSMRAS1m_k/GeoTIFFall/') as entries:\n",
    "    for entry in entries:\n",
    "        src = rasterio.open(entry)\n",
    "        src.boundsprint(entry.name)"
   ]
  },
  {
   "cell_type": "code",
   "execution_count": null,
   "metadata": {},
   "outputs": [],
   "source": []
  },
  {
   "cell_type": "code",
   "execution_count": 10,
   "metadata": {},
   "outputs": [],
   "source": [
    "import rioxarray\n",
    "import fiona\n",
    "import rasterio\n",
    "import rasterio.mask\n",
    "from PIL import Image\n",
    "\n",
    "\n",
    "with rasterio.open(dsm14) as src:\n",
    "    out_image, out_transform = rasterio.mask.mask(src, [polygon_house], crop=True)\n",
    "    clipdsm = out_image[0]\n",
    "    \n",
    "with rasterio.open(dtm14) as src:\n",
    "    out_image, out_transform = rasterio.mask.mask(src, [polygon_house], crop=True)\n",
    "    clipdtm = out_image[0]\n",
    "\n",
    "clipchm = clipdsm - clipdtm\n"
   ]
  },
  {
   "cell_type": "code",
   "execution_count": 11,
   "metadata": {},
   "outputs": [
    {
     "data": {
      "application/vnd.plotly.v1+json": {
       "config": {
        "plotlyServerURL": "https://plot.ly"
       },
       "data": [
        {
         "type": "surface",
         "z": [
          [
           0,
           0,
           0,
           0,
           0,
           0,
           0,
           0,
           0,
           0,
           0,
           0,
           0,
           0,
           0,
           0,
           0,
           0,
           0,
           0,
           0,
           0,
           0
          ],
          [
           0,
           6.46999979019165,
           4.059999465942383,
           4.700000286102295,
           6.809999942779541,
           8.109999656677246,
           6.547955513000488,
           6.770325183868408,
           6.776037216186523,
           6.4062299728393555,
           8.169772148132324,
           7.347599506378174,
           6.954429626464844,
           6.750250339508057,
           7.06459379196167,
           7.066119194030762,
           7.9800004959106445,
           8.109999656677246,
           7.21999979019165,
           7.260000228881836,
           7.289999961853027,
           7.330000400543213,
           0
          ],
          [
           0,
           7.509999752044678,
           7.539999485015869,
           7.579999923706055,
           7.600000381469727,
           8.080745697021484,
           7.984249114990234,
           7.775393486022949,
           7.792063236236572,
           7.892349720001221,
           8.166098594665527,
           7.922701835632324,
           7.971475601196289,
           7.995309829711914,
           8.053315162658691,
           8.061283111572266,
           8.121875762939453,
           8.1899995803833,
           8.229999542236328,
           8.25,
           8.319999694824219,
           8.350000381469727,
           0
          ],
          [
           0,
           8.530000686645508,
           8.5600004196167,
           8.59000015258789,
           8.623725891113281,
           8.65771484375,
           8.720593452453613,
           8.771565437316895,
           8.80972671508789,
           8.850502014160156,
           8.911102294921875,
           8.927509307861328,
           8.976888656616211,
           9.00004768371582,
           9.048194885253906,
           9.083044052124023,
           9.10796070098877,
           9.17153263092041,
           9.229999542236328,
           9.239999771118164,
           9.299999237060547,
           9.210000038146973,
           0
          ],
          [
           0,
           9.34000015258789,
           9.569999694824219,
           9.567028999328613,
           9.645954132080078,
           9.679947853088379,
           9.736648559570312,
           9.778626441955566,
           9.826289176940918,
           9.878742218017578,
           9.929767608642578,
           9.966682434082031,
           9.991738319396973,
           10.045807838439941,
           10.084741592407227,
           10.109960556030273,
           10.150733947753906,
           10.178520202636719,
           10.235506057739258,
           10.246805191040039,
           10.34000015258789,
           9.239999771118164,
           0
          ],
          [
           0,
           9.280000686645508,
           10.339505195617676,
           10.568516731262207,
           10.665285110473633,
           10.713296890258789,
           10.768648147583008,
           10.821460723876953,
           10.845573425292969,
           10.8761568069458,
           10.924302101135254,
           10.973550796508789,
           11.022769927978516,
           11.06432819366455,
           11.077356338500977,
           11.156829833984375,
           11.187641143798828,
           11.214926719665527,
           11.244928359985352,
           11.303207397460938,
           10.29205322265625,
           9.260000228881836,
           0
          ],
          [
           0,
           9.22499942779541,
           10.286544799804688,
           11.376758575439453,
           11.684999465942383,
           11.731861114501953,
           11.773001670837402,
           11.797163963317871,
           11.877681732177734,
           11.901138305664062,
           11.950505256652832,
           11.99055290222168,
           12.029437065124512,
           12.077479362487793,
           12.098215103149414,
           12.164369583129883,
           12.199671745300293,
           12.217375755310059,
           12.277854919433594,
           11.43408203125,
           10.387286186218262,
           9.327576637268066,
           0
          ],
          [
           0,
           9.210000038146973,
           10.273717880249023,
           11.312210083007812,
           12.410107612609863,
           13.242998123168945,
           12.647384643554688,
           12.712711334228516,
           12.672822952270508,
           12.65828800201416,
           12.606857299804688,
           13.597511291503906,
           12.545841217041016,
           12.505419731140137,
           12.46983528137207,
           12.451580047607422,
           12.347332954406738,
           12.335211753845215,
           12.286480903625488,
           11.482782363891602,
           10.435628890991211,
           9.404788970947266,
           0
          ],
          [
           0,
           9.15999984741211,
           10.179999351501465,
           11.298917770385742,
           11.827049255371094,
           13.489015579223633,
           11.735175132751465,
           11.697615623474121,
           11.658563613891602,
           11.60955810546875,
           11.603198051452637,
           13.694314956665039,
           11.513923645019531,
           11.490922927856445,
           11.458610534667969,
           12.498517990112305,
           11.324502944946289,
           11.29666805267334,
           11.26303482055664,
           11.243423461914062,
           10.48910903930664,
           9.41948127746582,
           0
          ],
          [
           0,
           9.139999389648438,
           10.15999984741211,
           10.859999656677246,
           10.843114852905273,
           10.76382827758789,
           10.743532180786133,
           10.705870628356934,
           12.367149353027344,
           10.608022689819336,
           10.580760955810547,
           10.544057846069336,
           10.490076065063477,
           10.449264526367188,
           10.40740966796875,
           12.860221862792969,
           12.016677856445312,
           10.274862289428711,
           10.243000030517578,
           10.223312377929688,
           10.169342041015625,
           9.453790664672852,
           0
          ],
          [
           0,
           9.100000381469727,
           9.890000343322754,
           9.870000839233398,
           9.790000915527344,
           9.765880584716797,
           9.724811553955078,
           9.69172191619873,
           9.653035163879395,
           9.611047744750977,
           9.546655654907227,
           9.526605606079102,
           9.454229354858398,
           9.450000762939453,
           9.39814281463623,
           13.036231994628906,
           9.353516578674316,
           9.331823348999023,
           9.390092849731445,
           9.178516387939453,
           9.136598587036133,
           9.121533393859863,
           0
          ],
          [
           0,
           8.90999984741211,
           8.889999389648438,
           8.819999694824219,
           8.720000267028809,
           8.680000305175781,
           8.71037769317627,
           8.636723518371582,
           8.609139442443848,
           8.567241668701172,
           8.492870330810547,
           8.494507789611816,
           8.462329864501953,
           8.398417472839355,
           8.376876831054688,
           8.353628158569336,
           8.277692794799805,
           9.168784141540527,
           9.366942405700684,
           8.194595336914062,
           8.122413635253906,
           8.074480056762695,
           0
          ],
          [
           0,
           7.830000400543213,
           7.819999694824219,
           7.799999713897705,
           7.75,
           7.710000038146973,
           7.740000247955322,
           7.611224174499512,
           7.573468208312988,
           7.5669379234313965,
           7.491703033447266,
           7.464331150054932,
           7.412569046020508,
           7.398595809936523,
           7.388640880584717,
           7.2957377433776855,
           8.165850639343262,
           9.133686065673828,
           9.411663055419922,
           8.15176773071289,
           7.100182056427002,
           7.058931350708008,
           0
          ],
          [
           0,
           6.889999866485596,
           6.840000152587891,
           6.740000247955322,
           2.429999828338623,
           6.710000514984131,
           6.599999904632568,
           2.7899999618530273,
           6.580049991607666,
           6.374439716339111,
           4.528235912322998,
           4.552674293518066,
           5.562589645385742,
           3.3476710319519043,
           0,
           0,
           0,
           0,
           0,
           0,
           0,
           0,
           0
          ],
          [
           0,
           0,
           0,
           0,
           0,
           0,
           0,
           0,
           0,
           0,
           0,
           0,
           0,
           0,
           0,
           0,
           0,
           0,
           0,
           0,
           0,
           0,
           0
          ]
         ]
        }
       ],
       "layout": {
        "autosize": true,
        "template": {
         "data": {
          "bar": [
           {
            "error_x": {
             "color": "#2a3f5f"
            },
            "error_y": {
             "color": "#2a3f5f"
            },
            "marker": {
             "line": {
              "color": "#E5ECF6",
              "width": 0.5
             },
             "pattern": {
              "fillmode": "overlay",
              "size": 10,
              "solidity": 0.2
             }
            },
            "type": "bar"
           }
          ],
          "barpolar": [
           {
            "marker": {
             "line": {
              "color": "#E5ECF6",
              "width": 0.5
             },
             "pattern": {
              "fillmode": "overlay",
              "size": 10,
              "solidity": 0.2
             }
            },
            "type": "barpolar"
           }
          ],
          "carpet": [
           {
            "aaxis": {
             "endlinecolor": "#2a3f5f",
             "gridcolor": "white",
             "linecolor": "white",
             "minorgridcolor": "white",
             "startlinecolor": "#2a3f5f"
            },
            "baxis": {
             "endlinecolor": "#2a3f5f",
             "gridcolor": "white",
             "linecolor": "white",
             "minorgridcolor": "white",
             "startlinecolor": "#2a3f5f"
            },
            "type": "carpet"
           }
          ],
          "choropleth": [
           {
            "colorbar": {
             "outlinewidth": 0,
             "ticks": ""
            },
            "type": "choropleth"
           }
          ],
          "contour": [
           {
            "colorbar": {
             "outlinewidth": 0,
             "ticks": ""
            },
            "colorscale": [
             [
              0,
              "#0d0887"
             ],
             [
              0.1111111111111111,
              "#46039f"
             ],
             [
              0.2222222222222222,
              "#7201a8"
             ],
             [
              0.3333333333333333,
              "#9c179e"
             ],
             [
              0.4444444444444444,
              "#bd3786"
             ],
             [
              0.5555555555555556,
              "#d8576b"
             ],
             [
              0.6666666666666666,
              "#ed7953"
             ],
             [
              0.7777777777777778,
              "#fb9f3a"
             ],
             [
              0.8888888888888888,
              "#fdca26"
             ],
             [
              1,
              "#f0f921"
             ]
            ],
            "type": "contour"
           }
          ],
          "contourcarpet": [
           {
            "colorbar": {
             "outlinewidth": 0,
             "ticks": ""
            },
            "type": "contourcarpet"
           }
          ],
          "heatmap": [
           {
            "colorbar": {
             "outlinewidth": 0,
             "ticks": ""
            },
            "colorscale": [
             [
              0,
              "#0d0887"
             ],
             [
              0.1111111111111111,
              "#46039f"
             ],
             [
              0.2222222222222222,
              "#7201a8"
             ],
             [
              0.3333333333333333,
              "#9c179e"
             ],
             [
              0.4444444444444444,
              "#bd3786"
             ],
             [
              0.5555555555555556,
              "#d8576b"
             ],
             [
              0.6666666666666666,
              "#ed7953"
             ],
             [
              0.7777777777777778,
              "#fb9f3a"
             ],
             [
              0.8888888888888888,
              "#fdca26"
             ],
             [
              1,
              "#f0f921"
             ]
            ],
            "type": "heatmap"
           }
          ],
          "heatmapgl": [
           {
            "colorbar": {
             "outlinewidth": 0,
             "ticks": ""
            },
            "colorscale": [
             [
              0,
              "#0d0887"
             ],
             [
              0.1111111111111111,
              "#46039f"
             ],
             [
              0.2222222222222222,
              "#7201a8"
             ],
             [
              0.3333333333333333,
              "#9c179e"
             ],
             [
              0.4444444444444444,
              "#bd3786"
             ],
             [
              0.5555555555555556,
              "#d8576b"
             ],
             [
              0.6666666666666666,
              "#ed7953"
             ],
             [
              0.7777777777777778,
              "#fb9f3a"
             ],
             [
              0.8888888888888888,
              "#fdca26"
             ],
             [
              1,
              "#f0f921"
             ]
            ],
            "type": "heatmapgl"
           }
          ],
          "histogram": [
           {
            "marker": {
             "pattern": {
              "fillmode": "overlay",
              "size": 10,
              "solidity": 0.2
             }
            },
            "type": "histogram"
           }
          ],
          "histogram2d": [
           {
            "colorbar": {
             "outlinewidth": 0,
             "ticks": ""
            },
            "colorscale": [
             [
              0,
              "#0d0887"
             ],
             [
              0.1111111111111111,
              "#46039f"
             ],
             [
              0.2222222222222222,
              "#7201a8"
             ],
             [
              0.3333333333333333,
              "#9c179e"
             ],
             [
              0.4444444444444444,
              "#bd3786"
             ],
             [
              0.5555555555555556,
              "#d8576b"
             ],
             [
              0.6666666666666666,
              "#ed7953"
             ],
             [
              0.7777777777777778,
              "#fb9f3a"
             ],
             [
              0.8888888888888888,
              "#fdca26"
             ],
             [
              1,
              "#f0f921"
             ]
            ],
            "type": "histogram2d"
           }
          ],
          "histogram2dcontour": [
           {
            "colorbar": {
             "outlinewidth": 0,
             "ticks": ""
            },
            "colorscale": [
             [
              0,
              "#0d0887"
             ],
             [
              0.1111111111111111,
              "#46039f"
             ],
             [
              0.2222222222222222,
              "#7201a8"
             ],
             [
              0.3333333333333333,
              "#9c179e"
             ],
             [
              0.4444444444444444,
              "#bd3786"
             ],
             [
              0.5555555555555556,
              "#d8576b"
             ],
             [
              0.6666666666666666,
              "#ed7953"
             ],
             [
              0.7777777777777778,
              "#fb9f3a"
             ],
             [
              0.8888888888888888,
              "#fdca26"
             ],
             [
              1,
              "#f0f921"
             ]
            ],
            "type": "histogram2dcontour"
           }
          ],
          "mesh3d": [
           {
            "colorbar": {
             "outlinewidth": 0,
             "ticks": ""
            },
            "type": "mesh3d"
           }
          ],
          "parcoords": [
           {
            "line": {
             "colorbar": {
              "outlinewidth": 0,
              "ticks": ""
             }
            },
            "type": "parcoords"
           }
          ],
          "pie": [
           {
            "automargin": true,
            "type": "pie"
           }
          ],
          "scatter": [
           {
            "marker": {
             "colorbar": {
              "outlinewidth": 0,
              "ticks": ""
             }
            },
            "type": "scatter"
           }
          ],
          "scatter3d": [
           {
            "line": {
             "colorbar": {
              "outlinewidth": 0,
              "ticks": ""
             }
            },
            "marker": {
             "colorbar": {
              "outlinewidth": 0,
              "ticks": ""
             }
            },
            "type": "scatter3d"
           }
          ],
          "scattercarpet": [
           {
            "marker": {
             "colorbar": {
              "outlinewidth": 0,
              "ticks": ""
             }
            },
            "type": "scattercarpet"
           }
          ],
          "scattergeo": [
           {
            "marker": {
             "colorbar": {
              "outlinewidth": 0,
              "ticks": ""
             }
            },
            "type": "scattergeo"
           }
          ],
          "scattergl": [
           {
            "marker": {
             "colorbar": {
              "outlinewidth": 0,
              "ticks": ""
             }
            },
            "type": "scattergl"
           }
          ],
          "scattermapbox": [
           {
            "marker": {
             "colorbar": {
              "outlinewidth": 0,
              "ticks": ""
             }
            },
            "type": "scattermapbox"
           }
          ],
          "scatterpolar": [
           {
            "marker": {
             "colorbar": {
              "outlinewidth": 0,
              "ticks": ""
             }
            },
            "type": "scatterpolar"
           }
          ],
          "scatterpolargl": [
           {
            "marker": {
             "colorbar": {
              "outlinewidth": 0,
              "ticks": ""
             }
            },
            "type": "scatterpolargl"
           }
          ],
          "scatterternary": [
           {
            "marker": {
             "colorbar": {
              "outlinewidth": 0,
              "ticks": ""
             }
            },
            "type": "scatterternary"
           }
          ],
          "surface": [
           {
            "colorbar": {
             "outlinewidth": 0,
             "ticks": ""
            },
            "colorscale": [
             [
              0,
              "#0d0887"
             ],
             [
              0.1111111111111111,
              "#46039f"
             ],
             [
              0.2222222222222222,
              "#7201a8"
             ],
             [
              0.3333333333333333,
              "#9c179e"
             ],
             [
              0.4444444444444444,
              "#bd3786"
             ],
             [
              0.5555555555555556,
              "#d8576b"
             ],
             [
              0.6666666666666666,
              "#ed7953"
             ],
             [
              0.7777777777777778,
              "#fb9f3a"
             ],
             [
              0.8888888888888888,
              "#fdca26"
             ],
             [
              1,
              "#f0f921"
             ]
            ],
            "type": "surface"
           }
          ],
          "table": [
           {
            "cells": {
             "fill": {
              "color": "#EBF0F8"
             },
             "line": {
              "color": "white"
             }
            },
            "header": {
             "fill": {
              "color": "#C8D4E3"
             },
             "line": {
              "color": "white"
             }
            },
            "type": "table"
           }
          ]
         },
         "layout": {
          "annotationdefaults": {
           "arrowcolor": "#2a3f5f",
           "arrowhead": 0,
           "arrowwidth": 1
          },
          "autotypenumbers": "strict",
          "coloraxis": {
           "colorbar": {
            "outlinewidth": 0,
            "ticks": ""
           }
          },
          "colorscale": {
           "diverging": [
            [
             0,
             "#8e0152"
            ],
            [
             0.1,
             "#c51b7d"
            ],
            [
             0.2,
             "#de77ae"
            ],
            [
             0.3,
             "#f1b6da"
            ],
            [
             0.4,
             "#fde0ef"
            ],
            [
             0.5,
             "#f7f7f7"
            ],
            [
             0.6,
             "#e6f5d0"
            ],
            [
             0.7,
             "#b8e186"
            ],
            [
             0.8,
             "#7fbc41"
            ],
            [
             0.9,
             "#4d9221"
            ],
            [
             1,
             "#276419"
            ]
           ],
           "sequential": [
            [
             0,
             "#0d0887"
            ],
            [
             0.1111111111111111,
             "#46039f"
            ],
            [
             0.2222222222222222,
             "#7201a8"
            ],
            [
             0.3333333333333333,
             "#9c179e"
            ],
            [
             0.4444444444444444,
             "#bd3786"
            ],
            [
             0.5555555555555556,
             "#d8576b"
            ],
            [
             0.6666666666666666,
             "#ed7953"
            ],
            [
             0.7777777777777778,
             "#fb9f3a"
            ],
            [
             0.8888888888888888,
             "#fdca26"
            ],
            [
             1,
             "#f0f921"
            ]
           ],
           "sequentialminus": [
            [
             0,
             "#0d0887"
            ],
            [
             0.1111111111111111,
             "#46039f"
            ],
            [
             0.2222222222222222,
             "#7201a8"
            ],
            [
             0.3333333333333333,
             "#9c179e"
            ],
            [
             0.4444444444444444,
             "#bd3786"
            ],
            [
             0.5555555555555556,
             "#d8576b"
            ],
            [
             0.6666666666666666,
             "#ed7953"
            ],
            [
             0.7777777777777778,
             "#fb9f3a"
            ],
            [
             0.8888888888888888,
             "#fdca26"
            ],
            [
             1,
             "#f0f921"
            ]
           ]
          },
          "colorway": [
           "#636efa",
           "#EF553B",
           "#00cc96",
           "#ab63fa",
           "#FFA15A",
           "#19d3f3",
           "#FF6692",
           "#B6E880",
           "#FF97FF",
           "#FECB52"
          ],
          "font": {
           "color": "#2a3f5f"
          },
          "geo": {
           "bgcolor": "white",
           "lakecolor": "white",
           "landcolor": "#E5ECF6",
           "showlakes": true,
           "showland": true,
           "subunitcolor": "white"
          },
          "hoverlabel": {
           "align": "left"
          },
          "hovermode": "closest",
          "mapbox": {
           "style": "light"
          },
          "paper_bgcolor": "white",
          "plot_bgcolor": "#E5ECF6",
          "polar": {
           "angularaxis": {
            "gridcolor": "white",
            "linecolor": "white",
            "ticks": ""
           },
           "bgcolor": "#E5ECF6",
           "radialaxis": {
            "gridcolor": "white",
            "linecolor": "white",
            "ticks": ""
           }
          },
          "scene": {
           "xaxis": {
            "backgroundcolor": "#E5ECF6",
            "gridcolor": "white",
            "gridwidth": 2,
            "linecolor": "white",
            "showbackground": true,
            "ticks": "",
            "zerolinecolor": "white"
           },
           "yaxis": {
            "backgroundcolor": "#E5ECF6",
            "gridcolor": "white",
            "gridwidth": 2,
            "linecolor": "white",
            "showbackground": true,
            "ticks": "",
            "zerolinecolor": "white"
           },
           "zaxis": {
            "backgroundcolor": "#E5ECF6",
            "gridcolor": "white",
            "gridwidth": 2,
            "linecolor": "white",
            "showbackground": true,
            "ticks": "",
            "zerolinecolor": "white"
           }
          },
          "shapedefaults": {
           "line": {
            "color": "#2a3f5f"
           }
          },
          "ternary": {
           "aaxis": {
            "gridcolor": "white",
            "linecolor": "white",
            "ticks": ""
           },
           "baxis": {
            "gridcolor": "white",
            "linecolor": "white",
            "ticks": ""
           },
           "bgcolor": "#E5ECF6",
           "caxis": {
            "gridcolor": "white",
            "linecolor": "white",
            "ticks": ""
           }
          },
          "title": {
           "x": 0.05
          },
          "xaxis": {
           "automargin": true,
           "gridcolor": "white",
           "linecolor": "white",
           "ticks": "",
           "title": {
            "standoff": 15
           },
           "zerolinecolor": "white",
           "zerolinewidth": 2
          },
          "yaxis": {
           "automargin": true,
           "gridcolor": "white",
           "linecolor": "white",
           "ticks": "",
           "title": {
            "standoff": 15
           },
           "zerolinecolor": "white",
           "zerolinewidth": 2
          }
         }
        },
        "title": {
         "text": "CHM"
        }
       }
      }
     },
     "metadata": {},
     "output_type": "display_data"
    }
   ],
   "source": [
    "import plotly.graph_objects as go\n",
    "from PIL import Image\n",
    "import imageio\n",
    "import pandas as pd\n",
    "import matplotlib.pyplot as plt\n",
    "\n",
    "fig = go.Figure(data=[go.Surface(z=clipchm)])\n",
    "\n",
    "fig.update_layout(title='CHM', autosize=True)\n",
    "\n",
    "fig.show()\n"
   ]
  }
 ],
 "metadata": {
  "kernelspec": {
   "display_name": "Python 3 (ipykernel)",
   "language": "python",
   "name": "python3"
  },
  "language_info": {
   "codemirror_mode": {
    "name": "ipython",
    "version": 3
   },
   "file_extension": ".py",
   "mimetype": "text/x-python",
   "name": "python",
   "nbconvert_exporter": "python",
   "pygments_lexer": "ipython3",
   "version": "3.9.12"
  },
  "vscode": {
   "interpreter": {
    "hash": "098abfbdda89cc068fc5a24c70b28519776b65016448753c248b3e3ae6b6b2c3"
   }
  }
 },
 "nbformat": 4,
 "nbformat_minor": 4
}
