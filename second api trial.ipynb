{
 "cells": [
  {
   "cell_type": "code",
   "execution_count": 1,
   "metadata": {},
   "outputs": [
    {
     "data": {
      "text/plain": [
       "{'LocationResult': [{'Municipality': 'Lokeren',\n",
       "   'Zipcode': '9160',\n",
       "   'Thoroughfarename': 'Hoogstraat',\n",
       "   'Housenumber': '146',\n",
       "   'ID': 1126242,\n",
       "   'FormattedAddress': 'Hoogstraat 146, 9160 Lokeren',\n",
       "   'Location': {'Lat_WGS84': 51.10529617014935,\n",
       "    'Lon_WGS84': 3.961153456170891,\n",
       "    'X_Lambert72': 121452.31,\n",
       "    'Y_Lambert72': 199545.21},\n",
       "   'LocationType': 'crab_huisnummer_manueleAanduidingVanIngangVanGebouw',\n",
       "   'BoundingBox': {'LowerLeft': {'Lat_WGS84': 51.10529617014935,\n",
       "     'Lon_WGS84': 3.961153456170891,\n",
       "     'X_Lambert72': 121452.31,\n",
       "     'Y_Lambert72': 199545.21},\n",
       "    'UpperRight': {'Lat_WGS84': 51.10529617014935,\n",
       "     'Lon_WGS84': 3.961153456170891,\n",
       "     'X_Lambert72': 121452.31,\n",
       "     'Y_Lambert72': 199545.21}}}]}"
      ]
     },
     "execution_count": 1,
     "metadata": {},
     "output_type": "execute_result"
    }
   ],
   "source": [
    "import requests\n",
    "adres = \"Hoogstraat 146, 9160 Lokeren\"\n",
    "response = requests.get(f\"https://loc.geopunt.be/v4/location?q={adres}\").json()\n",
    "response"
   ]
  },
  {
   "cell_type": "code",
   "execution_count": 42,
   "metadata": {},
   "outputs": [
    {
     "data": {
      "text/plain": [
       "{'adresMatches': [{'identificator': {'id': 'https://data.vlaanderen.be/id/adres/2404355',\n",
       "    'naamruimte': 'https://data.vlaanderen.be/id/adres',\n",
       "    'objectId': '2404355',\n",
       "    'versieId': '2011-04-29T15:17:55+02:00'},\n",
       "   'detail': 'https://api.basisregisters.vlaanderen.be/v1/adressen/2404355',\n",
       "   'gemeente': {'objectId': '46014',\n",
       "    'detail': 'https://api.basisregisters.vlaanderen.be/v1/gemeenten/46014',\n",
       "    'gemeentenaam': {'geografischeNaam': {'spelling': 'Lokeren',\n",
       "      'taal': 'nl'}}},\n",
       "   'postinfo': {'objectId': '9160',\n",
       "    'detail': 'https://api.basisregisters.vlaanderen.be/v1/postinfo/9160'},\n",
       "   'straatnaam': {'objectId': '77311',\n",
       "    'detail': 'https://api.basisregisters.vlaanderen.be/v1/straatnamen/77311',\n",
       "    'straatnaam': {'geografischeNaam': {'spelling': 'Zamanstraat',\n",
       "      'taal': 'nl'}}},\n",
       "   'huisnummer': '5',\n",
       "   'volledigAdres': {'geografischeNaam': {'spelling': 'Zamanstraat 5, 9160 Lokeren',\n",
       "     'taal': 'nl'}},\n",
       "   'adresPositie': {'point': {'coordinates': [120966.69, 199499.72],\n",
       "     'type': 'Point'}},\n",
       "   'positieSpecificatie': 'gebouweenheid',\n",
       "   'positieGeometrieMethode': 'afgeleidVanObject',\n",
       "   'adresStatus': 'inGebruik',\n",
       "   'officieelToegekend': True,\n",
       "   'adresseerbareObjecten': [{'objectType': 'gebouweenheid',\n",
       "     'objectId': '7629104',\n",
       "     'detail': 'https://api.basisregisters.vlaanderen.be/v1/gebouweenheden/7629104'},\n",
       "    {'objectType': 'perceel',\n",
       "     'objectId': '46383D1495-00V000',\n",
       "     'detail': 'https://api.basisregisters.vlaanderen.be/v1/percelen/46383D1495-00V000'}],\n",
       "   'score': 100.0}],\n",
       " 'warnings': []}"
      ]
     },
     "execution_count": 42,
     "metadata": {},
     "output_type": "execute_result"
    }
   ],
   "source": [
    "import requests\n",
    "import earthpy.plot as ep\n",
    "import json\n",
    "streetname = input('Give me the streetname?')\n",
    "housenumber = input('Give me the housenumber?')\n",
    "zipcode = input('Give me the zipcode?')\n",
    "adres_api = {\"straatnaam\":{streetname}, \"huisnummer\":{housenumber}, \"postcode\":{zipcode}}\n",
    "api_url = \"https://api.basisregisters.vlaanderen.be/v1/adresmatch\"\n",
    "response3 = requests.get(url = api_url, params = adres_api).json()\n",
    "response3"
   ]
  },
  {
   "cell_type": "code",
   "execution_count": 44,
   "metadata": {},
   "outputs": [
    {
     "ename": "KeyError",
     "evalue": "'adresseerbareObjecten'",
     "output_type": "error",
     "traceback": [
      "\u001b[0;31m---------------------------------------------------------------------------\u001b[0m",
      "\u001b[0;31mKeyError\u001b[0m                                  Traceback (most recent call last)",
      "\u001b[1;32m/Users/Jorg/BeCode/3D_houses/second api trial.ipynb Cell 3'\u001b[0m in \u001b[0;36m<cell line: 6>\u001b[0;34m()\u001b[0m\n\u001b[1;32m      <a href='vscode-notebook-cell:/Users/Jorg/BeCode/3D_houses/second%20api%20trial.ipynb#ch0000002?line=2'>3</a>\u001b[0m \u001b[39mimport\u001b[39;00m \u001b[39mjson\u001b[39;00m\n\u001b[1;32m      <a href='vscode-notebook-cell:/Users/Jorg/BeCode/3D_houses/second%20api%20trial.ipynb#ch0000002?line=4'>5</a>\u001b[0m \u001b[39m#responsetest = response3['adresMatches']['identificator']['adresseerbareObjecten']['detail'][0]\u001b[39;00m\n\u001b[0;32m----> <a href='vscode-notebook-cell:/Users/Jorg/BeCode/3D_houses/second%20api%20trial.ipynb#ch0000002?line=5'>6</a>\u001b[0m responsetest \u001b[39m=\u001b[39m response3[\u001b[39m'\u001b[39;49m\u001b[39madresseerbareObjecten\u001b[39;49m\u001b[39m'\u001b[39;49m][\u001b[39m0\u001b[39m][\u001b[39m'\u001b[39m\u001b[39mobjectType\u001b[39m\u001b[39m'\u001b[39m][\u001b[39m'\u001b[39m\u001b[39mdetail\u001b[39m\u001b[39m'\u001b[39m]\n\u001b[1;32m      <a href='vscode-notebook-cell:/Users/Jorg/BeCode/3D_houses/second%20api%20trial.ipynb#ch0000002?line=7'>8</a>\u001b[0m response \u001b[39m=\u001b[39m requests\u001b[39m.\u001b[39mget(\u001b[39m\"\u001b[39m\u001b[39mhttps://api.basisregisters.vlaanderen.be/v1/gebouweenheden/7570703\u001b[39m\u001b[39m\"\u001b[39m)\u001b[39m.\u001b[39mjson()\n\u001b[1;32m     <a href='vscode-notebook-cell:/Users/Jorg/BeCode/3D_houses/second%20api%20trial.ipynb#ch0000002?line=9'>10</a>\u001b[0m responsetest\n",
      "\u001b[0;31mKeyError\u001b[0m: 'adresseerbareObjecten'"
     ]
    }
   ],
   "source": [
    "import requests\n",
    "import earthpy.plot as ep\n",
    "import json\n",
    "\n",
    "#responsetest = response3['adresMatches']['identificator']['adresseerbareObjecten']['detail'][0]\n",
    "responsetest = response3['adresseerbareObjecten'][0]['objectType']['detail']\n",
    "\n",
    "response = requests.get(\"https://api.basisregisters.vlaanderen.be/v1/gebouweenheden/7570703\").json()\n",
    "\n",
    "responsetest"
   ]
  },
  {
   "cell_type": "code",
   "execution_count": 4,
   "metadata": {},
   "outputs": [
    {
     "data": {
      "text/plain": [
       "{'identificator': {'id': 'https://data.vlaanderen.be/id/gebouw/7569832',\n",
       "  'naamruimte': 'https://data.vlaanderen.be/id/gebouw',\n",
       "  'objectId': '7569832',\n",
       "  'versieId': '2017-03-09T17:15:54+01:00'},\n",
       " 'geometriePolygoon': {'polygon': {'coordinates': [[[121465.63794352859,\n",
       "      199545.93402853236],\n",
       "     [121465.37227953225, 199545.9234685339],\n",
       "     [121459.25586352497, 199545.67969253287],\n",
       "     [121459.23755952716, 199546.13934053108],\n",
       "     [121453.00024752319, 199545.89204453304],\n",
       "     [121452.9961515218, 199545.9920125343],\n",
       "     [121451.19967152178, 199545.91854053363],\n",
       "     [121451.20376752317, 199545.8185725324],\n",
       "     [121444.96619951725, 199545.56090853363],\n",
       "     [121445.48895151913, 199532.90887652338],\n",
       "     [121458.08927152306, 199533.4747645259],\n",
       "     [121466.20171952993, 199534.0245245248],\n",
       "     [121466.00920753181, 199538.2773245275],\n",
       "     [121466.10911153257, 199538.28103652596],\n",
       "     [121466.04319152981, 199540.06343653053],\n",
       "     [121465.94322352856, 199540.05972452834],\n",
       "     [121465.63794352859, 199545.93402853236]]],\n",
       "   'type': 'Polygon'}},\n",
       " 'geometrieMethode': 'ingemetenGRB',\n",
       " 'gebouwStatus': 'gerealiseerd',\n",
       " 'gebouweenheden': [{'objectId': '7570694',\n",
       "   'detail': 'https://api.basisregisters.vlaanderen.be/v1/gebouweenheden/7570694'},\n",
       "  {'objectId': '7570695',\n",
       "   'detail': 'https://api.basisregisters.vlaanderen.be/v1/gebouweenheden/7570695'},\n",
       "  {'objectId': '7570696',\n",
       "   'detail': 'https://api.basisregisters.vlaanderen.be/v1/gebouweenheden/7570696'},\n",
       "  {'objectId': '7570697',\n",
       "   'detail': 'https://api.basisregisters.vlaanderen.be/v1/gebouweenheden/7570697'},\n",
       "  {'objectId': '7570698',\n",
       "   'detail': 'https://api.basisregisters.vlaanderen.be/v1/gebouweenheden/7570698'},\n",
       "  {'objectId': '7570699',\n",
       "   'detail': 'https://api.basisregisters.vlaanderen.be/v1/gebouweenheden/7570699'},\n",
       "  {'objectId': '7570700',\n",
       "   'detail': 'https://api.basisregisters.vlaanderen.be/v1/gebouweenheden/7570700'},\n",
       "  {'objectId': '7570701',\n",
       "   'detail': 'https://api.basisregisters.vlaanderen.be/v1/gebouweenheden/7570701'},\n",
       "  {'objectId': '7570702',\n",
       "   'detail': 'https://api.basisregisters.vlaanderen.be/v1/gebouweenheden/7570702'},\n",
       "  {'objectId': '7570703',\n",
       "   'detail': 'https://api.basisregisters.vlaanderen.be/v1/gebouweenheden/7570703'},\n",
       "  {'objectId': '30316087',\n",
       "   'detail': 'https://api.basisregisters.vlaanderen.be/v1/gebouweenheden/30316087'},\n",
       "  {'objectId': '30316088',\n",
       "   'detail': 'https://api.basisregisters.vlaanderen.be/v1/gebouweenheden/30316088'}],\n",
       " 'percelen': [{'objectId': '46383D1389-00L000',\n",
       "   'detail': 'https://api.basisregisters.vlaanderen.be/v1/percelen/46383D1389-00L000'}]}"
      ]
     },
     "execution_count": 4,
     "metadata": {},
     "output_type": "execute_result"
    }
   ],
   "source": [
    "import requests\n",
    "import earthpy.plot as ep\n",
    "import json\n",
    "response4 = requests.get(\"https://api.basisregisters.vlaanderen.be/v1/gebouwen/7569832\").json()\n",
    "response4\n",
    "\n"
   ]
  },
  {
   "cell_type": "code",
   "execution_count": 45,
   "metadata": {},
   "outputs": [
    {
     "data": {
      "text/plain": [
       "shapely.geometry.polygon.Polygon"
      ]
     },
     "execution_count": 45,
     "metadata": {},
     "output_type": "execute_result"
    }
   ],
   "source": [
    "import requests\n",
    "import earthpy.plot as ep\n",
    "import json\n",
    "from shapely.geometry.polygon import Polygon\n",
    "\n",
    "response4 = requests.get(\"https://api.basisregisters.vlaanderen.be/v1/gebouwen/7569832\").json()\n",
    "polygon_house = Polygon(response4[\"geometriePolygoon\"][\"polygon\"][\"coordinates\"][0])\n",
    "type(polygon_house)\n",
    "#save polygon_house as a shapefile and then try to 3d plot it\n"
   ]
  },
  {
   "cell_type": "code",
   "execution_count": 6,
   "metadata": {},
   "outputs": [],
   "source": [
    "import geopandas as gpd\n",
    "dsm14 = \"/Users/Jorg/3D_houses_data/DHMVIIDSMRAS1m_k14/GeoTIFF/DHMVIIDSMRAS1m_k14.tif\"\n",
    "dtm14 = \"/Users/Jorg/3D_houses_data/DHMVIIDTMRAS1m_k14/GeoTIFF/DHMVIIDTMRAS1m_k14.tif\"\n",
    "shpfile14 = gpd.read_file(\"/Users/Jorg/3D_houses_data/DHMVIIDTMRAS1m_k14/DHMVII_vdc_k14/DHMVII_vdc_k14.shp\")\n",
    "dsm22 = \"/Users/Jorg/3D_houses_data/DHMVIIDSMRAS1m_k22/GeoTIFF/DHMVIIDSMRAS1m_k22.tif\"\"/Users/Jorg/3D_houses_data/DHMVIIDTMRAS1m_k14/DHMVII_vdc_k14/DHMVII_vdc_k14.shp\"\n",
    "dtm22 = \"/Users/Jorg/3D_houses_data/DHMVIIDTMRAS1m_k22/GeoTIFF/DHMVIIDTMRAS1m_k22.tif\"\n",
    "shpfile22 = gpd.read_file(\"/Users/Jorg/3D_houses_data/DHMVIIDTMRAS1m_k22/DHMVII_vdc_k22/DHMVII_vdc_k22.shp\")\n",
    "dsm15 = \"/Users/Jorg/3D_houses_data/DHMVIIDSMRAS1m_k15/GeoTIFF/DHMVIIDSMRAS1m_k15.tif\"\n",
    "dtm15 = \"/Users/Jorg/3D_houses_data/DHMVIIDTMRAS1m_k15/GeoTIFF/DHMVIIDTMRAS1m_k15.tif\"\n",
    "shpfile15 = gpd.read_file(\"/Users/Jorg/3D_houses_data/DHMVIIDTMRAS1m_k15/DHMVII_vdc_k15/DHMVII_vdc_k15.shp\")\n",
    "dsm23 = \"/Users/Jorg/3D_houses_data/DHMVIIDSMRAS1m_k23/GeoTIFF/DHMVIIDSMRAS1m_k23.tif\"\n",
    "dtm23 = \"/Users/Jorg/3D_houses_data/DHMVIIDTMRAS1m_k23/GeoTIFF/DHMVIIDTMRAS1m_k23.tif\"\n",
    "shpfile23 = gpd.read_file(\"/Users/Jorg/3D_houses_data/DHMVIIDTMRAS1m_k23/DHMVII_vdc_k23/DHMVII_vdc_k23.shp\")\n",
    "dsm30 = \"/Users/Jorg/3D_houses_data/DHMVIIDSMRAS1m_k30/GeoTIFF/DHMVIIDSMRAS1m_k30.tif\"\n",
    "dtm30 = \"/Users/Jorg/3D_houses_data/DHMVIIDTMRAS1m_k30/GeoTIFF/DHMVIIDTMRAS1m_k30.tif\"\n",
    "shpfile30 = gpd.read_file(\"/Users/Jorg/3D_houses_data/DHMVIIDTMRAS1m_k30/DHMVII_vdc_k30/DHMVII_vdc_k30.shp\")\n"
   ]
  },
  {
   "cell_type": "code",
   "execution_count": 7,
   "metadata": {},
   "outputs": [
    {
     "name": "stdout",
     "output_type": "stream",
     "text": [
      "inside\n",
      "inside\n",
      "inside\n",
      "inside\n",
      "inside\n",
      "inside\n",
      "inside\n",
      "inside\n",
      "inside\n",
      "inside\n",
      "inside\n",
      "inside\n",
      "inside\n",
      "inside\n",
      "inside\n",
      "inside\n",
      "inside\n"
     ]
    }
   ],
   "source": [
    "import rasterio\n",
    "import requests\n",
    "import json\n",
    "from shapely.geometry.polygon import Polygon\n",
    "\n",
    "src = rasterio.open(dsm14)\n",
    "src.bounds\n",
    "\n",
    "response4 = requests.get(\"https://api.basisregisters.vlaanderen.be/v1/gebouwen/7569832\").json()\n",
    "polygon_house = Polygon(response4[\"geometriePolygoon\"][\"polygon\"][\"coordinates\"][0])\n",
    "float_house = (response4[\"geometriePolygoon\"][\"polygon\"][\"coordinates\"][0])\n",
    "\n",
    "for x, y in float_house:\n",
    "    if src.bounds[0] < x < src.bounds[2] and src.bounds[1] < y < src.bounds[3]:\n",
    "        print(\"inside\")\n",
    "    else:\n",
    "        print(\"outside\")\n"
   ]
  },
  {
   "cell_type": "code",
   "execution_count": 27,
   "metadata": {},
   "outputs": [
    {
     "name": "stderr",
     "output_type": "stream",
     "text": [
      "ERROR 1: PROJ: proj_identify: /Users/Jorg/opt/anaconda3/share/proj/proj.db lacks DATABASE.LAYOUT.VERSION.MAJOR / DATABASE.LAYOUT.VERSION.MINOR metadata. It comes from another PROJ installation.\n",
      "ERROR 1: PROJ: proj_identify: /Users/Jorg/opt/anaconda3/share/proj/proj.db lacks DATABASE.LAYOUT.VERSION.MAJOR / DATABASE.LAYOUT.VERSION.MINOR metadata. It comes from another PROJ installation.\n",
      "ERROR 1: PROJ: proj_identify: /Users/Jorg/opt/anaconda3/share/proj/proj.db lacks DATABASE.LAYOUT.VERSION.MAJOR / DATABASE.LAYOUT.VERSION.MINOR metadata. It comes from another PROJ installation.\n",
      "ERROR 1: PROJ: proj_identify: /Users/Jorg/opt/anaconda3/share/proj/proj.db lacks DATABASE.LAYOUT.VERSION.MAJOR / DATABASE.LAYOUT.VERSION.MINOR metadata. It comes from another PROJ installation.\n"
     ]
    },
    {
     "data": {
      "text/plain": [
       "xarray.core.dataarray.DataArray"
      ]
     },
     "execution_count": 27,
     "metadata": {},
     "output_type": "execute_result"
    }
   ],
   "source": [
    "import rioxarray\n",
    "import fiona\n",
    "import rasterio\n",
    "import rasterio.mask\n",
    "from PIL import Image\n",
    "\n",
    "xds = rioxarray.open_rasterio(dsm14, masked=True)\n",
    "clippeddsm = xds.rio.clip([polygon_house], from_disk=True)\n",
    "xdt = rioxarray.open_rasterio(dtm14, masked=True)\n",
    "clippeddtm = xdt.rio.clip([polygon_house], from_disk=True)\n",
    "chm = clippeddsm - clippeddtm\n",
    "#chm.plot()\n",
    "chm.rio.to_raster(\"clipped_invert.tif\", tiled=True)\n",
    "type(xds)"
   ]
  },
  {
   "cell_type": "code",
   "execution_count": 9,
   "metadata": {},
   "outputs": [
    {
     "data": {
      "text/html": [
       "<div><svg style=\"position: absolute; width: 0; height: 0; overflow: hidden\">\n",
       "<defs>\n",
       "<symbol id=\"icon-database\" viewBox=\"0 0 32 32\">\n",
       "<path d=\"M16 0c-8.837 0-16 2.239-16 5v4c0 2.761 7.163 5 16 5s16-2.239 16-5v-4c0-2.761-7.163-5-16-5z\"></path>\n",
       "<path d=\"M16 17c-8.837 0-16-2.239-16-5v6c0 2.761 7.163 5 16 5s16-2.239 16-5v-6c0 2.761-7.163 5-16 5z\"></path>\n",
       "<path d=\"M16 26c-8.837 0-16-2.239-16-5v6c0 2.761 7.163 5 16 5s16-2.239 16-5v-6c0 2.761-7.163 5-16 5z\"></path>\n",
       "</symbol>\n",
       "<symbol id=\"icon-file-text2\" viewBox=\"0 0 32 32\">\n",
       "<path d=\"M28.681 7.159c-0.694-0.947-1.662-2.053-2.724-3.116s-2.169-2.030-3.116-2.724c-1.612-1.182-2.393-1.319-2.841-1.319h-15.5c-1.378 0-2.5 1.121-2.5 2.5v27c0 1.378 1.122 2.5 2.5 2.5h23c1.378 0 2.5-1.122 2.5-2.5v-19.5c0-0.448-0.137-1.23-1.319-2.841zM24.543 5.457c0.959 0.959 1.712 1.825 2.268 2.543h-4.811v-4.811c0.718 0.556 1.584 1.309 2.543 2.268zM28 29.5c0 0.271-0.229 0.5-0.5 0.5h-23c-0.271 0-0.5-0.229-0.5-0.5v-27c0-0.271 0.229-0.5 0.5-0.5 0 0 15.499-0 15.5 0v7c0 0.552 0.448 1 1 1h7v19.5z\"></path>\n",
       "<path d=\"M23 26h-14c-0.552 0-1-0.448-1-1s0.448-1 1-1h14c0.552 0 1 0.448 1 1s-0.448 1-1 1z\"></path>\n",
       "<path d=\"M23 22h-14c-0.552 0-1-0.448-1-1s0.448-1 1-1h14c0.552 0 1 0.448 1 1s-0.448 1-1 1z\"></path>\n",
       "<path d=\"M23 18h-14c-0.552 0-1-0.448-1-1s0.448-1 1-1h14c0.552 0 1 0.448 1 1s-0.448 1-1 1z\"></path>\n",
       "</symbol>\n",
       "</defs>\n",
       "</svg>\n",
       "<style>/* CSS stylesheet for displaying xarray objects in jupyterlab.\n",
       " *\n",
       " */\n",
       "\n",
       ":root {\n",
       "  --xr-font-color0: var(--jp-content-font-color0, rgba(0, 0, 0, 1));\n",
       "  --xr-font-color2: var(--jp-content-font-color2, rgba(0, 0, 0, 0.54));\n",
       "  --xr-font-color3: var(--jp-content-font-color3, rgba(0, 0, 0, 0.38));\n",
       "  --xr-border-color: var(--jp-border-color2, #e0e0e0);\n",
       "  --xr-disabled-color: var(--jp-layout-color3, #bdbdbd);\n",
       "  --xr-background-color: var(--jp-layout-color0, white);\n",
       "  --xr-background-color-row-even: var(--jp-layout-color1, white);\n",
       "  --xr-background-color-row-odd: var(--jp-layout-color2, #eeeeee);\n",
       "}\n",
       "\n",
       "html[theme=dark],\n",
       "body.vscode-dark {\n",
       "  --xr-font-color0: rgba(255, 255, 255, 1);\n",
       "  --xr-font-color2: rgba(255, 255, 255, 0.54);\n",
       "  --xr-font-color3: rgba(255, 255, 255, 0.38);\n",
       "  --xr-border-color: #1F1F1F;\n",
       "  --xr-disabled-color: #515151;\n",
       "  --xr-background-color: #111111;\n",
       "  --xr-background-color-row-even: #111111;\n",
       "  --xr-background-color-row-odd: #313131;\n",
       "}\n",
       "\n",
       ".xr-wrap {\n",
       "  display: block;\n",
       "  min-width: 300px;\n",
       "  max-width: 700px;\n",
       "}\n",
       "\n",
       ".xr-text-repr-fallback {\n",
       "  /* fallback to plain text repr when CSS is not injected (untrusted notebook) */\n",
       "  display: none;\n",
       "}\n",
       "\n",
       ".xr-header {\n",
       "  padding-top: 6px;\n",
       "  padding-bottom: 6px;\n",
       "  margin-bottom: 4px;\n",
       "  border-bottom: solid 1px var(--xr-border-color);\n",
       "}\n",
       "\n",
       ".xr-header > div,\n",
       ".xr-header > ul {\n",
       "  display: inline;\n",
       "  margin-top: 0;\n",
       "  margin-bottom: 0;\n",
       "}\n",
       "\n",
       ".xr-obj-type,\n",
       ".xr-array-name {\n",
       "  margin-left: 2px;\n",
       "  margin-right: 10px;\n",
       "}\n",
       "\n",
       ".xr-obj-type {\n",
       "  color: var(--xr-font-color2);\n",
       "}\n",
       "\n",
       ".xr-sections {\n",
       "  padding-left: 0 !important;\n",
       "  display: grid;\n",
       "  grid-template-columns: 150px auto auto 1fr 20px 20px;\n",
       "}\n",
       "\n",
       ".xr-section-item {\n",
       "  display: contents;\n",
       "}\n",
       "\n",
       ".xr-section-item input {\n",
       "  display: none;\n",
       "}\n",
       "\n",
       ".xr-section-item input + label {\n",
       "  color: var(--xr-disabled-color);\n",
       "}\n",
       "\n",
       ".xr-section-item input:enabled + label {\n",
       "  cursor: pointer;\n",
       "  color: var(--xr-font-color2);\n",
       "}\n",
       "\n",
       ".xr-section-item input:enabled + label:hover {\n",
       "  color: var(--xr-font-color0);\n",
       "}\n",
       "\n",
       ".xr-section-summary {\n",
       "  grid-column: 1;\n",
       "  color: var(--xr-font-color2);\n",
       "  font-weight: 500;\n",
       "}\n",
       "\n",
       ".xr-section-summary > span {\n",
       "  display: inline-block;\n",
       "  padding-left: 0.5em;\n",
       "}\n",
       "\n",
       ".xr-section-summary-in:disabled + label {\n",
       "  color: var(--xr-font-color2);\n",
       "}\n",
       "\n",
       ".xr-section-summary-in + label:before {\n",
       "  display: inline-block;\n",
       "  content: '►';\n",
       "  font-size: 11px;\n",
       "  width: 15px;\n",
       "  text-align: center;\n",
       "}\n",
       "\n",
       ".xr-section-summary-in:disabled + label:before {\n",
       "  color: var(--xr-disabled-color);\n",
       "}\n",
       "\n",
       ".xr-section-summary-in:checked + label:before {\n",
       "  content: '▼';\n",
       "}\n",
       "\n",
       ".xr-section-summary-in:checked + label > span {\n",
       "  display: none;\n",
       "}\n",
       "\n",
       ".xr-section-summary,\n",
       ".xr-section-inline-details {\n",
       "  padding-top: 4px;\n",
       "  padding-bottom: 4px;\n",
       "}\n",
       "\n",
       ".xr-section-inline-details {\n",
       "  grid-column: 2 / -1;\n",
       "}\n",
       "\n",
       ".xr-section-details {\n",
       "  display: none;\n",
       "  grid-column: 1 / -1;\n",
       "  margin-bottom: 5px;\n",
       "}\n",
       "\n",
       ".xr-section-summary-in:checked ~ .xr-section-details {\n",
       "  display: contents;\n",
       "}\n",
       "\n",
       ".xr-array-wrap {\n",
       "  grid-column: 1 / -1;\n",
       "  display: grid;\n",
       "  grid-template-columns: 20px auto;\n",
       "}\n",
       "\n",
       ".xr-array-wrap > label {\n",
       "  grid-column: 1;\n",
       "  vertical-align: top;\n",
       "}\n",
       "\n",
       ".xr-preview {\n",
       "  color: var(--xr-font-color3);\n",
       "}\n",
       "\n",
       ".xr-array-preview,\n",
       ".xr-array-data {\n",
       "  padding: 0 5px !important;\n",
       "  grid-column: 2;\n",
       "}\n",
       "\n",
       ".xr-array-data,\n",
       ".xr-array-in:checked ~ .xr-array-preview {\n",
       "  display: none;\n",
       "}\n",
       "\n",
       ".xr-array-in:checked ~ .xr-array-data,\n",
       ".xr-array-preview {\n",
       "  display: inline-block;\n",
       "}\n",
       "\n",
       ".xr-dim-list {\n",
       "  display: inline-block !important;\n",
       "  list-style: none;\n",
       "  padding: 0 !important;\n",
       "  margin: 0;\n",
       "}\n",
       "\n",
       ".xr-dim-list li {\n",
       "  display: inline-block;\n",
       "  padding: 0;\n",
       "  margin: 0;\n",
       "}\n",
       "\n",
       ".xr-dim-list:before {\n",
       "  content: '(';\n",
       "}\n",
       "\n",
       ".xr-dim-list:after {\n",
       "  content: ')';\n",
       "}\n",
       "\n",
       ".xr-dim-list li:not(:last-child):after {\n",
       "  content: ',';\n",
       "  padding-right: 5px;\n",
       "}\n",
       "\n",
       ".xr-has-index {\n",
       "  font-weight: bold;\n",
       "}\n",
       "\n",
       ".xr-var-list,\n",
       ".xr-var-item {\n",
       "  display: contents;\n",
       "}\n",
       "\n",
       ".xr-var-item > div,\n",
       ".xr-var-item label,\n",
       ".xr-var-item > .xr-var-name span {\n",
       "  background-color: var(--xr-background-color-row-even);\n",
       "  margin-bottom: 0;\n",
       "}\n",
       "\n",
       ".xr-var-item > .xr-var-name:hover span {\n",
       "  padding-right: 5px;\n",
       "}\n",
       "\n",
       ".xr-var-list > li:nth-child(odd) > div,\n",
       ".xr-var-list > li:nth-child(odd) > label,\n",
       ".xr-var-list > li:nth-child(odd) > .xr-var-name span {\n",
       "  background-color: var(--xr-background-color-row-odd);\n",
       "}\n",
       "\n",
       ".xr-var-name {\n",
       "  grid-column: 1;\n",
       "}\n",
       "\n",
       ".xr-var-dims {\n",
       "  grid-column: 2;\n",
       "}\n",
       "\n",
       ".xr-var-dtype {\n",
       "  grid-column: 3;\n",
       "  text-align: right;\n",
       "  color: var(--xr-font-color2);\n",
       "}\n",
       "\n",
       ".xr-var-preview {\n",
       "  grid-column: 4;\n",
       "}\n",
       "\n",
       ".xr-var-name,\n",
       ".xr-var-dims,\n",
       ".xr-var-dtype,\n",
       ".xr-preview,\n",
       ".xr-attrs dt {\n",
       "  white-space: nowrap;\n",
       "  overflow: hidden;\n",
       "  text-overflow: ellipsis;\n",
       "  padding-right: 10px;\n",
       "}\n",
       "\n",
       ".xr-var-name:hover,\n",
       ".xr-var-dims:hover,\n",
       ".xr-var-dtype:hover,\n",
       ".xr-attrs dt:hover {\n",
       "  overflow: visible;\n",
       "  width: auto;\n",
       "  z-index: 1;\n",
       "}\n",
       "\n",
       ".xr-var-attrs,\n",
       ".xr-var-data {\n",
       "  display: none;\n",
       "  background-color: var(--xr-background-color) !important;\n",
       "  padding-bottom: 5px !important;\n",
       "}\n",
       "\n",
       ".xr-var-attrs-in:checked ~ .xr-var-attrs,\n",
       ".xr-var-data-in:checked ~ .xr-var-data {\n",
       "  display: block;\n",
       "}\n",
       "\n",
       ".xr-var-data > table {\n",
       "  float: right;\n",
       "}\n",
       "\n",
       ".xr-var-name span,\n",
       ".xr-var-data,\n",
       ".xr-attrs {\n",
       "  padding-left: 25px !important;\n",
       "}\n",
       "\n",
       ".xr-attrs,\n",
       ".xr-var-attrs,\n",
       ".xr-var-data {\n",
       "  grid-column: 1 / -1;\n",
       "}\n",
       "\n",
       "dl.xr-attrs {\n",
       "  padding: 0;\n",
       "  margin: 0;\n",
       "  display: grid;\n",
       "  grid-template-columns: 125px auto;\n",
       "}\n",
       "\n",
       ".xr-attrs dt,\n",
       ".xr-attrs dd {\n",
       "  padding: 0;\n",
       "  margin: 0;\n",
       "  float: left;\n",
       "  padding-right: 10px;\n",
       "  width: auto;\n",
       "}\n",
       "\n",
       ".xr-attrs dt {\n",
       "  font-weight: normal;\n",
       "  grid-column: 1;\n",
       "}\n",
       "\n",
       ".xr-attrs dt:hover span {\n",
       "  display: inline-block;\n",
       "  background: var(--xr-background-color);\n",
       "  padding-right: 10px;\n",
       "}\n",
       "\n",
       ".xr-attrs dd {\n",
       "  grid-column: 2;\n",
       "  white-space: pre-wrap;\n",
       "  word-break: break-all;\n",
       "}\n",
       "\n",
       ".xr-icon-database,\n",
       ".xr-icon-file-text2 {\n",
       "  display: inline-block;\n",
       "  vertical-align: middle;\n",
       "  width: 1em;\n",
       "  height: 1.5em !important;\n",
       "  stroke-width: 0;\n",
       "  stroke: currentColor;\n",
       "  fill: currentColor;\n",
       "}\n",
       "</style><pre class='xr-text-repr-fallback'>&lt;xarray.DataArray (band: 1, y: 15, x: 23)&gt;\n",
       "array([[[        nan,         nan,         nan,         nan,\n",
       "                 nan,         nan,         nan,         nan,\n",
       "                 nan,         nan,         nan,         nan,\n",
       "                 nan,         nan,         nan,         nan,\n",
       "                 nan,         nan,         nan,         nan,\n",
       "                 nan,         nan,         nan],\n",
       "        [        nan,  6.46999979,  4.05999947,  4.70000029,\n",
       "          6.80999994,  8.10999966,  6.54795551,  6.77032518,\n",
       "          6.77603722,  6.40622997,  8.16977215,  7.34759951,\n",
       "          6.95442963,  6.75025034,  7.06459379,  7.06611919,\n",
       "          7.9800005 ,  8.10999966,  7.21999979,  7.26000023,\n",
       "          7.28999996,  7.3300004 ,         nan],\n",
       "        [        nan,  7.50999975,  7.53999949,  7.57999992,\n",
       "          7.60000038,  8.0807457 ,  7.98424911,  7.77539349,\n",
       "          7.79206324,  7.89234972,  8.16609859,  7.92270184,\n",
       "          7.9714756 ,  7.99530983,  8.05331516,  8.06128359,\n",
       "          8.12187529,  8.18999958,  8.22999954,  8.25      ,\n",
       "          8.31999969,  8.35000038,         nan],\n",
       "        [        nan,  8.53000021,  8.56000042,  8.59000015,\n",
       "          8.62372541,  8.65771484,  8.72059345,  8.77156544,\n",
       "...\n",
       "          8.27769232,  9.16878414,  9.36694241,  8.19459486,\n",
       "          8.12241316,  8.07448006,         nan],\n",
       "        [        nan,  7.8300004 ,  7.81999969,  7.79999971,\n",
       "          7.75      ,  7.71000004,  7.74000025,  7.61122417,\n",
       "          7.57346821,  7.56693792,  7.49170303,  7.46433115,\n",
       "          7.41256905,  7.39859581,  7.38864088,  7.29573774,\n",
       "          8.16585064,  9.13368607,  9.41166258,  8.15176773,\n",
       "          7.10018206,  7.05893135,         nan],\n",
       "        [        nan,  6.88999987,  6.84000015,  6.74000025,\n",
       "          2.42999983,  6.71000051,  6.5999999 ,  2.78999996,\n",
       "          6.58004999,  6.37443972,  4.52823591,  4.55267429,\n",
       "          5.56258965,  3.34767103,         nan,         nan,\n",
       "                 nan,         nan,         nan,         nan,\n",
       "                 nan,         nan,         nan],\n",
       "        [        nan,         nan,         nan,         nan,\n",
       "                 nan,         nan,         nan,         nan,\n",
       "                 nan,         nan,         nan,         nan,\n",
       "                 nan,         nan,         nan,         nan,\n",
       "                 nan,         nan,         nan,         nan,\n",
       "                 nan,         nan,         nan]]])\n",
       "Coordinates:\n",
       "  * x            (x) float64 1.214e+05 1.214e+05 ... 1.215e+05 1.215e+05\n",
       "  * y            (y) float64 1.995e+05 1.995e+05 ... 1.995e+05 1.995e+05\n",
       "  * band         (band) int64 1\n",
       "    spatial_ref  int64 0</pre><div class='xr-wrap' hidden><div class='xr-header'><div class='xr-obj-type'>xarray.DataArray</div><div class='xr-array-name'></div><ul class='xr-dim-list'><li><span class='xr-has-index'>band</span>: 1</li><li><span class='xr-has-index'>y</span>: 15</li><li><span class='xr-has-index'>x</span>: 23</li></ul></div><ul class='xr-sections'><li class='xr-section-item'><div class='xr-array-wrap'><input id='section-835f1588-45d7-40eb-ab3f-518fd6a360d3' class='xr-array-in' type='checkbox' checked><label for='section-835f1588-45d7-40eb-ab3f-518fd6a360d3' title='Show/hide data repr'><svg class='icon xr-icon-database'><use xlink:href='#icon-database'></use></svg></label><div class='xr-array-preview xr-preview'><span>nan nan nan nan nan nan nan nan ... nan nan nan nan nan nan nan nan</span></div><div class='xr-array-data'><pre>array([[[        nan,         nan,         nan,         nan,\n",
       "                 nan,         nan,         nan,         nan,\n",
       "                 nan,         nan,         nan,         nan,\n",
       "                 nan,         nan,         nan,         nan,\n",
       "                 nan,         nan,         nan,         nan,\n",
       "                 nan,         nan,         nan],\n",
       "        [        nan,  6.46999979,  4.05999947,  4.70000029,\n",
       "          6.80999994,  8.10999966,  6.54795551,  6.77032518,\n",
       "          6.77603722,  6.40622997,  8.16977215,  7.34759951,\n",
       "          6.95442963,  6.75025034,  7.06459379,  7.06611919,\n",
       "          7.9800005 ,  8.10999966,  7.21999979,  7.26000023,\n",
       "          7.28999996,  7.3300004 ,         nan],\n",
       "        [        nan,  7.50999975,  7.53999949,  7.57999992,\n",
       "          7.60000038,  8.0807457 ,  7.98424911,  7.77539349,\n",
       "          7.79206324,  7.89234972,  8.16609859,  7.92270184,\n",
       "          7.9714756 ,  7.99530983,  8.05331516,  8.06128359,\n",
       "          8.12187529,  8.18999958,  8.22999954,  8.25      ,\n",
       "          8.31999969,  8.35000038,         nan],\n",
       "        [        nan,  8.53000021,  8.56000042,  8.59000015,\n",
       "          8.62372541,  8.65771484,  8.72059345,  8.77156544,\n",
       "...\n",
       "          8.27769232,  9.16878414,  9.36694241,  8.19459486,\n",
       "          8.12241316,  8.07448006,         nan],\n",
       "        [        nan,  7.8300004 ,  7.81999969,  7.79999971,\n",
       "          7.75      ,  7.71000004,  7.74000025,  7.61122417,\n",
       "          7.57346821,  7.56693792,  7.49170303,  7.46433115,\n",
       "          7.41256905,  7.39859581,  7.38864088,  7.29573774,\n",
       "          8.16585064,  9.13368607,  9.41166258,  8.15176773,\n",
       "          7.10018206,  7.05893135,         nan],\n",
       "        [        nan,  6.88999987,  6.84000015,  6.74000025,\n",
       "          2.42999983,  6.71000051,  6.5999999 ,  2.78999996,\n",
       "          6.58004999,  6.37443972,  4.52823591,  4.55267429,\n",
       "          5.56258965,  3.34767103,         nan,         nan,\n",
       "                 nan,         nan,         nan,         nan,\n",
       "                 nan,         nan,         nan],\n",
       "        [        nan,         nan,         nan,         nan,\n",
       "                 nan,         nan,         nan,         nan,\n",
       "                 nan,         nan,         nan,         nan,\n",
       "                 nan,         nan,         nan,         nan,\n",
       "                 nan,         nan,         nan,         nan,\n",
       "                 nan,         nan,         nan]]])</pre></div></div></li><li class='xr-section-item'><input id='section-265f6f2b-ffc1-4c23-a4bd-280ddf471435' class='xr-section-summary-in' type='checkbox'  checked><label for='section-265f6f2b-ffc1-4c23-a4bd-280ddf471435' class='xr-section-summary' >Coordinates: <span>(4)</span></label><div class='xr-section-inline-details'></div><div class='xr-section-details'><ul class='xr-var-list'><li class='xr-var-item'><div class='xr-var-name'><span class='xr-has-index'>x</span></div><div class='xr-var-dims'>(x)</div><div class='xr-var-dtype'>float64</div><div class='xr-var-preview xr-preview'>1.214e+05 1.214e+05 ... 1.215e+05</div><input id='attrs-202fe320-8253-4f8b-90e7-d0d83c4ba0b6' class='xr-var-attrs-in' type='checkbox' ><label for='attrs-202fe320-8253-4f8b-90e7-d0d83c4ba0b6' title='Show/Hide attributes'><svg class='icon xr-icon-file-text2'><use xlink:href='#icon-file-text2'></use></svg></label><input id='data-8c142b0b-7659-4d66-ae0d-305f514de68c' class='xr-var-data-in' type='checkbox'><label for='data-8c142b0b-7659-4d66-ae0d-305f514de68c' title='Show/Hide data repr'><svg class='icon xr-icon-database'><use xlink:href='#icon-database'></use></svg></label><div class='xr-var-attrs'><dl class='xr-attrs'><dt><span>axis :</span></dt><dd>X</dd></dl></div><div class='xr-var-data'><pre>array([121444.5, 121445.5, 121446.5, 121447.5, 121448.5, 121449.5, 121450.5,\n",
       "       121451.5, 121452.5, 121453.5, 121454.5, 121455.5, 121456.5, 121457.5,\n",
       "       121458.5, 121459.5, 121460.5, 121461.5, 121462.5, 121463.5, 121464.5,\n",
       "       121465.5, 121466.5])</pre></div></li><li class='xr-var-item'><div class='xr-var-name'><span class='xr-has-index'>y</span></div><div class='xr-var-dims'>(y)</div><div class='xr-var-dtype'>float64</div><div class='xr-var-preview xr-preview'>1.995e+05 1.995e+05 ... 1.995e+05</div><input id='attrs-e5d77a3f-ac04-4f25-9537-fe4bebb49702' class='xr-var-attrs-in' type='checkbox' ><label for='attrs-e5d77a3f-ac04-4f25-9537-fe4bebb49702' title='Show/Hide attributes'><svg class='icon xr-icon-file-text2'><use xlink:href='#icon-file-text2'></use></svg></label><input id='data-18d08760-54cc-4756-ad32-0d7e19c5bad7' class='xr-var-data-in' type='checkbox'><label for='data-18d08760-54cc-4756-ad32-0d7e19c5bad7' title='Show/Hide data repr'><svg class='icon xr-icon-database'><use xlink:href='#icon-database'></use></svg></label><div class='xr-var-attrs'><dl class='xr-attrs'><dt><span>axis :</span></dt><dd>Y</dd></dl></div><div class='xr-var-data'><pre>array([199546.5, 199545.5, 199544.5, 199543.5, 199542.5, 199541.5, 199540.5,\n",
       "       199539.5, 199538.5, 199537.5, 199536.5, 199535.5, 199534.5, 199533.5,\n",
       "       199532.5])</pre></div></li><li class='xr-var-item'><div class='xr-var-name'><span class='xr-has-index'>band</span></div><div class='xr-var-dims'>(band)</div><div class='xr-var-dtype'>int64</div><div class='xr-var-preview xr-preview'>1</div><input id='attrs-aa24735e-10f7-4300-a5a2-7d7591852063' class='xr-var-attrs-in' type='checkbox' disabled><label for='attrs-aa24735e-10f7-4300-a5a2-7d7591852063' title='Show/Hide attributes'><svg class='icon xr-icon-file-text2'><use xlink:href='#icon-file-text2'></use></svg></label><input id='data-15bbd29a-0d8d-46e5-adba-885295501937' class='xr-var-data-in' type='checkbox'><label for='data-15bbd29a-0d8d-46e5-adba-885295501937' title='Show/Hide data repr'><svg class='icon xr-icon-database'><use xlink:href='#icon-database'></use></svg></label><div class='xr-var-attrs'><dl class='xr-attrs'></dl></div><div class='xr-var-data'><pre>array([1])</pre></div></li><li class='xr-var-item'><div class='xr-var-name'><span>spatial_ref</span></div><div class='xr-var-dims'>()</div><div class='xr-var-dtype'>int64</div><div class='xr-var-preview xr-preview'>0</div><input id='attrs-a751a8ea-625f-4ff9-82d0-8d057fce8c9a' class='xr-var-attrs-in' type='checkbox' ><label for='attrs-a751a8ea-625f-4ff9-82d0-8d057fce8c9a' title='Show/Hide attributes'><svg class='icon xr-icon-file-text2'><use xlink:href='#icon-file-text2'></use></svg></label><input id='data-8e87b92d-1921-4f1b-a99c-aa062f9ca83f' class='xr-var-data-in' type='checkbox'><label for='data-8e87b92d-1921-4f1b-a99c-aa062f9ca83f' title='Show/Hide data repr'><svg class='icon xr-icon-database'><use xlink:href='#icon-database'></use></svg></label><div class='xr-var-attrs'><dl class='xr-attrs'><dt><span>crs_wkt :</span></dt><dd>LOCAL_CS[&quot;Belge 1972 / Belgian Lambert 72&quot;,UNIT[&quot;metre&quot;,1,AUTHORITY[&quot;EPSG&quot;,&quot;9001&quot;]],AXIS[&quot;Easting&quot;,EAST],AXIS[&quot;Northing&quot;,NORTH],AUTHORITY[&quot;EPSG&quot;,&quot;31370&quot;]]</dd><dt><span>spatial_ref :</span></dt><dd>LOCAL_CS[&quot;Belge 1972 / Belgian Lambert 72&quot;,UNIT[&quot;metre&quot;,1,AUTHORITY[&quot;EPSG&quot;,&quot;9001&quot;]],AXIS[&quot;Easting&quot;,EAST],AXIS[&quot;Northing&quot;,NORTH],AUTHORITY[&quot;EPSG&quot;,&quot;31370&quot;]]</dd><dt><span>GeoTransform :</span></dt><dd>121444.0 1.0 0.0 199547.0 0.0 -1.0</dd></dl></div><div class='xr-var-data'><pre>array(0)</pre></div></li></ul></div></li><li class='xr-section-item'><input id='section-9f201f96-88b1-4902-a4a6-87115d75348a' class='xr-section-summary-in' type='checkbox' disabled ><label for='section-9f201f96-88b1-4902-a4a6-87115d75348a' class='xr-section-summary'  title='Expand/collapse section'>Attributes: <span>(0)</span></label><div class='xr-section-inline-details'></div><div class='xr-section-details'><dl class='xr-attrs'></dl></div></li></ul></div></div>"
      ],
      "text/plain": [
       "<xarray.DataArray (band: 1, y: 15, x: 23)>\n",
       "array([[[        nan,         nan,         nan,         nan,\n",
       "                 nan,         nan,         nan,         nan,\n",
       "                 nan,         nan,         nan,         nan,\n",
       "                 nan,         nan,         nan,         nan,\n",
       "                 nan,         nan,         nan,         nan,\n",
       "                 nan,         nan,         nan],\n",
       "        [        nan,  6.46999979,  4.05999947,  4.70000029,\n",
       "          6.80999994,  8.10999966,  6.54795551,  6.77032518,\n",
       "          6.77603722,  6.40622997,  8.16977215,  7.34759951,\n",
       "          6.95442963,  6.75025034,  7.06459379,  7.06611919,\n",
       "          7.9800005 ,  8.10999966,  7.21999979,  7.26000023,\n",
       "          7.28999996,  7.3300004 ,         nan],\n",
       "        [        nan,  7.50999975,  7.53999949,  7.57999992,\n",
       "          7.60000038,  8.0807457 ,  7.98424911,  7.77539349,\n",
       "          7.79206324,  7.89234972,  8.16609859,  7.92270184,\n",
       "          7.9714756 ,  7.99530983,  8.05331516,  8.06128359,\n",
       "          8.12187529,  8.18999958,  8.22999954,  8.25      ,\n",
       "          8.31999969,  8.35000038,         nan],\n",
       "        [        nan,  8.53000021,  8.56000042,  8.59000015,\n",
       "          8.62372541,  8.65771484,  8.72059345,  8.77156544,\n",
       "...\n",
       "          8.27769232,  9.16878414,  9.36694241,  8.19459486,\n",
       "          8.12241316,  8.07448006,         nan],\n",
       "        [        nan,  7.8300004 ,  7.81999969,  7.79999971,\n",
       "          7.75      ,  7.71000004,  7.74000025,  7.61122417,\n",
       "          7.57346821,  7.56693792,  7.49170303,  7.46433115,\n",
       "          7.41256905,  7.39859581,  7.38864088,  7.29573774,\n",
       "          8.16585064,  9.13368607,  9.41166258,  8.15176773,\n",
       "          7.10018206,  7.05893135,         nan],\n",
       "        [        nan,  6.88999987,  6.84000015,  6.74000025,\n",
       "          2.42999983,  6.71000051,  6.5999999 ,  2.78999996,\n",
       "          6.58004999,  6.37443972,  4.52823591,  4.55267429,\n",
       "          5.56258965,  3.34767103,         nan,         nan,\n",
       "                 nan,         nan,         nan,         nan,\n",
       "                 nan,         nan,         nan],\n",
       "        [        nan,         nan,         nan,         nan,\n",
       "                 nan,         nan,         nan,         nan,\n",
       "                 nan,         nan,         nan,         nan,\n",
       "                 nan,         nan,         nan,         nan,\n",
       "                 nan,         nan,         nan,         nan,\n",
       "                 nan,         nan,         nan]]])\n",
       "Coordinates:\n",
       "  * x            (x) float64 1.214e+05 1.214e+05 ... 1.215e+05 1.215e+05\n",
       "  * y            (y) float64 1.995e+05 1.995e+05 ... 1.995e+05 1.995e+05\n",
       "  * band         (band) int64 1\n",
       "    spatial_ref  int64 0"
      ]
     },
     "execution_count": 9,
     "metadata": {},
     "output_type": "execute_result"
    }
   ],
   "source": [
    "chm"
   ]
  },
  {
   "cell_type": "code",
   "execution_count": 24,
   "metadata": {},
   "outputs": [
    {
     "data": {
      "application/vnd.plotly.v1+json": {
       "config": {
        "plotlyServerURL": "https://plot.ly"
       },
       "data": [
        {
         "type": "surface",
         "z": [
          [
           [
            null,
            null,
            null,
            null,
            null,
            null,
            null,
            null,
            null,
            null,
            null,
            null,
            null,
            null,
            null,
            null,
            null,
            null,
            null,
            null,
            null,
            null,
            null
           ],
           [
            null,
            6.46999979019165,
            4.059999465942383,
            4.700000286102295,
            6.809999942779541,
            8.109999656677246,
            6.547955513000488,
            6.770325183868408,
            6.776037216186523,
            6.4062299728393555,
            8.169772148132324,
            7.347599506378174,
            6.954429626464844,
            6.750250339508057,
            7.06459379196167,
            7.066119194030762,
            7.9800004959106445,
            8.109999656677246,
            7.21999979019165,
            7.260000228881836,
            7.289999961853027,
            7.330000400543213,
            null
           ],
           [
            null,
            7.509999752044678,
            7.539999485015869,
            7.579999923706055,
            7.600000381469727,
            8.080745697021484,
            7.984249114990234,
            7.775393486022949,
            7.792063236236572,
            7.892349720001221,
            8.166098594665527,
            7.922701835632324,
            7.971475601196289,
            7.995309829711914,
            8.053315162658691,
            8.061283588409424,
            8.121875286102295,
            8.1899995803833,
            8.229999542236328,
            8.25,
            8.319999694824219,
            8.350000381469727,
            null
           ],
           [
            null,
            8.53000020980835,
            8.5600004196167,
            8.59000015258789,
            8.623725414276123,
            8.65771484375,
            8.720593452453613,
            8.771565437316895,
            8.809727191925049,
            8.850502014160156,
            8.911101818084717,
            8.927509307861328,
            8.97688913345337,
            9.000047206878662,
            9.048194885253906,
            9.083043575286865,
            9.10796070098877,
            9.17153263092041,
            9.230000019073486,
            9.240000247955322,
            9.299999713897705,
            9.210000038146973,
            null
           ],
           [
            null,
            9.34000015258789,
            9.570000171661377,
            9.567028999328613,
            9.645954608917236,
            9.679947853088379,
            9.736648559570312,
            9.778626441955566,
            9.826289176940918,
            9.87874174118042,
            9.929767608642578,
            9.966682434082031,
            9.991738319396973,
            10.045807838439941,
            10.084741592407227,
            10.109960556030273,
            10.150733470916748,
            10.178520679473877,
            10.2355055809021,
            10.246805667877197,
            10.34000015258789,
            9.240000247955322,
            null
           ],
           [
            null,
            9.28000020980835,
            10.339505195617676,
            10.568516731262207,
            10.665284633636475,
            10.71329641342163,
            10.76864767074585,
            10.821461200714111,
            10.845573902130127,
            10.8761568069458,
            10.924302101135254,
            10.973550796508789,
            11.022769927978516,
            11.06432819366455,
            11.077356815338135,
            11.156830310821533,
            11.187641143798828,
            11.214926719665527,
            11.244928359985352,
            11.30320692062378,
            10.292052745819092,
            9.260000228881836,
            null
           ],
           [
            null,
            9.22499942779541,
            10.286545276641846,
            11.376758575439453,
            11.684999465942383,
            11.731861114501953,
            11.773001670837402,
            11.797163963317871,
            11.877682209014893,
            11.90113878250122,
            11.950505256652832,
            11.99055290222168,
            12.029437065124512,
            12.077479362487793,
            12.098215103149414,
            12.164369583129883,
            12.199671745300293,
            12.217375755310059,
            12.277854442596436,
            11.434081554412842,
            10.387286186218262,
            9.327576637268066,
            null
           ],
           [
            null,
            9.210000038146973,
            10.273717403411865,
            11.312210083007812,
            12.410107612609863,
            13.242997646331787,
            12.647385120391846,
            12.712711811065674,
            12.672822952270508,
            12.65828800201416,
            12.606857776641846,
            13.597511768341064,
            12.545841217041016,
            12.505419731140137,
            12.46983528137207,
            12.451580047607422,
            12.347332954406738,
            12.335211753845215,
            12.286480903625488,
            11.48278284072876,
            10.43562936782837,
            9.404788970947266,
            null
           ],
           [
            null,
            9.15999984741211,
            10.179999351501465,
            11.298917293548584,
            11.827049255371094,
            13.489016056060791,
            11.735175132751465,
            11.697615623474121,
            11.658563613891602,
            11.609557628631592,
            11.603198051452637,
            13.694314956665039,
            11.513923645019531,
            11.490922927856445,
            11.458610534667969,
            12.498517513275146,
            11.324502944946289,
            11.29666805267334,
            11.263034343719482,
            11.243422985076904,
            10.489108562469482,
            9.419480800628662,
            null
           ],
           [
            null,
            9.139999866485596,
            10.159999370574951,
            10.859999656677246,
            10.843114376068115,
            10.76382827758789,
            10.743531703948975,
            10.705870628356934,
            12.367149829864502,
            10.608023166656494,
            10.580760955810547,
            10.544058322906494,
            10.490075588226318,
            10.449264526367188,
            10.407410144805908,
            12.860222339630127,
            12.01667833328247,
            10.27486276626587,
            10.243000030517578,
            10.223312377929688,
            10.169341564178467,
            9.453790664672852,
            null
           ],
           [
            null,
            9.099999904632568,
            9.890000343322754,
            9.87000036239624,
            9.790000438690186,
            9.765880107879639,
            9.72481107711792,
            9.69172191619873,
            9.653035163879395,
            9.611047744750977,
            9.546656131744385,
            9.526605129241943,
            9.45422887802124,
            9.450000286102295,
            9.39814281463623,
            13.036232471466064,
            9.353516578674316,
            9.331823825836182,
            9.390092372894287,
            9.178516387939453,
            9.136598110198975,
            9.121533393859863,
            null
           ],
           [
            null,
            8.910000324249268,
            8.889999866485596,
            8.819999694824219,
            8.720000267028809,
            8.679999828338623,
            8.71037769317627,
            8.636723518371582,
            8.609139442443848,
            8.567241191864014,
            8.492869853973389,
            8.494507789611816,
            8.462330341339111,
            8.398417472839355,
            8.376877307891846,
            8.353628635406494,
            8.277692317962646,
            9.168784141540527,
            9.366942405700684,
            8.194594860076904,
            8.122413158416748,
            8.074480056762695,
            null
           ],
           [
            null,
            7.830000400543213,
            7.819999694824219,
            7.799999713897705,
            7.75,
            7.710000038146973,
            7.740000247955322,
            7.611224174499512,
            7.573468208312988,
            7.5669379234313965,
            7.491703033447266,
            7.464331150054932,
            7.412569046020508,
            7.398595809936523,
            7.388640880584717,
            7.2957377433776855,
            8.165850639343262,
            9.133686065673828,
            9.411662578582764,
            8.15176773071289,
            7.100182056427002,
            7.058931350708008,
            null
           ],
           [
            null,
            6.889999866485596,
            6.840000152587891,
            6.740000247955322,
            2.429999828338623,
            6.710000514984131,
            6.599999904632568,
            2.7899999618530273,
            6.580049991607666,
            6.374439716339111,
            4.528235912322998,
            4.552674293518066,
            5.562589645385742,
            3.3476710319519043,
            null,
            null,
            null,
            null,
            null,
            null,
            null,
            null,
            null
           ],
           [
            null,
            null,
            null,
            null,
            null,
            null,
            null,
            null,
            null,
            null,
            null,
            null,
            null,
            null,
            null,
            null,
            null,
            null,
            null,
            null,
            null,
            null,
            null
           ]
          ]
         ]
        }
       ],
       "layout": {
        "autosize": true,
        "template": {
         "data": {
          "bar": [
           {
            "error_x": {
             "color": "#2a3f5f"
            },
            "error_y": {
             "color": "#2a3f5f"
            },
            "marker": {
             "line": {
              "color": "#E5ECF6",
              "width": 0.5
             },
             "pattern": {
              "fillmode": "overlay",
              "size": 10,
              "solidity": 0.2
             }
            },
            "type": "bar"
           }
          ],
          "barpolar": [
           {
            "marker": {
             "line": {
              "color": "#E5ECF6",
              "width": 0.5
             },
             "pattern": {
              "fillmode": "overlay",
              "size": 10,
              "solidity": 0.2
             }
            },
            "type": "barpolar"
           }
          ],
          "carpet": [
           {
            "aaxis": {
             "endlinecolor": "#2a3f5f",
             "gridcolor": "white",
             "linecolor": "white",
             "minorgridcolor": "white",
             "startlinecolor": "#2a3f5f"
            },
            "baxis": {
             "endlinecolor": "#2a3f5f",
             "gridcolor": "white",
             "linecolor": "white",
             "minorgridcolor": "white",
             "startlinecolor": "#2a3f5f"
            },
            "type": "carpet"
           }
          ],
          "choropleth": [
           {
            "colorbar": {
             "outlinewidth": 0,
             "ticks": ""
            },
            "type": "choropleth"
           }
          ],
          "contour": [
           {
            "colorbar": {
             "outlinewidth": 0,
             "ticks": ""
            },
            "colorscale": [
             [
              0,
              "#0d0887"
             ],
             [
              0.1111111111111111,
              "#46039f"
             ],
             [
              0.2222222222222222,
              "#7201a8"
             ],
             [
              0.3333333333333333,
              "#9c179e"
             ],
             [
              0.4444444444444444,
              "#bd3786"
             ],
             [
              0.5555555555555556,
              "#d8576b"
             ],
             [
              0.6666666666666666,
              "#ed7953"
             ],
             [
              0.7777777777777778,
              "#fb9f3a"
             ],
             [
              0.8888888888888888,
              "#fdca26"
             ],
             [
              1,
              "#f0f921"
             ]
            ],
            "type": "contour"
           }
          ],
          "contourcarpet": [
           {
            "colorbar": {
             "outlinewidth": 0,
             "ticks": ""
            },
            "type": "contourcarpet"
           }
          ],
          "heatmap": [
           {
            "colorbar": {
             "outlinewidth": 0,
             "ticks": ""
            },
            "colorscale": [
             [
              0,
              "#0d0887"
             ],
             [
              0.1111111111111111,
              "#46039f"
             ],
             [
              0.2222222222222222,
              "#7201a8"
             ],
             [
              0.3333333333333333,
              "#9c179e"
             ],
             [
              0.4444444444444444,
              "#bd3786"
             ],
             [
              0.5555555555555556,
              "#d8576b"
             ],
             [
              0.6666666666666666,
              "#ed7953"
             ],
             [
              0.7777777777777778,
              "#fb9f3a"
             ],
             [
              0.8888888888888888,
              "#fdca26"
             ],
             [
              1,
              "#f0f921"
             ]
            ],
            "type": "heatmap"
           }
          ],
          "heatmapgl": [
           {
            "colorbar": {
             "outlinewidth": 0,
             "ticks": ""
            },
            "colorscale": [
             [
              0,
              "#0d0887"
             ],
             [
              0.1111111111111111,
              "#46039f"
             ],
             [
              0.2222222222222222,
              "#7201a8"
             ],
             [
              0.3333333333333333,
              "#9c179e"
             ],
             [
              0.4444444444444444,
              "#bd3786"
             ],
             [
              0.5555555555555556,
              "#d8576b"
             ],
             [
              0.6666666666666666,
              "#ed7953"
             ],
             [
              0.7777777777777778,
              "#fb9f3a"
             ],
             [
              0.8888888888888888,
              "#fdca26"
             ],
             [
              1,
              "#f0f921"
             ]
            ],
            "type": "heatmapgl"
           }
          ],
          "histogram": [
           {
            "marker": {
             "pattern": {
              "fillmode": "overlay",
              "size": 10,
              "solidity": 0.2
             }
            },
            "type": "histogram"
           }
          ],
          "histogram2d": [
           {
            "colorbar": {
             "outlinewidth": 0,
             "ticks": ""
            },
            "colorscale": [
             [
              0,
              "#0d0887"
             ],
             [
              0.1111111111111111,
              "#46039f"
             ],
             [
              0.2222222222222222,
              "#7201a8"
             ],
             [
              0.3333333333333333,
              "#9c179e"
             ],
             [
              0.4444444444444444,
              "#bd3786"
             ],
             [
              0.5555555555555556,
              "#d8576b"
             ],
             [
              0.6666666666666666,
              "#ed7953"
             ],
             [
              0.7777777777777778,
              "#fb9f3a"
             ],
             [
              0.8888888888888888,
              "#fdca26"
             ],
             [
              1,
              "#f0f921"
             ]
            ],
            "type": "histogram2d"
           }
          ],
          "histogram2dcontour": [
           {
            "colorbar": {
             "outlinewidth": 0,
             "ticks": ""
            },
            "colorscale": [
             [
              0,
              "#0d0887"
             ],
             [
              0.1111111111111111,
              "#46039f"
             ],
             [
              0.2222222222222222,
              "#7201a8"
             ],
             [
              0.3333333333333333,
              "#9c179e"
             ],
             [
              0.4444444444444444,
              "#bd3786"
             ],
             [
              0.5555555555555556,
              "#d8576b"
             ],
             [
              0.6666666666666666,
              "#ed7953"
             ],
             [
              0.7777777777777778,
              "#fb9f3a"
             ],
             [
              0.8888888888888888,
              "#fdca26"
             ],
             [
              1,
              "#f0f921"
             ]
            ],
            "type": "histogram2dcontour"
           }
          ],
          "mesh3d": [
           {
            "colorbar": {
             "outlinewidth": 0,
             "ticks": ""
            },
            "type": "mesh3d"
           }
          ],
          "parcoords": [
           {
            "line": {
             "colorbar": {
              "outlinewidth": 0,
              "ticks": ""
             }
            },
            "type": "parcoords"
           }
          ],
          "pie": [
           {
            "automargin": true,
            "type": "pie"
           }
          ],
          "scatter": [
           {
            "marker": {
             "colorbar": {
              "outlinewidth": 0,
              "ticks": ""
             }
            },
            "type": "scatter"
           }
          ],
          "scatter3d": [
           {
            "line": {
             "colorbar": {
              "outlinewidth": 0,
              "ticks": ""
             }
            },
            "marker": {
             "colorbar": {
              "outlinewidth": 0,
              "ticks": ""
             }
            },
            "type": "scatter3d"
           }
          ],
          "scattercarpet": [
           {
            "marker": {
             "colorbar": {
              "outlinewidth": 0,
              "ticks": ""
             }
            },
            "type": "scattercarpet"
           }
          ],
          "scattergeo": [
           {
            "marker": {
             "colorbar": {
              "outlinewidth": 0,
              "ticks": ""
             }
            },
            "type": "scattergeo"
           }
          ],
          "scattergl": [
           {
            "marker": {
             "colorbar": {
              "outlinewidth": 0,
              "ticks": ""
             }
            },
            "type": "scattergl"
           }
          ],
          "scattermapbox": [
           {
            "marker": {
             "colorbar": {
              "outlinewidth": 0,
              "ticks": ""
             }
            },
            "type": "scattermapbox"
           }
          ],
          "scatterpolar": [
           {
            "marker": {
             "colorbar": {
              "outlinewidth": 0,
              "ticks": ""
             }
            },
            "type": "scatterpolar"
           }
          ],
          "scatterpolargl": [
           {
            "marker": {
             "colorbar": {
              "outlinewidth": 0,
              "ticks": ""
             }
            },
            "type": "scatterpolargl"
           }
          ],
          "scatterternary": [
           {
            "marker": {
             "colorbar": {
              "outlinewidth": 0,
              "ticks": ""
             }
            },
            "type": "scatterternary"
           }
          ],
          "surface": [
           {
            "colorbar": {
             "outlinewidth": 0,
             "ticks": ""
            },
            "colorscale": [
             [
              0,
              "#0d0887"
             ],
             [
              0.1111111111111111,
              "#46039f"
             ],
             [
              0.2222222222222222,
              "#7201a8"
             ],
             [
              0.3333333333333333,
              "#9c179e"
             ],
             [
              0.4444444444444444,
              "#bd3786"
             ],
             [
              0.5555555555555556,
              "#d8576b"
             ],
             [
              0.6666666666666666,
              "#ed7953"
             ],
             [
              0.7777777777777778,
              "#fb9f3a"
             ],
             [
              0.8888888888888888,
              "#fdca26"
             ],
             [
              1,
              "#f0f921"
             ]
            ],
            "type": "surface"
           }
          ],
          "table": [
           {
            "cells": {
             "fill": {
              "color": "#EBF0F8"
             },
             "line": {
              "color": "white"
             }
            },
            "header": {
             "fill": {
              "color": "#C8D4E3"
             },
             "line": {
              "color": "white"
             }
            },
            "type": "table"
           }
          ]
         },
         "layout": {
          "annotationdefaults": {
           "arrowcolor": "#2a3f5f",
           "arrowhead": 0,
           "arrowwidth": 1
          },
          "autotypenumbers": "strict",
          "coloraxis": {
           "colorbar": {
            "outlinewidth": 0,
            "ticks": ""
           }
          },
          "colorscale": {
           "diverging": [
            [
             0,
             "#8e0152"
            ],
            [
             0.1,
             "#c51b7d"
            ],
            [
             0.2,
             "#de77ae"
            ],
            [
             0.3,
             "#f1b6da"
            ],
            [
             0.4,
             "#fde0ef"
            ],
            [
             0.5,
             "#f7f7f7"
            ],
            [
             0.6,
             "#e6f5d0"
            ],
            [
             0.7,
             "#b8e186"
            ],
            [
             0.8,
             "#7fbc41"
            ],
            [
             0.9,
             "#4d9221"
            ],
            [
             1,
             "#276419"
            ]
           ],
           "sequential": [
            [
             0,
             "#0d0887"
            ],
            [
             0.1111111111111111,
             "#46039f"
            ],
            [
             0.2222222222222222,
             "#7201a8"
            ],
            [
             0.3333333333333333,
             "#9c179e"
            ],
            [
             0.4444444444444444,
             "#bd3786"
            ],
            [
             0.5555555555555556,
             "#d8576b"
            ],
            [
             0.6666666666666666,
             "#ed7953"
            ],
            [
             0.7777777777777778,
             "#fb9f3a"
            ],
            [
             0.8888888888888888,
             "#fdca26"
            ],
            [
             1,
             "#f0f921"
            ]
           ],
           "sequentialminus": [
            [
             0,
             "#0d0887"
            ],
            [
             0.1111111111111111,
             "#46039f"
            ],
            [
             0.2222222222222222,
             "#7201a8"
            ],
            [
             0.3333333333333333,
             "#9c179e"
            ],
            [
             0.4444444444444444,
             "#bd3786"
            ],
            [
             0.5555555555555556,
             "#d8576b"
            ],
            [
             0.6666666666666666,
             "#ed7953"
            ],
            [
             0.7777777777777778,
             "#fb9f3a"
            ],
            [
             0.8888888888888888,
             "#fdca26"
            ],
            [
             1,
             "#f0f921"
            ]
           ]
          },
          "colorway": [
           "#636efa",
           "#EF553B",
           "#00cc96",
           "#ab63fa",
           "#FFA15A",
           "#19d3f3",
           "#FF6692",
           "#B6E880",
           "#FF97FF",
           "#FECB52"
          ],
          "font": {
           "color": "#2a3f5f"
          },
          "geo": {
           "bgcolor": "white",
           "lakecolor": "white",
           "landcolor": "#E5ECF6",
           "showlakes": true,
           "showland": true,
           "subunitcolor": "white"
          },
          "hoverlabel": {
           "align": "left"
          },
          "hovermode": "closest",
          "mapbox": {
           "style": "light"
          },
          "paper_bgcolor": "white",
          "plot_bgcolor": "#E5ECF6",
          "polar": {
           "angularaxis": {
            "gridcolor": "white",
            "linecolor": "white",
            "ticks": ""
           },
           "bgcolor": "#E5ECF6",
           "radialaxis": {
            "gridcolor": "white",
            "linecolor": "white",
            "ticks": ""
           }
          },
          "scene": {
           "xaxis": {
            "backgroundcolor": "#E5ECF6",
            "gridcolor": "white",
            "gridwidth": 2,
            "linecolor": "white",
            "showbackground": true,
            "ticks": "",
            "zerolinecolor": "white"
           },
           "yaxis": {
            "backgroundcolor": "#E5ECF6",
            "gridcolor": "white",
            "gridwidth": 2,
            "linecolor": "white",
            "showbackground": true,
            "ticks": "",
            "zerolinecolor": "white"
           },
           "zaxis": {
            "backgroundcolor": "#E5ECF6",
            "gridcolor": "white",
            "gridwidth": 2,
            "linecolor": "white",
            "showbackground": true,
            "ticks": "",
            "zerolinecolor": "white"
           }
          },
          "shapedefaults": {
           "line": {
            "color": "#2a3f5f"
           }
          },
          "ternary": {
           "aaxis": {
            "gridcolor": "white",
            "linecolor": "white",
            "ticks": ""
           },
           "baxis": {
            "gridcolor": "white",
            "linecolor": "white",
            "ticks": ""
           },
           "bgcolor": "#E5ECF6",
           "caxis": {
            "gridcolor": "white",
            "linecolor": "white",
            "ticks": ""
           }
          },
          "title": {
           "x": 0.05
          },
          "xaxis": {
           "automargin": true,
           "gridcolor": "white",
           "linecolor": "white",
           "ticks": "",
           "title": {
            "standoff": 15
           },
           "zerolinecolor": "white",
           "zerolinewidth": 2
          },
          "yaxis": {
           "automargin": true,
           "gridcolor": "white",
           "linecolor": "white",
           "ticks": "",
           "title": {
            "standoff": 15
           },
           "zerolinecolor": "white",
           "zerolinewidth": 2
          }
         }
        },
        "title": {
         "text": "CHM"
        }
       }
      }
     },
     "metadata": {},
     "output_type": "display_data"
    }
   ],
   "source": [
    "import plotly.graph_objects as go\n",
    "from PIL import Image\n",
    "import imageio\n",
    "import pandas as pd\n",
    "import matplotlib.pyplot as plt\n",
    "\n",
    "image_chm = imageio.imread(r'clipped_invert.tif')\n",
    "fig = go.Figure(data=[go.Surface(z=chm)])\n",
    "\n",
    "fig.update_layout(title='CHM', autosize=False,\n",
    "                  width=600, height=600)\n",
    "\n",
    "fig.show()\n"
   ]
  },
  {
   "cell_type": "code",
   "execution_count": 19,
   "metadata": {},
   "outputs": [
    {
     "ename": "ValueError",
     "evalue": "px.imshow only accepts 2D single-channel, RGB or RGBA images. An image of shape (1, 15, 23) was provided. Alternatively, 3- or 4-D single or multichannel datasets can be visualized using the `facet_col` or/and `animation_frame` arguments.",
     "output_type": "error",
     "traceback": [
      "\u001b[0;31m---------------------------------------------------------------------------\u001b[0m",
      "\u001b[0;31mValueError\u001b[0m                                Traceback (most recent call last)",
      "\u001b[1;32m/Users/Jorg/BeCode/3D_houses/second api trial.ipynb Cell 11'\u001b[0m in \u001b[0;36m<cell line: 23>\u001b[0;34m()\u001b[0m\n\u001b[1;32m      <a href='vscode-notebook-cell:/Users/Jorg/BeCode/3D_houses/second%20api%20trial.ipynb#ch0000010?line=6'>7</a>\u001b[0m \u001b[39m#with rio.open(chm) as src:\u001b[39;00m\n\u001b[1;32m      <a href='vscode-notebook-cell:/Users/Jorg/BeCode/3D_houses/second%20api%20trial.ipynb#ch0000010?line=7'>8</a>\u001b[0m \u001b[39m#    elevation = src.read(1)\u001b[39;00m\n\u001b[1;32m      <a href='vscode-notebook-cell:/Users/Jorg/BeCode/3D_houses/second%20api%20trial.ipynb#ch0000010?line=8'>9</a>\u001b[0m \u001b[39m#poly_chm = Polygon(chm(zip(x, y)))\u001b[39;00m\n\u001b[1;32m     <a href='vscode-notebook-cell:/Users/Jorg/BeCode/3D_houses/second%20api%20trial.ipynb#ch0000010?line=10'>11</a>\u001b[0m bamako\u001b[39m=\u001b[39m [[\u001b[39m0.0\u001b[39m, \u001b[39m'\u001b[39m\u001b[39mrgb(0, 63, 76)\u001b[39m\u001b[39m'\u001b[39m], \u001b[39m# a scientific colorscale for dem data\u001b[39;00m\n\u001b[1;32m     <a href='vscode-notebook-cell:/Users/Jorg/BeCode/3D_houses/second%20api%20trial.ipynb#ch0000010?line=11'>12</a>\u001b[0m  [\u001b[39m0.1\u001b[39m, \u001b[39m'\u001b[39m\u001b[39mrgb(29, 81, 59)\u001b[39m\u001b[39m'\u001b[39m],\n\u001b[1;32m     <a href='vscode-notebook-cell:/Users/Jorg/BeCode/3D_houses/second%20api%20trial.ipynb#ch0000010?line=12'>13</a>\u001b[0m  [\u001b[39m0.2\u001b[39m, \u001b[39m'\u001b[39m\u001b[39mrgb(55, 98, 43)\u001b[39m\u001b[39m'\u001b[39m],\n\u001b[0;32m   (...)\u001b[0m\n\u001b[1;32m     <a href='vscode-notebook-cell:/Users/Jorg/BeCode/3D_houses/second%20api%20trial.ipynb#ch0000010?line=19'>20</a>\u001b[0m  [\u001b[39m0.9\u001b[39m, \u001b[39m'\u001b[39m\u001b[39mrgb(234, 209, 112)\u001b[39m\u001b[39m'\u001b[39m],\n\u001b[1;32m     <a href='vscode-notebook-cell:/Users/Jorg/BeCode/3D_houses/second%20api%20trial.ipynb#ch0000010?line=20'>21</a>\u001b[0m  [\u001b[39m1.0\u001b[39m, \u001b[39m'\u001b[39m\u001b[39mrgb(254, 229, 152)\u001b[39m\u001b[39m'\u001b[39m]]\n\u001b[0;32m---> <a href='vscode-notebook-cell:/Users/Jorg/BeCode/3D_houses/second%20api%20trial.ipynb#ch0000010?line=22'>23</a>\u001b[0m fig\u001b[39m=\u001b[39m px\u001b[39m.\u001b[39;49mimshow(chm, color_continuous_scale\u001b[39m=\u001b[39;49mbamako)\n\u001b[1;32m     <a href='vscode-notebook-cell:/Users/Jorg/BeCode/3D_houses/second%20api%20trial.ipynb#ch0000010?line=23'>24</a>\u001b[0m my_layout\u001b[39m=\u001b[39m \u001b[39mdict\u001b[39m(title_text\u001b[39m=\u001b[39m\u001b[39m'\u001b[39m\u001b[39mBig Tujunga Cachement-California\u001b[39m\u001b[39m'\u001b[39m, title_x\u001b[39m=\u001b[39m\u001b[39m0.5\u001b[39m, width \u001b[39m=\u001b[39m\u001b[39m700\u001b[39m, height\u001b[39m=\u001b[39m\u001b[39m500\u001b[39m, template\u001b[39m=\u001b[39m\u001b[39m'\u001b[39m\u001b[39mnone\u001b[39m\u001b[39m'\u001b[39m, \n\u001b[1;32m     <a href='vscode-notebook-cell:/Users/Jorg/BeCode/3D_houses/second%20api%20trial.ipynb#ch0000010?line=24'>25</a>\u001b[0m                   coloraxis_colorbar\u001b[39m=\u001b[39m\u001b[39mdict\u001b[39m(\u001b[39mlen\u001b[39m\u001b[39m=\u001b[39m\u001b[39m0.75\u001b[39m, thickness\u001b[39m=\u001b[39m\u001b[39m25\u001b[39m))\n\u001b[1;32m     <a href='vscode-notebook-cell:/Users/Jorg/BeCode/3D_houses/second%20api%20trial.ipynb#ch0000010?line=25'>26</a>\u001b[0m fig\u001b[39m.\u001b[39mupdate_layout(\u001b[39m*\u001b[39m\u001b[39m*\u001b[39mmy_layout)\n",
      "File \u001b[0;32m~/opt/anaconda3/lib/python3.9/site-packages/plotly/express/_imshow.py:530\u001b[0m, in \u001b[0;36mimshow\u001b[0;34m(img, zmin, zmax, origin, labels, x, y, animation_frame, facet_col, facet_col_wrap, facet_col_spacing, facet_row_spacing, color_continuous_scale, color_continuous_midpoint, range_color, title, template, width, height, aspect, contrast_rescaling, binary_string, binary_backend, binary_compression_level, binary_format, text_auto)\u001b[0m\n\u001b[1;32m    528\u001b[0m         layout[\u001b[39m\"\u001b[39m\u001b[39mxaxis\u001b[39m\u001b[39m\"\u001b[39m] \u001b[39m=\u001b[39m \u001b[39mdict\u001b[39m(autorange\u001b[39m=\u001b[39m\u001b[39m\"\u001b[39m\u001b[39mreversed\u001b[39m\u001b[39m\"\u001b[39m)\n\u001b[1;32m    529\u001b[0m \u001b[39melse\u001b[39;00m:\n\u001b[0;32m--> 530\u001b[0m     \u001b[39mraise\u001b[39;00m \u001b[39mValueError\u001b[39;00m(\n\u001b[1;32m    531\u001b[0m         \u001b[39m\"\u001b[39m\u001b[39mpx.imshow only accepts 2D single-channel, RGB or RGBA images. \u001b[39m\u001b[39m\"\u001b[39m\n\u001b[1;32m    532\u001b[0m         \u001b[39m\"\u001b[39m\u001b[39mAn image of shape \u001b[39m\u001b[39m%s\u001b[39;00m\u001b[39m was provided. \u001b[39m\u001b[39m\"\u001b[39m\n\u001b[1;32m    533\u001b[0m         \u001b[39m\"\u001b[39m\u001b[39mAlternatively, 3- or 4-D single or multichannel datasets can be \u001b[39m\u001b[39m\"\u001b[39m\n\u001b[1;32m    534\u001b[0m         \u001b[39m\"\u001b[39m\u001b[39mvisualized using the `facet_col` or/and `animation_frame` arguments.\u001b[39m\u001b[39m\"\u001b[39m\n\u001b[1;32m    535\u001b[0m         \u001b[39m%\u001b[39m \u001b[39mstr\u001b[39m(img\u001b[39m.\u001b[39mshape)\n\u001b[1;32m    536\u001b[0m     )\n\u001b[1;32m    538\u001b[0m \u001b[39m# Now build figure\u001b[39;00m\n\u001b[1;32m    539\u001b[0m col_labels \u001b[39m=\u001b[39m []\n",
      "\u001b[0;31mValueError\u001b[0m: px.imshow only accepts 2D single-channel, RGB or RGBA images. An image of shape (1, 15, 23) was provided. Alternatively, 3- or 4-D single or multichannel datasets can be visualized using the `facet_col` or/and `animation_frame` arguments."
     ]
    }
   ],
   "source": [
    "import numpy as np\n",
    "import plotly.graph_objs as go\n",
    "import rasterio as rio\n",
    "import plotly.express as px\n",
    "from matplotlib.colors import LightSource\n",
    "\n",
    "#with rio.open(chm) as src:\n",
    "#    elevation = src.read(1)\n",
    "#poly_chm = Polygon(chm(zip(x, y)))\n",
    "\n",
    "bamako= [[0.0, 'rgb(0, 63, 76)'], # a scientific colorscale for dem data\n",
    " [0.1, 'rgb(29, 81, 59)'],\n",
    " [0.2, 'rgb(55, 98, 43)'],\n",
    " [0.3, 'rgb(79, 114, 30)'],\n",
    " [0.4, 'rgb(103, 129, 16)'],\n",
    " [0.5, 'rgb(136, 142, 2)'],\n",
    " [0.6, 'rgb(169, 154, 21)'],\n",
    " [0.7, 'rgb(192, 171, 45)'],\n",
    " [0.8, 'rgb(214, 188, 74)'],\n",
    " [0.9, 'rgb(234, 209, 112)'],\n",
    " [1.0, 'rgb(254, 229, 152)']]\n",
    "\n",
    "fig= px.imshow(chm, color_continuous_scale=bamako)\n",
    "my_layout= dict(title_text='Big Tujunga Cachement-California', title_x=0.5, width =700, height=500, template='none', \n",
    "                  coloraxis_colorbar=dict(len=0.75, thickness=25))\n",
    "fig.update_layout(**my_layout)\n"
   ]
  }
 ],
 "metadata": {
  "kernelspec": {
   "display_name": "Python 3.9.12 ('base')",
   "language": "python",
   "name": "python3"
  },
  "language_info": {
   "codemirror_mode": {
    "name": "ipython",
    "version": 3
   },
   "file_extension": ".py",
   "mimetype": "text/x-python",
   "name": "python",
   "nbconvert_exporter": "python",
   "pygments_lexer": "ipython3",
   "version": "3.9.12"
  },
  "orig_nbformat": 4,
  "vscode": {
   "interpreter": {
    "hash": "098abfbdda89cc068fc5a24c70b28519776b65016448753c248b3e3ae6b6b2c3"
   }
  }
 },
 "nbformat": 4,
 "nbformat_minor": 2
}
