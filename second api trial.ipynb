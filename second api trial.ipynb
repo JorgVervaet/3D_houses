{
 "cells": [
  {
   "cell_type": "code",
   "execution_count": 1,
   "metadata": {},
   "outputs": [
    {
     "data": {
      "text/plain": [
       "{'LocationResult': [{'Municipality': 'Lokeren',\n",
       "   'Zipcode': '9160',\n",
       "   'Thoroughfarename': 'Hoogstraat',\n",
       "   'Housenumber': '146',\n",
       "   'ID': 1126242,\n",
       "   'FormattedAddress': 'Hoogstraat 146, 9160 Lokeren',\n",
       "   'Location': {'Lat_WGS84': 51.10529617014935,\n",
       "    'Lon_WGS84': 3.961153456170891,\n",
       "    'X_Lambert72': 121452.31,\n",
       "    'Y_Lambert72': 199545.21},\n",
       "   'LocationType': 'crab_huisnummer_manueleAanduidingVanIngangVanGebouw',\n",
       "   'BoundingBox': {'LowerLeft': {'Lat_WGS84': 51.10529617014935,\n",
       "     'Lon_WGS84': 3.961153456170891,\n",
       "     'X_Lambert72': 121452.31,\n",
       "     'Y_Lambert72': 199545.21},\n",
       "    'UpperRight': {'Lat_WGS84': 51.10529617014935,\n",
       "     'Lon_WGS84': 3.961153456170891,\n",
       "     'X_Lambert72': 121452.31,\n",
       "     'Y_Lambert72': 199545.21}}}]}"
      ]
     },
     "execution_count": 1,
     "metadata": {},
     "output_type": "execute_result"
    }
   ],
   "source": [
    "import requests\n",
    "adres = \"Hoogstraat 146, 9160 Lokeren\"\n",
    "response = requests.get(f\"https://loc.geopunt.be/v4/location?q={adres}\").json()\n",
    "response"
   ]
  },
  {
   "cell_type": "code",
   "execution_count": 2,
   "metadata": {},
   "outputs": [
    {
     "ename": "ModuleNotFoundError",
     "evalue": "No module named 'earthpy'",
     "output_type": "error",
     "traceback": [
      "\u001b[0;31m---------------------------------------------------------------------------\u001b[0m",
      "\u001b[0;31mModuleNotFoundError\u001b[0m                       Traceback (most recent call last)",
      "\u001b[1;32m/Users/Jorg/BeCode/3D_houses/second api trial.ipynb Cell 2'\u001b[0m in \u001b[0;36m<cell line: 2>\u001b[0;34m()\u001b[0m\n\u001b[1;32m      <a href='vscode-notebook-cell:/Users/Jorg/BeCode/3D_houses/second%20api%20trial.ipynb#ch0000001?line=0'>1</a>\u001b[0m \u001b[39mimport\u001b[39;00m \u001b[39mrequests\u001b[39;00m\n\u001b[0;32m----> <a href='vscode-notebook-cell:/Users/Jorg/BeCode/3D_houses/second%20api%20trial.ipynb#ch0000001?line=1'>2</a>\u001b[0m \u001b[39mimport\u001b[39;00m \u001b[39mearthpy\u001b[39;00m\u001b[39m.\u001b[39;00m\u001b[39mplot\u001b[39;00m \u001b[39mas\u001b[39;00m \u001b[39mep\u001b[39;00m\n\u001b[1;32m      <a href='vscode-notebook-cell:/Users/Jorg/BeCode/3D_houses/second%20api%20trial.ipynb#ch0000001?line=2'>3</a>\u001b[0m \u001b[39mimport\u001b[39;00m \u001b[39mjson\u001b[39;00m\n\u001b[1;32m      <a href='vscode-notebook-cell:/Users/Jorg/BeCode/3D_houses/second%20api%20trial.ipynb#ch0000001?line=4'>5</a>\u001b[0m adres_api \u001b[39m=\u001b[39m {\u001b[39m\"\u001b[39m\u001b[39mstraatnaam\u001b[39m\u001b[39m\"\u001b[39m:\u001b[39m\"\u001b[39m\u001b[39mHoogstraat\u001b[39m\u001b[39m\"\u001b[39m, \u001b[39m\"\u001b[39m\u001b[39mhuisnummer\u001b[39m\u001b[39m\"\u001b[39m:\u001b[39m146\u001b[39m, \u001b[39m\"\u001b[39m\u001b[39mpostcode\u001b[39m\u001b[39m\"\u001b[39m:\u001b[39m9160\u001b[39m}\n",
      "\u001b[0;31mModuleNotFoundError\u001b[0m: No module named 'earthpy'"
     ]
    }
   ],
   "source": [
    "import requests\n",
    "import earthpy.plot as ep\n",
    "import json\n",
    "\n",
    "adres_api = {\"straatnaam\":\"Hoogstraat\", \"huisnummer\":146, \"postcode\":9160}\n",
    "api_url = \"https://api.basisregisters.vlaanderen.be/v1/adresmatch\"\n",
    "response3 = requests.get(url = api_url, params = adres_api).json()\n",
    "response3"
   ]
  },
  {
   "cell_type": "code",
   "execution_count": 7,
   "metadata": {},
   "outputs": [
    {
     "data": {
      "text/plain": [
       "{'adresMatches': [{'identificator': {'id': 'https://data.vlaanderen.be/id/adres/1302241',\n",
       "    'naamruimte': 'https://data.vlaanderen.be/id/adres',\n",
       "    'objectId': '1302241',\n",
       "    'versieId': '2016-02-01T10:24:37+01:00'},\n",
       "   'detail': 'https://api.basisregisters.vlaanderen.be/v1/adressen/1302241',\n",
       "   'gemeente': {'objectId': '46014',\n",
       "    'detail': 'https://api.basisregisters.vlaanderen.be/v1/gemeenten/46014',\n",
       "    'gemeentenaam': {'geografischeNaam': {'spelling': 'Lokeren',\n",
       "      'taal': 'nl'}}},\n",
       "   'postinfo': {'objectId': '9160',\n",
       "    'detail': 'https://api.basisregisters.vlaanderen.be/v1/postinfo/9160'},\n",
       "   'straatnaam': {'objectId': '77064',\n",
       "    'detail': 'https://api.basisregisters.vlaanderen.be/v1/straatnamen/77064',\n",
       "    'straatnaam': {'geografischeNaam': {'spelling': 'Hoogstraat',\n",
       "      'taal': 'nl'}}},\n",
       "   'huisnummer': '146',\n",
       "   'volledigAdres': {'geografischeNaam': {'spelling': 'Hoogstraat 146, 9160 Lokeren',\n",
       "     'taal': 'nl'}},\n",
       "   'adresPositie': {'point': {'coordinates': [121452.31, 199545.21],\n",
       "     'type': 'Point'}},\n",
       "   'positieSpecificatie': 'ingang',\n",
       "   'positieGeometrieMethode': 'aangeduidDoorBeheerder',\n",
       "   'adresStatus': 'inGebruik',\n",
       "   'officieelToegekend': True,\n",
       "   'adresseerbareObjecten': [{'objectType': 'gebouweenheid',\n",
       "     'objectId': '7570694',\n",
       "     'detail': 'https://api.basisregisters.vlaanderen.be/v1/gebouweenheden/7570694'},\n",
       "    {'objectType': 'perceel',\n",
       "     'objectId': '46383D1389-00L000',\n",
       "     'detail': 'https://api.basisregisters.vlaanderen.be/v1/percelen/46383D1389-00L000'}],\n",
       "   'score': 100.0},\n",
       "  {'identificator': {'id': 'https://data.vlaanderen.be/id/adres/4423211',\n",
       "    'naamruimte': 'https://data.vlaanderen.be/id/adres',\n",
       "    'objectId': '4423211',\n",
       "    'versieId': '2016-02-01T10:24:37+01:00'},\n",
       "   'detail': 'https://api.basisregisters.vlaanderen.be/v1/adressen/4423211',\n",
       "   'gemeente': {'objectId': '46014',\n",
       "    'detail': 'https://api.basisregisters.vlaanderen.be/v1/gemeenten/46014',\n",
       "    'gemeentenaam': {'geografischeNaam': {'spelling': 'Lokeren',\n",
       "      'taal': 'nl'}}},\n",
       "   'postinfo': {'objectId': '9160',\n",
       "    'detail': 'https://api.basisregisters.vlaanderen.be/v1/postinfo/9160'},\n",
       "   'straatnaam': {'objectId': '77064',\n",
       "    'detail': 'https://api.basisregisters.vlaanderen.be/v1/straatnamen/77064',\n",
       "    'straatnaam': {'geografischeNaam': {'spelling': 'Hoogstraat',\n",
       "      'taal': 'nl'}}},\n",
       "   'huisnummer': '146',\n",
       "   'busnummer': '1',\n",
       "   'volledigAdres': {'geografischeNaam': {'spelling': 'Hoogstraat 146 bus 1, 9160 Lokeren',\n",
       "     'taal': 'nl'}},\n",
       "   'adresPositie': {'point': {'coordinates': [121452.31, 199545.21],\n",
       "     'type': 'Point'}},\n",
       "   'positieSpecificatie': 'ingang',\n",
       "   'positieGeometrieMethode': 'aangeduidDoorBeheerder',\n",
       "   'adresStatus': 'inGebruik',\n",
       "   'officieelToegekend': True,\n",
       "   'adresseerbareObjecten': [{'objectType': 'gebouweenheid',\n",
       "     'objectId': '7570702',\n",
       "     'detail': 'https://api.basisregisters.vlaanderen.be/v1/gebouweenheden/7570702'},\n",
       "    {'objectType': 'perceel',\n",
       "     'objectId': '46383D1389-00L000',\n",
       "     'detail': 'https://api.basisregisters.vlaanderen.be/v1/percelen/46383D1389-00L000'}],\n",
       "   'score': 89.3939393939394},\n",
       "  {'identificator': {'id': 'https://data.vlaanderen.be/id/adres/4614542',\n",
       "    'naamruimte': 'https://data.vlaanderen.be/id/adres',\n",
       "    'objectId': '4614542',\n",
       "    'versieId': '2016-02-01T10:24:37+01:00'},\n",
       "   'detail': 'https://api.basisregisters.vlaanderen.be/v1/adressen/4614542',\n",
       "   'gemeente': {'objectId': '46014',\n",
       "    'detail': 'https://api.basisregisters.vlaanderen.be/v1/gemeenten/46014',\n",
       "    'gemeentenaam': {'geografischeNaam': {'spelling': 'Lokeren',\n",
       "      'taal': 'nl'}}},\n",
       "   'postinfo': {'objectId': '9160',\n",
       "    'detail': 'https://api.basisregisters.vlaanderen.be/v1/postinfo/9160'},\n",
       "   'straatnaam': {'objectId': '77064',\n",
       "    'detail': 'https://api.basisregisters.vlaanderen.be/v1/straatnamen/77064',\n",
       "    'straatnaam': {'geografischeNaam': {'spelling': 'Hoogstraat',\n",
       "      'taal': 'nl'}}},\n",
       "   'huisnummer': '146',\n",
       "   'busnummer': '2',\n",
       "   'volledigAdres': {'geografischeNaam': {'spelling': 'Hoogstraat 146 bus 2, 9160 Lokeren',\n",
       "     'taal': 'nl'}},\n",
       "   'adresPositie': {'point': {'coordinates': [121452.31, 199545.21],\n",
       "     'type': 'Point'}},\n",
       "   'positieSpecificatie': 'ingang',\n",
       "   'positieGeometrieMethode': 'aangeduidDoorBeheerder',\n",
       "   'adresStatus': 'inGebruik',\n",
       "   'officieelToegekend': True,\n",
       "   'adresseerbareObjecten': [{'objectType': 'gebouweenheid',\n",
       "     'objectId': '7570698',\n",
       "     'detail': 'https://api.basisregisters.vlaanderen.be/v1/gebouweenheden/7570698'},\n",
       "    {'objectType': 'perceel',\n",
       "     'objectId': '46383D1389-00L000',\n",
       "     'detail': 'https://api.basisregisters.vlaanderen.be/v1/percelen/46383D1389-00L000'}],\n",
       "   'score': 89.3939393939394},\n",
       "  {'identificator': {'id': 'https://data.vlaanderen.be/id/adres/4496169',\n",
       "    'naamruimte': 'https://data.vlaanderen.be/id/adres',\n",
       "    'objectId': '4496169',\n",
       "    'versieId': '2016-02-01T10:24:37+01:00'},\n",
       "   'detail': 'https://api.basisregisters.vlaanderen.be/v1/adressen/4496169',\n",
       "   'gemeente': {'objectId': '46014',\n",
       "    'detail': 'https://api.basisregisters.vlaanderen.be/v1/gemeenten/46014',\n",
       "    'gemeentenaam': {'geografischeNaam': {'spelling': 'Lokeren',\n",
       "      'taal': 'nl'}}},\n",
       "   'postinfo': {'objectId': '9160',\n",
       "    'detail': 'https://api.basisregisters.vlaanderen.be/v1/postinfo/9160'},\n",
       "   'straatnaam': {'objectId': '77064',\n",
       "    'detail': 'https://api.basisregisters.vlaanderen.be/v1/straatnamen/77064',\n",
       "    'straatnaam': {'geografischeNaam': {'spelling': 'Hoogstraat',\n",
       "      'taal': 'nl'}}},\n",
       "   'huisnummer': '146',\n",
       "   'busnummer': '101',\n",
       "   'volledigAdres': {'geografischeNaam': {'spelling': 'Hoogstraat 146 bus 101, 9160 Lokeren',\n",
       "     'taal': 'nl'}},\n",
       "   'adresPositie': {'point': {'coordinates': [121452.31, 199545.21],\n",
       "     'type': 'Point'}},\n",
       "   'positieSpecificatie': 'ingang',\n",
       "   'positieGeometrieMethode': 'aangeduidDoorBeheerder',\n",
       "   'adresStatus': 'inGebruik',\n",
       "   'officieelToegekend': True,\n",
       "   'adresseerbareObjecten': [{'objectType': 'gebouweenheid',\n",
       "     'objectId': '7570700',\n",
       "     'detail': 'https://api.basisregisters.vlaanderen.be/v1/gebouweenheden/7570700'},\n",
       "    {'objectType': 'perceel',\n",
       "     'objectId': '46383D1389-00L000',\n",
       "     'detail': 'https://api.basisregisters.vlaanderen.be/v1/percelen/46383D1389-00L000'}],\n",
       "   'score': 89.3939393939394},\n",
       "  {'identificator': {'id': 'https://data.vlaanderen.be/id/adres/4368344',\n",
       "    'naamruimte': 'https://data.vlaanderen.be/id/adres',\n",
       "    'objectId': '4368344',\n",
       "    'versieId': '2016-02-01T10:24:37+01:00'},\n",
       "   'detail': 'https://api.basisregisters.vlaanderen.be/v1/adressen/4368344',\n",
       "   'gemeente': {'objectId': '46014',\n",
       "    'detail': 'https://api.basisregisters.vlaanderen.be/v1/gemeenten/46014',\n",
       "    'gemeentenaam': {'geografischeNaam': {'spelling': 'Lokeren',\n",
       "      'taal': 'nl'}}},\n",
       "   'postinfo': {'objectId': '9160',\n",
       "    'detail': 'https://api.basisregisters.vlaanderen.be/v1/postinfo/9160'},\n",
       "   'straatnaam': {'objectId': '77064',\n",
       "    'detail': 'https://api.basisregisters.vlaanderen.be/v1/straatnamen/77064',\n",
       "    'straatnaam': {'geografischeNaam': {'spelling': 'Hoogstraat',\n",
       "      'taal': 'nl'}}},\n",
       "   'huisnummer': '146',\n",
       "   'busnummer': '102',\n",
       "   'volledigAdres': {'geografischeNaam': {'spelling': 'Hoogstraat 146 bus 102, 9160 Lokeren',\n",
       "     'taal': 'nl'}},\n",
       "   'adresPositie': {'point': {'coordinates': [121452.31, 199545.21],\n",
       "     'type': 'Point'}},\n",
       "   'positieSpecificatie': 'ingang',\n",
       "   'positieGeometrieMethode': 'aangeduidDoorBeheerder',\n",
       "   'adresStatus': 'inGebruik',\n",
       "   'officieelToegekend': True,\n",
       "   'adresseerbareObjecten': [{'objectType': 'gebouweenheid',\n",
       "     'objectId': '7570703',\n",
       "     'detail': 'https://api.basisregisters.vlaanderen.be/v1/gebouweenheden/7570703'},\n",
       "    {'objectType': 'perceel',\n",
       "     'objectId': '46383D1389-00L000',\n",
       "     'detail': 'https://api.basisregisters.vlaanderen.be/v1/percelen/46383D1389-00L000'}],\n",
       "   'score': 89.3939393939394},\n",
       "  {'identificator': {'id': 'https://data.vlaanderen.be/id/adres/4549031',\n",
       "    'naamruimte': 'https://data.vlaanderen.be/id/adres',\n",
       "    'objectId': '4549031',\n",
       "    'versieId': '2016-02-01T10:24:37+01:00'},\n",
       "   'detail': 'https://api.basisregisters.vlaanderen.be/v1/adressen/4549031',\n",
       "   'gemeente': {'objectId': '46014',\n",
       "    'detail': 'https://api.basisregisters.vlaanderen.be/v1/gemeenten/46014',\n",
       "    'gemeentenaam': {'geografischeNaam': {'spelling': 'Lokeren',\n",
       "      'taal': 'nl'}}},\n",
       "   'postinfo': {'objectId': '9160',\n",
       "    'detail': 'https://api.basisregisters.vlaanderen.be/v1/postinfo/9160'},\n",
       "   'straatnaam': {'objectId': '77064',\n",
       "    'detail': 'https://api.basisregisters.vlaanderen.be/v1/straatnamen/77064',\n",
       "    'straatnaam': {'geografischeNaam': {'spelling': 'Hoogstraat',\n",
       "      'taal': 'nl'}}},\n",
       "   'huisnummer': '146',\n",
       "   'busnummer': '201',\n",
       "   'volledigAdres': {'geografischeNaam': {'spelling': 'Hoogstraat 146 bus 201, 9160 Lokeren',\n",
       "     'taal': 'nl'}},\n",
       "   'adresPositie': {'point': {'coordinates': [121452.31, 199545.21],\n",
       "     'type': 'Point'}},\n",
       "   'positieSpecificatie': 'ingang',\n",
       "   'positieGeometrieMethode': 'aangeduidDoorBeheerder',\n",
       "   'adresStatus': 'inGebruik',\n",
       "   'officieelToegekend': True,\n",
       "   'adresseerbareObjecten': [{'objectType': 'gebouweenheid',\n",
       "     'objectId': '7570701',\n",
       "     'detail': 'https://api.basisregisters.vlaanderen.be/v1/gebouweenheden/7570701'},\n",
       "    {'objectType': 'perceel',\n",
       "     'objectId': '46383D1389-00L000',\n",
       "     'detail': 'https://api.basisregisters.vlaanderen.be/v1/percelen/46383D1389-00L000'}],\n",
       "   'score': 89.3939393939394},\n",
       "  {'identificator': {'id': 'https://data.vlaanderen.be/id/adres/4562989',\n",
       "    'naamruimte': 'https://data.vlaanderen.be/id/adres',\n",
       "    'objectId': '4562989',\n",
       "    'versieId': '2016-02-01T10:24:37+01:00'},\n",
       "   'detail': 'https://api.basisregisters.vlaanderen.be/v1/adressen/4562989',\n",
       "   'gemeente': {'objectId': '46014',\n",
       "    'detail': 'https://api.basisregisters.vlaanderen.be/v1/gemeenten/46014',\n",
       "    'gemeentenaam': {'geografischeNaam': {'spelling': 'Lokeren',\n",
       "      'taal': 'nl'}}},\n",
       "   'postinfo': {'objectId': '9160',\n",
       "    'detail': 'https://api.basisregisters.vlaanderen.be/v1/postinfo/9160'},\n",
       "   'straatnaam': {'objectId': '77064',\n",
       "    'detail': 'https://api.basisregisters.vlaanderen.be/v1/straatnamen/77064',\n",
       "    'straatnaam': {'geografischeNaam': {'spelling': 'Hoogstraat',\n",
       "      'taal': 'nl'}}},\n",
       "   'huisnummer': '146',\n",
       "   'busnummer': '202',\n",
       "   'volledigAdres': {'geografischeNaam': {'spelling': 'Hoogstraat 146 bus 202, 9160 Lokeren',\n",
       "     'taal': 'nl'}},\n",
       "   'adresPositie': {'point': {'coordinates': [121452.31, 199545.21],\n",
       "     'type': 'Point'}},\n",
       "   'positieSpecificatie': 'ingang',\n",
       "   'positieGeometrieMethode': 'aangeduidDoorBeheerder',\n",
       "   'adresStatus': 'inGebruik',\n",
       "   'officieelToegekend': True,\n",
       "   'adresseerbareObjecten': [{'objectType': 'gebouweenheid',\n",
       "     'objectId': '7570699',\n",
       "     'detail': 'https://api.basisregisters.vlaanderen.be/v1/gebouweenheden/7570699'},\n",
       "    {'objectType': 'perceel',\n",
       "     'objectId': '46383D1389-00L000',\n",
       "     'detail': 'https://api.basisregisters.vlaanderen.be/v1/percelen/46383D1389-00L000'}],\n",
       "   'score': 89.3939393939394}],\n",
       " 'warnings': []}"
      ]
     },
     "execution_count": 7,
     "metadata": {},
     "output_type": "execute_result"
    }
   ],
   "source": [
    "import requests\n",
    "import earthpy.plot as ep\n",
    "import json\n",
    "\n",
    "response = requests.get(\"https://api.basisregisters.vlaanderen.be/v1/gebouweenheden/7570703\").json()\n",
    "response3\n",
    "\n"
   ]
  },
  {
   "cell_type": "code",
   "execution_count": 8,
   "metadata": {},
   "outputs": [
    {
     "data": {
      "text/plain": [
       "{'identificator': {'id': 'https://data.vlaanderen.be/id/gebouw/7569832',\n",
       "  'naamruimte': 'https://data.vlaanderen.be/id/gebouw',\n",
       "  'objectId': '7569832',\n",
       "  'versieId': '2017-03-09T17:15:54+01:00'},\n",
       " 'geometriePolygoon': {'polygon': {'coordinates': [[[121465.63794352859,\n",
       "      199545.93402853236],\n",
       "     [121465.37227953225, 199545.9234685339],\n",
       "     [121459.25586352497, 199545.67969253287],\n",
       "     [121459.23755952716, 199546.13934053108],\n",
       "     [121453.00024752319, 199545.89204453304],\n",
       "     [121452.9961515218, 199545.9920125343],\n",
       "     [121451.19967152178, 199545.91854053363],\n",
       "     [121451.20376752317, 199545.8185725324],\n",
       "     [121444.96619951725, 199545.56090853363],\n",
       "     [121445.48895151913, 199532.90887652338],\n",
       "     [121458.08927152306, 199533.4747645259],\n",
       "     [121466.20171952993, 199534.0245245248],\n",
       "     [121466.00920753181, 199538.2773245275],\n",
       "     [121466.10911153257, 199538.28103652596],\n",
       "     [121466.04319152981, 199540.06343653053],\n",
       "     [121465.94322352856, 199540.05972452834],\n",
       "     [121465.63794352859, 199545.93402853236]]],\n",
       "   'type': 'Polygon'}},\n",
       " 'geometrieMethode': 'ingemetenGRB',\n",
       " 'gebouwStatus': 'gerealiseerd',\n",
       " 'gebouweenheden': [{'objectId': '7570694',\n",
       "   'detail': 'https://api.basisregisters.vlaanderen.be/v1/gebouweenheden/7570694'},\n",
       "  {'objectId': '7570695',\n",
       "   'detail': 'https://api.basisregisters.vlaanderen.be/v1/gebouweenheden/7570695'},\n",
       "  {'objectId': '7570696',\n",
       "   'detail': 'https://api.basisregisters.vlaanderen.be/v1/gebouweenheden/7570696'},\n",
       "  {'objectId': '7570697',\n",
       "   'detail': 'https://api.basisregisters.vlaanderen.be/v1/gebouweenheden/7570697'},\n",
       "  {'objectId': '7570698',\n",
       "   'detail': 'https://api.basisregisters.vlaanderen.be/v1/gebouweenheden/7570698'},\n",
       "  {'objectId': '7570699',\n",
       "   'detail': 'https://api.basisregisters.vlaanderen.be/v1/gebouweenheden/7570699'},\n",
       "  {'objectId': '7570700',\n",
       "   'detail': 'https://api.basisregisters.vlaanderen.be/v1/gebouweenheden/7570700'},\n",
       "  {'objectId': '7570701',\n",
       "   'detail': 'https://api.basisregisters.vlaanderen.be/v1/gebouweenheden/7570701'},\n",
       "  {'objectId': '7570702',\n",
       "   'detail': 'https://api.basisregisters.vlaanderen.be/v1/gebouweenheden/7570702'},\n",
       "  {'objectId': '7570703',\n",
       "   'detail': 'https://api.basisregisters.vlaanderen.be/v1/gebouweenheden/7570703'},\n",
       "  {'objectId': '30316087',\n",
       "   'detail': 'https://api.basisregisters.vlaanderen.be/v1/gebouweenheden/30316087'},\n",
       "  {'objectId': '30316088',\n",
       "   'detail': 'https://api.basisregisters.vlaanderen.be/v1/gebouweenheden/30316088'}],\n",
       " 'percelen': [{'objectId': '46383D1389-00L000',\n",
       "   'detail': 'https://api.basisregisters.vlaanderen.be/v1/percelen/46383D1389-00L000'}]}"
      ]
     },
     "execution_count": 8,
     "metadata": {},
     "output_type": "execute_result"
    }
   ],
   "source": [
    "import requests\n",
    "import earthpy.plot as ep\n",
    "import json\n",
    "response4 = requests.get(\"https://api.basisregisters.vlaanderen.be/v1/gebouwen/7569832\").json()\n",
    "response4\n",
    "\n"
   ]
  },
  {
   "cell_type": "code",
   "execution_count": 3,
   "metadata": {},
   "outputs": [
    {
     "ename": "ModuleNotFoundError",
     "evalue": "No module named 'earthpy'",
     "output_type": "error",
     "traceback": [
      "\u001b[0;31m---------------------------------------------------------------------------\u001b[0m",
      "\u001b[0;31mModuleNotFoundError\u001b[0m                       Traceback (most recent call last)",
      "\u001b[1;32m/Users/Jorg/BeCode/3D_houses/second api trial.ipynb Cell 5'\u001b[0m in \u001b[0;36m<cell line: 2>\u001b[0;34m()\u001b[0m\n\u001b[1;32m      <a href='vscode-notebook-cell:/Users/Jorg/BeCode/3D_houses/second%20api%20trial.ipynb#ch0000004?line=0'>1</a>\u001b[0m \u001b[39mimport\u001b[39;00m \u001b[39mrequests\u001b[39;00m\n\u001b[0;32m----> <a href='vscode-notebook-cell:/Users/Jorg/BeCode/3D_houses/second%20api%20trial.ipynb#ch0000004?line=1'>2</a>\u001b[0m \u001b[39mimport\u001b[39;00m \u001b[39mearthpy\u001b[39;00m\u001b[39m.\u001b[39;00m\u001b[39mplot\u001b[39;00m \u001b[39mas\u001b[39;00m \u001b[39mep\u001b[39;00m\n\u001b[1;32m      <a href='vscode-notebook-cell:/Users/Jorg/BeCode/3D_houses/second%20api%20trial.ipynb#ch0000004?line=2'>3</a>\u001b[0m \u001b[39mimport\u001b[39;00m \u001b[39mjson\u001b[39;00m\n\u001b[1;32m      <a href='vscode-notebook-cell:/Users/Jorg/BeCode/3D_houses/second%20api%20trial.ipynb#ch0000004?line=3'>4</a>\u001b[0m \u001b[39mfrom\u001b[39;00m \u001b[39mshapely\u001b[39;00m\u001b[39m.\u001b[39;00m\u001b[39mgeometry\u001b[39;00m\u001b[39m.\u001b[39;00m\u001b[39mpolygon\u001b[39;00m \u001b[39mimport\u001b[39;00m Polygon\n",
      "\u001b[0;31mModuleNotFoundError\u001b[0m: No module named 'earthpy'"
     ]
    }
   ],
   "source": [
    "import requests\n",
    "import earthpy.plot as ep\n",
    "import json\n",
    "from shapely.geometry.polygon import Polygon\n",
    "\n",
    "response4 = requests.get(\"https://api.basisregisters.vlaanderen.be/v1/gebouwen/7569832\").json()\n",
    "polygon_house = Polygon(response4[\"geometriePolygoon\"][\"polygon\"][\"coordinates\"][0])\n",
    "polygon_house"
   ]
  },
  {
   "cell_type": "code",
   "execution_count": 15,
   "metadata": {},
   "outputs": [
    {
     "data": {
      "text/plain": [
       "'/Users/Jorg/3D_houses_data/DHMVIIDSMRAS1m_k23/GeoTIFF/DHMVIIDSMRAS1m_k23.tif'"
      ]
     },
     "execution_count": 15,
     "metadata": {},
     "output_type": "execute_result"
    }
   ],
   "source": [
    "import geopandas as gpd\n",
    "dsm14 = \"/Users/Jorg/3D_houses_data/DHMVIIDSMRAS1m_k14/GeoTIFF/DHMVIIDSMRAS1m_k14.tif\"\n",
    "dtm14 = \"/Users/Jorg/3D_houses_data/DHMVIIDTMRAS1m_k14/GeoTIFF/DHMVIIDTMRAS1m_k14.tif\"\n",
    "shpfile14 = gpd.read_file()\n",
    "dsm22 = \"/Users/Jorg/3D_houses_data/DHMVIIDSMRAS1m_k22/GeoTIFF/DHMVIIDSMRAS1m_k22.tif\"\"/Users/Jorg/3D_houses_data/DHMVIIDTMRAS1m_k14/DHMVII_vdc_k14/DHMVII_vdc_k14.shp\"\n",
    "dtm22 = \"/Users/Jorg/3D_houses_data/DHMVIIDTMRAS1m_k22/GeoTIFF/DHMVIIDTMRAS1m_k22.tif\"\n",
    "shpfile22 = gpd.read_file(\"/Users/Jorg/3D_houses_data/DHMVIIDTMRAS1m_k22/DHMVII_vdc_k22/DHMVII_vdc_k22.shp\")\n",
    "dsm15 = \"/Users/Jorg/3D_houses_data/DHMVIIDSMRAS1m_k15/GeoTIFF/DHMVIIDSMRAS1m_k15.tif\"\n",
    "dtm15 = \"/Users/Jorg/3D_houses_data/DHMVIIDTMRAS1m_k15/GeoTIFF/DHMVIIDTMRAS1m_k15.tif\"\n",
    "shpfile15 = gpd.read_file(\"/Users/Jorg/3D_houses_data/DHMVIIDTMRAS1m_k15/DHMVII_vdc_k15/DHMVII_vdc_k15.shp\")\n",
    "dsm23 = \"/Users/Jorg/3D_houses_data/DHMVIIDSMRAS1m_k23/GeoTIFF/DHMVIIDSMRAS1m_k23.tif\"\n",
    "dtm23 = \"/Users/Jorg/3D_houses_data/DHMVIIDTMRAS1m_k23/GeoTIFF/DHMVIIDTMRAS1m_k23.tif\"\n",
    "shpfile23 = gpd.read_file(\"/Users/Jorg/3D_houses_data/DHMVIIDTMRAS1m_k23/DHMVII_vdc_k23/DHMVII_vdc_k23.shp\")\n",
    "dsm30 = \"/Users/Jorg/3D_houses_data/DHMVIIDSMRAS1m_k30/GeoTIFF/DHMVIIDSMRAS1m_k30.tif\"\n",
    "dtm30 = \"/Users/Jorg/3D_houses_data/DHMVIIDTMRAS1m_k30/GeoTIFF/DHMVIIDTMRAS1m_k30.tif\"\n",
    "shpfile30 = gpd.read_file(\"/Users/Jorg/3D_houses_data/DHMVIIDTMRAS1m_k30/DHMVII_vdc_k30/DHMVII_vdc_k30.shp\")\n",
    "dsm23"
   ]
  },
  {
   "cell_type": "code",
   "execution_count": 39,
   "metadata": {},
   "outputs": [
    {
     "data": {
      "text/plain": [
       "[[121465.63794352859, 199545.93402853236],\n",
       " [121465.37227953225, 199545.9234685339],\n",
       " [121459.25586352497, 199545.67969253287],\n",
       " [121459.23755952716, 199546.13934053108],\n",
       " [121453.00024752319, 199545.89204453304],\n",
       " [121452.9961515218, 199545.9920125343],\n",
       " [121451.19967152178, 199545.91854053363],\n",
       " [121451.20376752317, 199545.8185725324],\n",
       " [121444.96619951725, 199545.56090853363],\n",
       " [121445.48895151913, 199532.90887652338],\n",
       " [121458.08927152306, 199533.4747645259],\n",
       " [121466.20171952993, 199534.0245245248],\n",
       " [121466.00920753181, 199538.2773245275],\n",
       " [121466.10911153257, 199538.28103652596],\n",
       " [121466.04319152981, 199540.06343653053],\n",
       " [121465.94322352856, 199540.05972452834],\n",
       " [121465.63794352859, 199545.93402853236]]"
      ]
     },
     "execution_count": 39,
     "metadata": {},
     "output_type": "execute_result"
    }
   ],
   "source": [
    "import rasterio\n",
    "import requests\n",
    "import json\n",
    "from shapely.geometry.polygon import Polygon\n",
    "\n",
    "src = rasterio.open(dsm30)\n",
    "src.bounds\n",
    "\n",
    "response4 = requests.get(\"https://api.basisregisters.vlaanderen.be/v1/gebouwen/7569832\").json()\n",
    "polygon_house = Polygon(response4[\"geometriePolygoon\"][\"polygon\"][\"coordinates\"][0])\n",
    "polygon_house\n",
    "float_house = (response4[\"geometriePolygoon\"][\"polygon\"][\"coordinates\"][0])\n",
    "float_house"
   ]
  },
  {
   "cell_type": "code",
   "execution_count": 164,
   "metadata": {},
   "outputs": [
    {
     "name": "stdout",
     "output_type": "stream",
     "text": [
      "inside\n",
      "inside\n",
      "inside\n",
      "inside\n",
      "inside\n",
      "inside\n",
      "inside\n",
      "inside\n",
      "inside\n",
      "inside\n",
      "inside\n",
      "inside\n",
      "inside\n",
      "inside\n",
      "inside\n",
      "inside\n",
      "inside\n"
     ]
    }
   ],
   "source": [
    "import rasterio\n",
    "import requests\n",
    "import json\n",
    "from shapely.geometry.polygon import Polygon\n",
    "\n",
    "src = rasterio.open(dsm14)\n",
    "src.bounds\n",
    "\n",
    "response4 = requests.get(\"https://api.basisregisters.vlaanderen.be/v1/gebouwen/7569832\").json()\n",
    "polygon_house = Polygon(response4[\"geometriePolygoon\"][\"polygon\"][\"coordinates\"][0])\n",
    "polygon_house\n",
    "float_house = (response4[\"geometriePolygoon\"][\"polygon\"][\"coordinates\"][0])\n",
    "\n",
    "for x, y in float_house:\n",
    "    if src.bounds[0] < x < src.bounds[2] and src.bounds[1] < y < src.bounds[3]:\n",
    "        print(\"inside\")\n",
    "    else:\n",
    "        print(\"outside\")\n"
   ]
  },
  {
   "cell_type": "code",
   "execution_count": 168,
   "metadata": {},
   "outputs": [
    {
     "name": "stderr",
     "output_type": "stream",
     "text": [
      "ERROR 1: PROJ: proj_identify: /Users/Jorg/opt/anaconda3/share/proj/proj.db lacks DATABASE.LAYOUT.VERSION.MAJOR / DATABASE.LAYOUT.VERSION.MINOR metadata. It comes from another PROJ installation.\n",
      "ERROR 1: PROJ: proj_identify: /Users/Jorg/opt/anaconda3/share/proj/proj.db lacks DATABASE.LAYOUT.VERSION.MAJOR / DATABASE.LAYOUT.VERSION.MINOR metadata. It comes from another PROJ installation.\n",
      "ERROR 1: PROJ: proj_identify: /Users/Jorg/opt/anaconda3/share/proj/proj.db lacks DATABASE.LAYOUT.VERSION.MAJOR / DATABASE.LAYOUT.VERSION.MINOR metadata. It comes from another PROJ installation.\n",
      "ERROR 1: PROJ: proj_identify: /Users/Jorg/opt/anaconda3/share/proj/proj.db lacks DATABASE.LAYOUT.VERSION.MAJOR / DATABASE.LAYOUT.VERSION.MINOR metadata. It comes from another PROJ installation.\n"
     ]
    },
    {
     "data": {
      "text/plain": [
       "<matplotlib.collections.QuadMesh at 0x7f7d48c42ee0>"
      ]
     },
     "execution_count": 168,
     "metadata": {},
     "output_type": "execute_result"
    },
    {
     "data": {
      "image/png": "[encoded data removed]",
      "text/plain": [
       "<Figure size 432x288 with 2 Axes>"
      ]
     },
     "metadata": {
      "needs_background": "light"
     },
     "output_type": "display_data"
    }
   ],
   "source": [
    "import rioxarray\n",
    "import fiona\n",
    "import rasterio\n",
    "import rasterio.mask\n",
    "\n",
    "xds = rioxarray.open_rasterio(dsm14, masked=True)\n",
    "clippeddsm = xds.rio.clip([polygon_house], from_disk=True)\n",
    "xdt = rioxarray.open_rasterio(dtm14, masked=True)\n",
    "clippeddtm = xdt.rio.clip([polygon_house], from_disk=True)\n",
    "chm = clippeddsm - clippeddtm\n",
    "chm.plot()\n"
   ]
  },
  {
   "cell_type": "code",
   "execution_count": 172,
   "metadata": {},
   "outputs": [
    {
     "data": {
      "application/vnd.plotly.v1+json": {
       "config": {
        "plotlyServerURL": "https://plot.ly"
       },
       "data": [
        {
         "type": "surface",
         "z": [
          [
           [
            null,
            null,
            null,
            null,
            null,
            null,
            null,
            null,
            null,
            null,
            null,
            null,
            null,
            null,
            null,
            null,
            null,
            null,
            null,
            null,
            null,
            null,
            null
           ],
           [
            null,
            6.46999979019165,
            4.059999465942383,
            4.700000286102295,
            6.809999942779541,
            8.109999656677246,
            6.547955513000488,
            6.770325183868408,
            6.776037216186523,
            6.4062299728393555,
            8.169772148132324,
            7.347599506378174,
            6.954429626464844,
            6.750250339508057,
            7.06459379196167,
            7.066119194030762,
            7.9800004959106445,
            8.109999656677246,
            7.21999979019165,
            7.260000228881836,
            7.289999961853027,
            7.330000400543213,
            null
           ],
           [
            null,
            7.509999752044678,
            7.539999485015869,
            7.579999923706055,
            7.600000381469727,
            8.080745697021484,
            7.984249114990234,
            7.775393486022949,
            7.792063236236572,
            7.892349720001221,
            8.166098594665527,
            7.922701835632324,
            7.971475601196289,
            7.995309829711914,
            8.053315162658691,
            8.061283588409424,
            8.121875286102295,
            8.1899995803833,
            8.229999542236328,
            8.25,
            8.319999694824219,
            8.350000381469727,
            null
           ],
           [
            null,
            8.53000020980835,
            8.5600004196167,
            8.59000015258789,
            8.623725414276123,
            8.65771484375,
            8.720593452453613,
            8.771565437316895,
            8.809727191925049,
            8.850502014160156,
            8.911101818084717,
            8.927509307861328,
            8.97688913345337,
            9.000047206878662,
            9.048194885253906,
            9.083043575286865,
            9.10796070098877,
            9.17153263092041,
            9.230000019073486,
            9.240000247955322,
            9.299999713897705,
            9.210000038146973,
            null
           ],
           [
            null,
            9.34000015258789,
            9.570000171661377,
            9.567028999328613,
            9.645954608917236,
            9.679947853088379,
            9.736648559570312,
            9.778626441955566,
            9.826289176940918,
            9.87874174118042,
            9.929767608642578,
            9.966682434082031,
            9.991738319396973,
            10.045807838439941,
            10.084741592407227,
            10.109960556030273,
            10.150733470916748,
            10.178520679473877,
            10.2355055809021,
            10.246805667877197,
            10.34000015258789,
            9.240000247955322,
            null
           ],
           [
            null,
            9.28000020980835,
            10.339505195617676,
            10.568516731262207,
            10.665284633636475,
            10.71329641342163,
            10.76864767074585,
            10.821461200714111,
            10.845573902130127,
            10.8761568069458,
            10.924302101135254,
            10.973550796508789,
            11.022769927978516,
            11.06432819366455,
            11.077356815338135,
            11.156830310821533,
            11.187641143798828,
            11.214926719665527,
            11.244928359985352,
            11.30320692062378,
            10.292052745819092,
            9.260000228881836,
            null
           ],
           [
            null,
            9.22499942779541,
            10.286545276641846,
            11.376758575439453,
            11.684999465942383,
            11.731861114501953,
            11.773001670837402,
            11.797163963317871,
            11.877682209014893,
            11.90113878250122,
            11.950505256652832,
            11.99055290222168,
            12.029437065124512,
            12.077479362487793,
            12.098215103149414,
            12.164369583129883,
            12.199671745300293,
            12.217375755310059,
            12.277854442596436,
            11.434081554412842,
            10.387286186218262,
            9.327576637268066,
            null
           ],
           [
            null,
            9.210000038146973,
            10.273717403411865,
            11.312210083007812,
            12.410107612609863,
            13.242997646331787,
            12.647385120391846,
            12.712711811065674,
            12.672822952270508,
            12.65828800201416,
            12.606857776641846,
            13.597511768341064,
            12.545841217041016,
            12.505419731140137,
            12.46983528137207,
            12.451580047607422,
            12.347332954406738,
            12.335211753845215,
            12.286480903625488,
            11.48278284072876,
            10.43562936782837,
            9.404788970947266,
            null
           ],
           [
            null,
            9.15999984741211,
            10.179999351501465,
            11.298917293548584,
            11.827049255371094,
            13.489016056060791,
            11.735175132751465,
            11.697615623474121,
            11.658563613891602,
            11.609557628631592,
            11.603198051452637,
            13.694314956665039,
            11.513923645019531,
            11.490922927856445,
            11.458610534667969,
            12.498517513275146,
            11.324502944946289,
            11.29666805267334,
            11.263034343719482,
            11.243422985076904,
            10.489108562469482,
            9.419480800628662,
            null
           ],
           [
            null,
            9.139999866485596,
            10.159999370574951,
            10.859999656677246,
            10.843114376068115,
            10.76382827758789,
            10.743531703948975,
            10.705870628356934,
            12.367149829864502,
            10.608023166656494,
            10.580760955810547,
            10.544058322906494,
            10.490075588226318,
            10.449264526367188,
            10.407410144805908,
            12.860222339630127,
            12.01667833328247,
            10.27486276626587,
            10.243000030517578,
            10.223312377929688,
            10.169341564178467,
            9.453790664672852,
            null
           ],
           [
            null,
            9.099999904632568,
            9.890000343322754,
            9.87000036239624,
            9.790000438690186,
            9.765880107879639,
            9.72481107711792,
            9.69172191619873,
            9.653035163879395,
            9.611047744750977,
            9.546656131744385,
            9.526605129241943,
            9.45422887802124,
            9.450000286102295,
            9.39814281463623,
            13.036232471466064,
            9.353516578674316,
            9.331823825836182,
            9.390092372894287,
            9.178516387939453,
            9.136598110198975,
            9.121533393859863,
            null
           ],
           [
            null,
            8.910000324249268,
            8.889999866485596,
            8.819999694824219,
            8.720000267028809,
            8.679999828338623,
            8.71037769317627,
            8.636723518371582,
            8.609139442443848,
            8.567241191864014,
            8.492869853973389,
            8.494507789611816,
            8.462330341339111,
            8.398417472839355,
            8.376877307891846,
            8.353628635406494,
            8.277692317962646,
            9.168784141540527,
            9.366942405700684,
            8.194594860076904,
            8.122413158416748,
            8.074480056762695,
            null
           ],
           [
            null,
            7.830000400543213,
            7.819999694824219,
            7.799999713897705,
            7.75,
            7.710000038146973,
            7.740000247955322,
            7.611224174499512,
            7.573468208312988,
            7.5669379234313965,
            7.491703033447266,
            7.464331150054932,
            7.412569046020508,
            7.398595809936523,
            7.388640880584717,
            7.2957377433776855,
            8.165850639343262,
            9.133686065673828,
            9.411662578582764,
            8.15176773071289,
            7.100182056427002,
            7.058931350708008,
            null
           ],
           [
            null,
            6.889999866485596,
            6.840000152587891,
            6.740000247955322,
            2.429999828338623,
            6.710000514984131,
            6.599999904632568,
            2.7899999618530273,
            6.580049991607666,
            6.374439716339111,
            4.528235912322998,
            4.552674293518066,
            5.562589645385742,
            3.3476710319519043,
            null,
            null,
            null,
            null,
            null,
            null,
            null,
            null,
            null
           ],
           [
            null,
            null,
            null,
            null,
            null,
            null,
            null,
            null,
            null,
            null,
            null,
            null,
            null,
            null,
            null,
            null,
            null,
            null,
            null,
            null,
            null,
            null,
            null
           ]
          ]
         ]
        }
       ],
       "layout": {
        "autosize": false,
        "height": 500,
        "margin": {
         "b": 65,
         "l": 65,
         "r": 50,
         "t": 90
        },
        "template": {
         "data": {
          "bar": [
           {
            "error_x": {
             "color": "#2a3f5f"
            },
            "error_y": {
             "color": "#2a3f5f"
            },
            "marker": {
             "line": {
              "color": "#E5ECF6",
              "width": 0.5
             },
             "pattern": {
              "fillmode": "overlay",
              "size": 10,
              "solidity": 0.2
             }
            },
            "type": "bar"
           }
          ],
          "barpolar": [
           {
            "marker": {
             "line": {
              "color": "#E5ECF6",
              "width": 0.5
             },
             "pattern": {
              "fillmode": "overlay",
              "size": 10,
              "solidity": 0.2
             }
            },
            "type": "barpolar"
           }
          ],
          "carpet": [
           {
            "aaxis": {
             "endlinecolor": "#2a3f5f",
             "gridcolor": "white",
             "linecolor": "white",
             "minorgridcolor": "white",
             "startlinecolor": "#2a3f5f"
            },
            "baxis": {
             "endlinecolor": "#2a3f5f",
             "gridcolor": "white",
             "linecolor": "white",
             "minorgridcolor": "white",
             "startlinecolor": "#2a3f5f"
            },
            "type": "carpet"
           }
          ],
          "choropleth": [
           {
            "colorbar": {
             "outlinewidth": 0,
             "ticks": ""
            },
            "type": "choropleth"
           }
          ],
          "contour": [
           {
            "colorbar": {
             "outlinewidth": 0,
             "ticks": ""
            },
            "colorscale": [
             [
              0,
              "#0d0887"
             ],
             [
              0.1111111111111111,
              "#46039f"
             ],
             [
              0.2222222222222222,
              "#7201a8"
             ],
             [
              0.3333333333333333,
              "#9c179e"
             ],
             [
              0.4444444444444444,
              "#bd3786"
             ],
             [
              0.5555555555555556,
              "#d8576b"
             ],
             [
              0.6666666666666666,
              "#ed7953"
             ],
             [
              0.7777777777777778,
              "#fb9f3a"
             ],
             [
              0.8888888888888888,
              "#fdca26"
             ],
             [
              1,
              "#f0f921"
             ]
            ],
            "type": "contour"
           }
          ],
          "contourcarpet": [
           {
            "colorbar": {
             "outlinewidth": 0,
             "ticks": ""
            },
            "type": "contourcarpet"
           }
          ],
          "heatmap": [
           {
            "colorbar": {
             "outlinewidth": 0,
             "ticks": ""
            },
            "colorscale": [
             [
              0,
              "#0d0887"
             ],
             [
              0.1111111111111111,
              "#46039f"
             ],
             [
              0.2222222222222222,
              "#7201a8"
             ],
             [
              0.3333333333333333,
              "#9c179e"
             ],
             [
              0.4444444444444444,
              "#bd3786"
             ],
             [
              0.5555555555555556,
              "#d8576b"
             ],
             [
              0.6666666666666666,
              "#ed7953"
             ],
             [
              0.7777777777777778,
              "#fb9f3a"
             ],
             [
              0.8888888888888888,
              "#fdca26"
             ],
             [
              1,
              "#f0f921"
             ]
            ],
            "type": "heatmap"
           }
          ],
          "heatmapgl": [
           {
            "colorbar": {
             "outlinewidth": 0,
             "ticks": ""
            },
            "colorscale": [
             [
              0,
              "#0d0887"
             ],
             [
              0.1111111111111111,
              "#46039f"
             ],
             [
              0.2222222222222222,
              "#7201a8"
             ],
             [
              0.3333333333333333,
              "#9c179e"
             ],
             [
              0.4444444444444444,
              "#bd3786"
             ],
             [
              0.5555555555555556,
              "#d8576b"
             ],
             [
              0.6666666666666666,
              "#ed7953"
             ],
             [
              0.7777777777777778,
              "#fb9f3a"
             ],
             [
              0.8888888888888888,
              "#fdca26"
             ],
             [
              1,
              "#f0f921"
             ]
            ],
            "type": "heatmapgl"
           }
          ],
          "histogram": [
           {
            "marker": {
             "pattern": {
              "fillmode": "overlay",
              "size": 10,
              "solidity": 0.2
             }
            },
            "type": "histogram"
           }
          ],
          "histogram2d": [
           {
            "colorbar": {
             "outlinewidth": 0,
             "ticks": ""
            },
            "colorscale": [
             [
              0,
              "#0d0887"
             ],
             [
              0.1111111111111111,
              "#46039f"
             ],
             [
              0.2222222222222222,
              "#7201a8"
             ],
             [
              0.3333333333333333,
              "#9c179e"
             ],
             [
              0.4444444444444444,
              "#bd3786"
             ],
             [
              0.5555555555555556,
              "#d8576b"
             ],
             [
              0.6666666666666666,
              "#ed7953"
             ],
             [
              0.7777777777777778,
              "#fb9f3a"
             ],
             [
              0.8888888888888888,
              "#fdca26"
             ],
             [
              1,
              "#f0f921"
             ]
            ],
            "type": "histogram2d"
           }
          ],
          "histogram2dcontour": [
           {
            "colorbar": {
             "outlinewidth": 0,
             "ticks": ""
            },
            "colorscale": [
             [
              0,
              "#0d0887"
             ],
             [
              0.1111111111111111,
              "#46039f"
             ],
             [
              0.2222222222222222,
              "#7201a8"
             ],
             [
              0.3333333333333333,
              "#9c179e"
             ],
             [
              0.4444444444444444,
              "#bd3786"
             ],
             [
              0.5555555555555556,
              "#d8576b"
             ],
             [
              0.6666666666666666,
              "#ed7953"
             ],
             [
              0.7777777777777778,
              "#fb9f3a"
             ],
             [
              0.8888888888888888,
              "#fdca26"
             ],
             [
              1,
              "#f0f921"
             ]
            ],
            "type": "histogram2dcontour"
           }
          ],
          "mesh3d": [
           {
            "colorbar": {
             "outlinewidth": 0,
             "ticks": ""
            },
            "type": "mesh3d"
           }
          ],
          "parcoords": [
           {
            "line": {
             "colorbar": {
              "outlinewidth": 0,
              "ticks": ""
             }
            },
            "type": "parcoords"
           }
          ],
          "pie": [
           {
            "automargin": true,
            "type": "pie"
           }
          ],
          "scatter": [
           {
            "marker": {
             "colorbar": {
              "outlinewidth": 0,
              "ticks": ""
             }
            },
            "type": "scatter"
           }
          ],
          "scatter3d": [
           {
            "line": {
             "colorbar": {
              "outlinewidth": 0,
              "ticks": ""
             }
            },
            "marker": {
             "colorbar": {
              "outlinewidth": 0,
              "ticks": ""
             }
            },
            "type": "scatter3d"
           }
          ],
          "scattercarpet": [
           {
            "marker": {
             "colorbar": {
              "outlinewidth": 0,
              "ticks": ""
             }
            },
            "type": "scattercarpet"
           }
          ],
          "scattergeo": [
           {
            "marker": {
             "colorbar": {
              "outlinewidth": 0,
              "ticks": ""
             }
            },
            "type": "scattergeo"
           }
          ],
          "scattergl": [
           {
            "marker": {
             "colorbar": {
              "outlinewidth": 0,
              "ticks": ""
             }
            },
            "type": "scattergl"
           }
          ],
          "scattermapbox": [
           {
            "marker": {
             "colorbar": {
              "outlinewidth": 0,
              "ticks": ""
             }
            },
            "type": "scattermapbox"
           }
          ],
          "scatterpolar": [
           {
            "marker": {
             "colorbar": {
              "outlinewidth": 0,
              "ticks": ""
             }
            },
            "type": "scatterpolar"
           }
          ],
          "scatterpolargl": [
           {
            "marker": {
             "colorbar": {
              "outlinewidth": 0,
              "ticks": ""
             }
            },
            "type": "scatterpolargl"
           }
          ],
          "scatterternary": [
           {
            "marker": {
             "colorbar": {
              "outlinewidth": 0,
              "ticks": ""
             }
            },
            "type": "scatterternary"
           }
          ],
          "surface": [
           {
            "colorbar": {
             "outlinewidth": 0,
             "ticks": ""
            },
            "colorscale": [
             [
              0,
              "#0d0887"
             ],
             [
              0.1111111111111111,
              "#46039f"
             ],
             [
              0.2222222222222222,
              "#7201a8"
             ],
             [
              0.3333333333333333,
              "#9c179e"
             ],
             [
              0.4444444444444444,
              "#bd3786"
             ],
             [
              0.5555555555555556,
              "#d8576b"
             ],
             [
              0.6666666666666666,
              "#ed7953"
             ],
             [
              0.7777777777777778,
              "#fb9f3a"
             ],
             [
              0.8888888888888888,
              "#fdca26"
             ],
             [
              1,
              "#f0f921"
             ]
            ],
            "type": "surface"
           }
          ],
          "table": [
           {
            "cells": {
             "fill": {
              "color": "#EBF0F8"
             },
             "line": {
              "color": "white"
             }
            },
            "header": {
             "fill": {
              "color": "#C8D4E3"
             },
             "line": {
              "color": "white"
             }
            },
            "type": "table"
           }
          ]
         },
         "layout": {
          "annotationdefaults": {
           "arrowcolor": "#2a3f5f",
           "arrowhead": 0,
           "arrowwidth": 1
          },
          "autotypenumbers": "strict",
          "coloraxis": {
           "colorbar": {
            "outlinewidth": 0,
            "ticks": ""
           }
          },
          "colorscale": {
           "diverging": [
            [
             0,
             "#8e0152"
            ],
            [
             0.1,
             "#c51b7d"
            ],
            [
             0.2,
             "#de77ae"
            ],
            [
             0.3,
             "#f1b6da"
            ],
            [
             0.4,
             "#fde0ef"
            ],
            [
             0.5,
             "#f7f7f7"
            ],
            [
             0.6,
             "#e6f5d0"
            ],
            [
             0.7,
             "#b8e186"
            ],
            [
             0.8,
             "#7fbc41"
            ],
            [
             0.9,
             "#4d9221"
            ],
            [
             1,
             "#276419"
            ]
           ],
           "sequential": [
            [
             0,
             "#0d0887"
            ],
            [
             0.1111111111111111,
             "#46039f"
            ],
            [
             0.2222222222222222,
             "#7201a8"
            ],
            [
             0.3333333333333333,
             "#9c179e"
            ],
            [
             0.4444444444444444,
             "#bd3786"
            ],
            [
             0.5555555555555556,
             "#d8576b"
            ],
            [
             0.6666666666666666,
             "#ed7953"
            ],
            [
             0.7777777777777778,
             "#fb9f3a"
            ],
            [
             0.8888888888888888,
             "#fdca26"
            ],
            [
             1,
             "#f0f921"
            ]
           ],
           "sequentialminus": [
            [
             0,
             "#0d0887"
            ],
            [
             0.1111111111111111,
             "#46039f"
            ],
            [
             0.2222222222222222,
             "#7201a8"
            ],
            [
             0.3333333333333333,
             "#9c179e"
            ],
            [
             0.4444444444444444,
             "#bd3786"
            ],
            [
             0.5555555555555556,
             "#d8576b"
            ],
            [
             0.6666666666666666,
             "#ed7953"
            ],
            [
             0.7777777777777778,
             "#fb9f3a"
            ],
            [
             0.8888888888888888,
             "#fdca26"
            ],
            [
             1,
             "#f0f921"
            ]
           ]
          },
          "colorway": [
           "#636efa",
           "#EF553B",
           "#00cc96",
           "#ab63fa",
           "#FFA15A",
           "#19d3f3",
           "#FF6692",
           "#B6E880",
           "#FF97FF",
           "#FECB52"
          ],
          "font": {
           "color": "#2a3f5f"
          },
          "geo": {
           "bgcolor": "white",
           "lakecolor": "white",
           "landcolor": "#E5ECF6",
           "showlakes": true,
           "showland": true,
           "subunitcolor": "white"
          },
          "hoverlabel": {
           "align": "left"
          },
          "hovermode": "closest",
          "mapbox": {
           "style": "light"
          },
          "paper_bgcolor": "white",
          "plot_bgcolor": "#E5ECF6",
          "polar": {
           "angularaxis": {
            "gridcolor": "white",
            "linecolor": "white",
            "ticks": ""
           },
           "bgcolor": "#E5ECF6",
           "radialaxis": {
            "gridcolor": "white",
            "linecolor": "white",
            "ticks": ""
           }
          },
          "scene": {
           "xaxis": {
            "backgroundcolor": "#E5ECF6",
            "gridcolor": "white",
            "gridwidth": 2,
            "linecolor": "white",
            "showbackground": true,
            "ticks": "",
            "zerolinecolor": "white"
           },
           "yaxis": {
            "backgroundcolor": "#E5ECF6",
            "gridcolor": "white",
            "gridwidth": 2,
            "linecolor": "white",
            "showbackground": true,
            "ticks": "",
            "zerolinecolor": "white"
           },
           "zaxis": {
            "backgroundcolor": "#E5ECF6",
            "gridcolor": "white",
            "gridwidth": 2,
            "linecolor": "white",
            "showbackground": true,
            "ticks": "",
            "zerolinecolor": "white"
           }
          },
          "shapedefaults": {
           "line": {
            "color": "#2a3f5f"
           }
          },
          "ternary": {
           "aaxis": {
            "gridcolor": "white",
            "linecolor": "white",
            "ticks": ""
           },
           "baxis": {
            "gridcolor": "white",
            "linecolor": "white",
            "ticks": ""
           },
           "bgcolor": "#E5ECF6",
           "caxis": {
            "gridcolor": "white",
            "linecolor": "white",
            "ticks": ""
           }
          },
          "title": {
           "x": 0.05
          },
          "xaxis": {
           "automargin": true,
           "gridcolor": "white",
           "linecolor": "white",
           "ticks": "",
           "title": {
            "standoff": 15
           },
           "zerolinecolor": "white",
           "zerolinewidth": 2
          },
          "yaxis": {
           "automargin": true,
           "gridcolor": "white",
           "linecolor": "white",
           "ticks": "",
           "title": {
            "standoff": 15
           },
           "zerolinecolor": "white",
           "zerolinewidth": 2
          }
         }
        },
        "title": {
         "text": "Mt Bruno Elevation"
        },
        "width": 500
       }
      }
     },
     "metadata": {},
     "output_type": "display_data"
    }
   ],
   "source": [
    "import plotly.graph_objects as go\n",
    "\n",
    "import pandas as pd\n",
    "\n",
    "# Read data from a csv\n",
    "\n",
    "fig = go.Figure(data=[go.Surface(z=chm)])\n",
    "\n",
    "fig.update_layout(title='Mt Bruno Elevation', autosize=False,\n",
    "                  width=500, height=500,\n",
    "                  margin=dict(l=65, r=50, b=65, t=90))\n",
    "\n",
    "fig.show()"
   ]
  }
 ],
 "metadata": {
  "kernelspec": {
   "display_name": "Python 3.9.12 ('base')",
   "language": "python",
   "name": "python3"
  },
  "language_info": {
   "codemirror_mode": {
    "name": "ipython",
    "version": 3
   },
   "file_extension": ".py",
   "mimetype": "text/x-python",
   "name": "python",
   "nbconvert_exporter": "python",
   "pygments_lexer": "ipython3",
   "version": "3.9.12"
  },
  "orig_nbformat": 4,
  "vscode": {
   "interpreter": {
    "hash": "098abfbdda89cc068fc5a24c70b28519776b65016448753c248b3e3ae6b6b2c3"
   }
  }
 },
 "nbformat": 4,
 "nbformat_minor": 2
}
